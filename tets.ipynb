{
 "cells": [
  {
   "cell_type": "code",
   "execution_count": 1,
   "metadata": {},
   "outputs": [
    {
     "name": "stdout",
     "output_type": "stream",
     "text": [
      "Using matplotlib backend: Qt5Agg\n",
      "Populating the interactive namespace from numpy and matplotlib\n"
     ]
    }
   ],
   "source": [
    "%pylab"
   ]
  },
  {
   "cell_type": "code",
   "execution_count": 2,
   "metadata": {},
   "outputs": [],
   "source": [
    "[sv, frqNum, dne,\n",
    "tk, tb, health, age, flags,\n",
    "rx, ry, rz, vx, vy, vz, wx, wy, wz,\n",
    "tauSys, tau, gamma] = [22, -3, 747, 45000, 45900, 0, 0, 141, \n",
    "                      23553.6318359375, 9637.99951171875, 2603.29443359375,\n",
    "                      0.404089927673340,  -0.027100563049316,  -3.548269271850586,\n",
    "                      0.000000002793968, 0.000000002793968,  0.000000001862645,\n",
    "                      -0.000000183470547,  -0.000110683962703, 0.000000000001819]\n",
    "time = 45468\n",
    "PDj = 0.072475022502641\n",
    "\n",
    "Tj = (time - PDj) % 604800\n",
    "\n",
    "T_mdv = Tj + tau - gamma * (Tj - tb) + tauSys\n",
    "\n",
    "mu = 398600.44\n",
    "Re = 6378.136\n",
    "C20 = -1082.63e-6\n",
    "Wz = 0.7292115e-4#*180/(2*np.pi)"
   ]
  },
  {
   "cell_type": "code",
   "execution_count": 3,
   "metadata": {},
   "outputs": [],
   "source": [
    "def rungekut(s,h):\n",
    "    arg = s\n",
    "    k1 = h * f(arg)\n",
    "    print('k1 ', k1)\n",
    "    arg = s + 0.5 * k1\n",
    "    k2 = h * f(arg)\n",
    "    print('k2 ', k2)\n",
    "    arg = s + 0.5 * k2\n",
    "    k3 = h * f(arg)\n",
    "    print('k3 ', k3)\n",
    "    arg = s + k3\n",
    "    k4 = h * f(arg)\n",
    "    print('k4 ', k4)\n",
    "    ds = (1/6)*(k1 + 2*k2 + 2*k3 + k4)\n",
    "    print('ds ', ds, '\\n')\n",
    "    return s+ds  \n",
    "\n",
    "def f(arg):\n",
    "    r = np.sqrt(arg[0]*arg[0] + arg[1]*arg[1] + arg[2]*arg[2])\n",
    "    A = mu/(r**3)\n",
    "    return np.array([\n",
    "    arg[3],\n",
    "    arg[4],\n",
    "    arg[5],\n",
    "    (Wz**2 - A)*arg[0] + 2*Wz*arg[4] + (3/2)*C20*((mu*Re**2)/r**5)*arg[0]*(1 - (5*arg[2]**2)/r**2) + wx,\n",
    "    (wz**2 - A)*arg[1] - 2*Wz*arg[3] + (3/2)*C20*((mu*Re**2)/r**5)*arg[1]*(1 - (5*arg[2]**2)/r**2) + wy,\n",
    "    (-A)*arg[2] +                      (3/2)*C20*((mu*Re**2)/r**5)*arg[2]*(3 - (5*arg[2]**2)/r**2) + wz  \n",
    "]) "
   ]
  },
  {
   "cell_type": "code",
   "execution_count": 7,
   "metadata": {},
   "outputs": [],
   "source": [
    "h = 60"
   ]
  },
  {
   "cell_type": "code",
   "execution_count": 9,
   "metadata": {},
   "outputs": [
    {
     "data": {
      "text/plain": [
       "array([ 4.04089928e-01, -2.71005630e-02, -3.54826927e+00, -5.64778959e-04,\n",
       "       -2.88418487e-04, -6.19970110e-05])"
      ]
     },
     "execution_count": 9,
     "metadata": {},
     "output_type": "execute_result"
    }
   ],
   "source": [
    "f()"
   ]
  },
  {
   "cell_type": "code",
   "execution_count": 11,
   "metadata": {},
   "outputs": [],
   "source": [
    "arg = np.array([rx, ry, rz, vx, vy, vz])"
   ]
  },
  {
   "cell_type": "code",
   "execution_count": 12,
   "metadata": {},
   "outputs": [],
   "source": [
    "k1 = h * f(arg)"
   ]
  },
  {
   "cell_type": "code",
   "execution_count": 13,
   "metadata": {},
   "outputs": [
    {
     "data": {
      "text/plain": [
       "array([ 2.42453957e+01, -1.62603378e+00, -2.12896156e+02, -3.38867375e-02,\n",
       "       -1.73051092e-02, -3.71982066e-03])"
      ]
     },
     "execution_count": 13,
     "metadata": {},
     "output_type": "execute_result"
    }
   ],
   "source": [
    "k1"
   ]
  },
  {
   "cell_type": "code",
   "execution_count": null,
   "metadata": {},
   "outputs": [],
   "source": [
    "if T_mdv < 0:\n",
    "    T_mdv += 86400\n",
    "\n",
    "S,tt = [[rx, ry, rz, vx, vy, vz]],[]\n",
    "#print(S)\n",
    "\n",
    "t_s,t_e = tb, T_mdv\n",
    "if tb < T_mdv:\n",
    "    h = 50\n",
    "else:\n",
    "    h = -50\n",
    "    \n",
    "while t_s != t_e:\n",
    "    if abs(t_e - t_s) < abs(h):\n",
    "        h = t_e - t_s\n",
    "    t_s += h\n",
    "    tt.append(h)\n",
    "    S.append([*rungekut(np.array(S[-1]),h)])\n",
    "    #print(S[-1])\n",
    "\n",
    "X_,Y_,Z_,vX,vY,vZ = S[-1]"
   ]
  },
  {
   "cell_type": "code",
   "execution_count": null,
   "metadata": {},
   "outputs": [],
   "source": [
    "# def StatusGPS(sys, sys0,  x0 = 0, y0 = 0, z0 = 0):\n",
    "#     Status = []\n",
    "#     for epoch in tnrange(len(sys)):\n",
    "#         stat = []\n",
    "#         #rt = int((sys[epoch]['RT'].tod[0]*1e-3)%86400)\n",
    "#         rt = sys[epoch]['RT']\n",
    "#         pv = B1[epoch]['receiver']\n",
    "#         sats = sys0[epoch]#['pseudo_params']\n",
    "#         for sat in sats:\n",
    "#             if sat.sv in EphemerisGE.keys():\n",
    "#                 cur_eph = EphemerisGE[sat.sv]\n",
    "#                 X,Y,Z = Uchet(*gps_coord(rt, cur_eph, sat.pr), pv.x, pv.y, pv.z)\n",
    "#                 az, el = np.arctan2(X,Y)*180/np.pi, np.arctan2(Z,Y)*180/np.pi\n",
    "#                 R = fR( X-(pv.x+x0), Y-(pv.y+y0), Z-(pv.z+z0) )\n",
    "#                 stat.append(status(rt,sat.sv,X,Y,Z,pv.x+x0,pv.y+y0,pv.z+z0, R,(sat.cp),sat.pr, az, el))\n",
    "#             else:\n",
    "#                 stat.append(status(rt,sat.sv,0,0,0,pv.x+x0,pv.y+y0,pv.z+z0, 0,(sat.cp),sat.pr, 0, 0))\n",
    "#         Status.append({rec.sv: rec for rec in stat})\n",
    "#     return Status\n",
    "\n",
    "# def StatusGLN(sys, sys0,  x0 = 0, y0 = 0, z0 = 0):\n",
    "#     Status = []\n",
    "#     for epoch in tnrange(len(sys)):\n",
    "#         stat = []\n",
    "#         #rt = int((sys[epoch]['RT'].tod[0]*1e-3)%86400)\n",
    "#         rt = sys[epoch]['RT']\n",
    "#         pv = B1[epoch]['receiver']\n",
    "#         sats = sys0[epoch]#['pseudo_params']\n",
    "#         for sat in sats:\n",
    "#             if sat.sv in EphemerisNE.keys():\n",
    "#                 cur_eph = EphemerisNE[sat.sv]\n",
    "#                 X,Y,Z = Uchet(*gln_coord(rt, cur_eph, sat.pr), pv.x, pv.y, pv.z)\n",
    "#                 az, el = np.arctan2(X,Y)*180/np.pi, np.arctan2(Z,Y)*180/np.pi\n",
    "#                 R = fR( X-(pv.x+x0), Y-(pv.y+y0), Z-(pv.z+z0) )\n",
    "#                 stat.append(status(rt,sat.sv,X,Y,Z,pv.x+x0,pv.y+y0,pv.z+z0, R,(sat.cp),sat.pr, az, el))\n",
    "#             else:\n",
    "#                 stat.append(status(rt,sat.sv,0,0,0,pv.x+x0,pv.y+y0,pv.z+z0, 0,(sat.cp),sat.pr, 0, 0))\n",
    "#         Status.append({rec.sv: rec for rec in stat})\n",
    "#     return Status"
   ]
  },
  {
   "cell_type": "code",
   "execution_count": 2,
   "metadata": {},
   "outputs": [],
   "source": [
    "import win32com.client\n",
    "\n",
    "h = win32com.client.Dispatch('matlab.application')"
   ]
  },
  {
   "cell_type": "code",
   "execution_count": 3,
   "metadata": {},
   "outputs": [
    {
     "data": {
      "text/plain": [
       "''"
      ]
     },
     "execution_count": 3,
     "metadata": {},
     "output_type": "execute_result"
    }
   ],
   "source": [
    "h.Execute (\"plot([0 18], [7 23])\")"
   ]
  },
  {
   "cell_type": "code",
   "execution_count": 5,
   "metadata": {},
   "outputs": [
    {
     "data": {
      "text/plain": [
       "\"??? Undefined function or variable 'Exam_Cholessky'.\\n\\n\""
      ]
     },
     "execution_count": 5,
     "metadata": {},
     "output_type": "execute_result"
    }
   ],
   "source": [
    "h.Execute(\"Exam_Cholessky\")"
   ]
  },
  {
   "cell_type": "code",
   "execution_count": 7,
   "metadata": {},
   "outputs": [
    {
     "ename": "ModuleNotFoundError",
     "evalue": "No module named 'matlab'",
     "output_type": "error",
     "traceback": [
      "\u001b[1;31m---------------------------------------------------------------------------\u001b[0m",
      "\u001b[1;31mModuleNotFoundError\u001b[0m                       Traceback (most recent call last)",
      "\u001b[1;32m<ipython-input-7-754f7d50ef2a>\u001b[0m in \u001b[0;36m<module>\u001b[1;34m()\u001b[0m\n\u001b[1;32m----> 1\u001b[1;33m \u001b[1;32mimport\u001b[0m \u001b[0mmatlab\u001b[0m\u001b[1;33m.\u001b[0m\u001b[0mengine\u001b[0m\u001b[1;33m\u001b[0m\u001b[0m\n\u001b[0m",
      "\u001b[1;31mModuleNotFoundError\u001b[0m: No module named 'matlab'"
     ]
    }
   ],
   "source": [
    "import matlab.engine"
   ]
  },
  {
   "cell_type": "code",
   "execution_count": null,
   "metadata": {},
   "outputs": [],
   "source": [
    "# Rc = lambda epoch, sv: Rgps[epoch][sv].R\n",
    "# Rb = lambda epoch, sv: Bgps[epoch][sv].R\n",
    "# pa = lambda epoch, sv: Rgps[epoch][sv].pr*C\n",
    "# pb = lambda epoch, sv: Bgps[epoch][sv].pr*C\n",
    "# fia = lambda epoch, sv: Rgps[epoch][sv].cp\n",
    "# fib = lambda epoch, sv: Bgps[epoch][sv].cp\n",
    "# qfia = lambda ts, te, sv : fia(te, sv) - fia(ts, sv)\n",
    "# qfib = lambda ts, te, sv : fib(te, sv) - fib(ts, sv)\n",
    "\n",
    "# dp = lambda sv, epoch: pa(epoch, sv) - pb(epoch, sv)\n",
    "# dfi = lambda sv, epoch: fia(epoch, sv) - fib(epoch, sv)\n",
    "# dqfi = lambda sv, epoch: qfia(ts, te, sv) - qfib(ts, te, sv)\n",
    "# dR = lambda sv, epoch: Rc(epoch, sv) - Rb(epoch, sv) - Rc(epoch, el) + Rb(epoch, el)\n",
    "# dqR = lambda sv, te, ts: Rc(te, sv) - Rb(te, sv) - Rc(ts, sv) + Rb(ts, sv)\n",
    "\n",
    "\n",
    "# hx =  lambda epoch, sv: (Rgps[epoch][sv].X -  Rgps[epoch][sv].x) / Rc(epoch, sv)\n",
    "# hy =  lambda epoch, sv: (Rgps[epoch][sv].Y -  Rgps[epoch][sv].y) / Rc(epoch, sv)\n",
    "# hz =  lambda epoch, sv: (Rgps[epoch][sv].Z -  Rgps[epoch][sv].z) / Rc(epoch, sv)\n",
    "\n",
    "# # d = figure(width = 800, plot_height = 200,)\n",
    "# # d.line(Range, [dR(sv, ep)  - ddp[sv] for ep in Range])\n",
    "# # d.line(Range, [dqR(sv, ep) - dqR(el, ep) - ddqfi[sv] for ep in Range])\n",
    "# # d.line(Range, [dR(sv, ep) / lam - ddfi[sv] for ep in Range])\n",
    "# # show(d)\n",
    "\n",
    "# ddqfi = {sv: lam*(dqfi(sv, te) - dqfi(el, te)) for sv in sv_gps0}\n",
    "\n",
    "# ddfi = {sv: dfi(sv, te) - dfi(el, te) for sv in sv_gps0}\n",
    "\n",
    "# ddp = {sv: dp(sv, te) - dp(el, te) for sv in sv_gps0}\n",
    "\n",
    "# Yp_GP = np.matrix([dR(sv, te)  - ddp[sv] for sv in sv_gps0 if sv!= el]).T\n",
    "\n",
    "# HYp = np.matrix([(hx(te, sv) - hx(te, el),\n",
    "#                    hy(te, sv) - hy(te, el),\n",
    "#                    hz(te, sv) - hz(te, el)) for sv in sv_gps0 if sv != el])\n",
    "\n",
    "# Yqfi_GP = np.matrix([dqR(sv, te, ts) - dqR(el, te, ts) - ddqfi[sv] for sv in sv_gps0 if sv!= el]).T\n",
    "\n",
    "# HYqfix = [ hx(te, sv) - hx(ts, sv) - hx(te, el) + hx(ts, el)  for sv in sv_gps0 if sv != el]\n",
    "# HYqfiy = [ hy(te, sv) - hy(ts, sv) - hy(te, el) + hy(ts, el)  for sv in sv_gps0 if sv != el]\n",
    "# HYqfiz = [ hz(te, sv) - hz(ts, sv) - hz(te, el) + hz(ts, el)  for sv in sv_gps0 if sv != el]\n",
    "\n",
    "# HYqfi = np.matrix([*zip(HYqfix, HYqfiy, HYqfiz)])\n",
    "\n",
    "# fi_GP =  np.matrix([dR(sv, te) / lam - ddfi[sv] for sv in sv_gps0 if sv!= el]).T\n",
    "\n",
    "# Hfi_GP = HYp / lam\n",
    "\n",
    "# Y_GP = np.concatenate((Yp_GP, Yqfi_GP), axis = 0)\n",
    "# H_GP = np.concatenate((HYp, HYqfi, Hfi_GP), axis = 0)\n",
    "\n",
    "# ddx, ddy, ddz = Rgps[te][sv].x - Bgps[te][sv].x, Rgps[te][sv].y - Bgps[te][sv].y, Rgps[te][sv].z - Bgps[te][sv].z\n",
    "\n",
    "# dTetta = np.matrix([ddx, ddy, ddz]).T\n",
    "\n",
    "# sv_gps0\n",
    "\n",
    "# print(np.abs(Y_GP - (H_GP * dTetta)[:2*(JGP-1)])[-(JGP-1):])\n",
    "\n",
    "# print(np.abs( fi_GP - Hfi_GP * (dTetta) ))"
   ]
  }
 ],
 "metadata": {
  "kernelspec": {
   "display_name": "Python 3",
   "language": "python",
   "name": "python3"
  },
  "language_info": {
   "codemirror_mode": {
    "name": "ipython",
    "version": 3
   },
   "file_extension": ".py",
   "mimetype": "text/x-python",
   "name": "python",
   "nbconvert_exporter": "python",
   "pygments_lexer": "ipython3",
   "version": "3.6.5"
  }
 },
 "nbformat": 4,
 "nbformat_minor": 2
}
