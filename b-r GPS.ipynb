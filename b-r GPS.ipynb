{
 "cells": [
  {
   "cell_type": "code",
   "execution_count": 1,
   "metadata": {},
   "outputs": [
    {
     "name": "stdout",
     "output_type": "stream",
     "text": [
      "Using matplotlib backend: Qt5Agg\n",
      "Populating the interactive namespace from numpy and matplotlib\n"
     ]
    }
   ],
   "source": [
    "from collections import namedtuple\n",
    "\n",
    "import itertools as itt\n",
    "from tqdm import tnrange,tqdm_notebook\n",
    "\n",
    "from ipywidgets import interact\n",
    "\n",
    "from funcs import gps_coord, gln_coord, get_epoch_array, file_byte_iterator,  filter_epoch, general_parser, map_rec, Uchet\n",
    "\n",
    "%pylab"
   ]
  },
  {
   "cell_type": "code",
   "execution_count": 2,
   "metadata": {},
   "outputs": [
    {
     "data": {
      "text/html": [
       "\n",
       "    <div class=\"bk-root\">\n",
       "        <a href=\"https://bokeh.pydata.org\" target=\"_blank\" class=\"bk-logo bk-logo-small bk-logo-notebook\"></a>\n",
       "        <span id=\"1001\">Loading BokehJS ...</span>\n",
       "    </div>"
      ]
     },
     "metadata": {},
     "output_type": "display_data"
    },
    {
     "data": {
      "application/javascript": [
       "\n",
       "(function(root) {\n",
       "  function now() {\n",
       "    return new Date();\n",
       "  }\n",
       "\n",
       "  var force = true;\n",
       "\n",
       "  if (typeof (root._bokeh_onload_callbacks) === \"undefined\" || force === true) {\n",
       "    root._bokeh_onload_callbacks = [];\n",
       "    root._bokeh_is_loading = undefined;\n",
       "  }\n",
       "\n",
       "  var JS_MIME_TYPE = 'application/javascript';\n",
       "  var HTML_MIME_TYPE = 'text/html';\n",
       "  var EXEC_MIME_TYPE = 'application/vnd.bokehjs_exec.v0+json';\n",
       "  var CLASS_NAME = 'output_bokeh rendered_html';\n",
       "\n",
       "  /**\n",
       "   * Render data to the DOM node\n",
       "   */\n",
       "  function render(props, node) {\n",
       "    var script = document.createElement(\"script\");\n",
       "    node.appendChild(script);\n",
       "  }\n",
       "\n",
       "  /**\n",
       "   * Handle when an output is cleared or removed\n",
       "   */\n",
       "  function handleClearOutput(event, handle) {\n",
       "    var cell = handle.cell;\n",
       "\n",
       "    var id = cell.output_area._bokeh_element_id;\n",
       "    var server_id = cell.output_area._bokeh_server_id;\n",
       "    // Clean up Bokeh references\n",
       "    if (id != null && id in Bokeh.index) {\n",
       "      Bokeh.index[id].model.document.clear();\n",
       "      delete Bokeh.index[id];\n",
       "    }\n",
       "\n",
       "    if (server_id !== undefined) {\n",
       "      // Clean up Bokeh references\n",
       "      var cmd = \"from bokeh.io.state import curstate; print(curstate().uuid_to_server['\" + server_id + \"'].get_sessions()[0].document.roots[0]._id)\";\n",
       "      cell.notebook.kernel.execute(cmd, {\n",
       "        iopub: {\n",
       "          output: function(msg) {\n",
       "            var id = msg.content.text.trim();\n",
       "            if (id in Bokeh.index) {\n",
       "              Bokeh.index[id].model.document.clear();\n",
       "              delete Bokeh.index[id];\n",
       "            }\n",
       "          }\n",
       "        }\n",
       "      });\n",
       "      // Destroy server and session\n",
       "      var cmd = \"import bokeh.io.notebook as ion; ion.destroy_server('\" + server_id + \"')\";\n",
       "      cell.notebook.kernel.execute(cmd);\n",
       "    }\n",
       "  }\n",
       "\n",
       "  /**\n",
       "   * Handle when a new output is added\n",
       "   */\n",
       "  function handleAddOutput(event, handle) {\n",
       "    var output_area = handle.output_area;\n",
       "    var output = handle.output;\n",
       "\n",
       "    // limit handleAddOutput to display_data with EXEC_MIME_TYPE content only\n",
       "    if ((output.output_type != \"display_data\") || (!output.data.hasOwnProperty(EXEC_MIME_TYPE))) {\n",
       "      return\n",
       "    }\n",
       "\n",
       "    var toinsert = output_area.element.find(\".\" + CLASS_NAME.split(' ')[0]);\n",
       "\n",
       "    if (output.metadata[EXEC_MIME_TYPE][\"id\"] !== undefined) {\n",
       "      toinsert[toinsert.length - 1].firstChild.textContent = output.data[JS_MIME_TYPE];\n",
       "      // store reference to embed id on output_area\n",
       "      output_area._bokeh_element_id = output.metadata[EXEC_MIME_TYPE][\"id\"];\n",
       "    }\n",
       "    if (output.metadata[EXEC_MIME_TYPE][\"server_id\"] !== undefined) {\n",
       "      var bk_div = document.createElement(\"div\");\n",
       "      bk_div.innerHTML = output.data[HTML_MIME_TYPE];\n",
       "      var script_attrs = bk_div.children[0].attributes;\n",
       "      for (var i = 0; i < script_attrs.length; i++) {\n",
       "        toinsert[toinsert.length - 1].firstChild.setAttribute(script_attrs[i].name, script_attrs[i].value);\n",
       "      }\n",
       "      // store reference to server id on output_area\n",
       "      output_area._bokeh_server_id = output.metadata[EXEC_MIME_TYPE][\"server_id\"];\n",
       "    }\n",
       "  }\n",
       "\n",
       "  function register_renderer(events, OutputArea) {\n",
       "\n",
       "    function append_mime(data, metadata, element) {\n",
       "      // create a DOM node to render to\n",
       "      var toinsert = this.create_output_subarea(\n",
       "        metadata,\n",
       "        CLASS_NAME,\n",
       "        EXEC_MIME_TYPE\n",
       "      );\n",
       "      this.keyboard_manager.register_events(toinsert);\n",
       "      // Render to node\n",
       "      var props = {data: data, metadata: metadata[EXEC_MIME_TYPE]};\n",
       "      render(props, toinsert[toinsert.length - 1]);\n",
       "      element.append(toinsert);\n",
       "      return toinsert\n",
       "    }\n",
       "\n",
       "    /* Handle when an output is cleared or removed */\n",
       "    events.on('clear_output.CodeCell', handleClearOutput);\n",
       "    events.on('delete.Cell', handleClearOutput);\n",
       "\n",
       "    /* Handle when a new output is added */\n",
       "    events.on('output_added.OutputArea', handleAddOutput);\n",
       "\n",
       "    /**\n",
       "     * Register the mime type and append_mime function with output_area\n",
       "     */\n",
       "    OutputArea.prototype.register_mime_type(EXEC_MIME_TYPE, append_mime, {\n",
       "      /* Is output safe? */\n",
       "      safe: true,\n",
       "      /* Index of renderer in `output_area.display_order` */\n",
       "      index: 0\n",
       "    });\n",
       "  }\n",
       "\n",
       "  // register the mime type if in Jupyter Notebook environment and previously unregistered\n",
       "  if (root.Jupyter !== undefined) {\n",
       "    var events = require('base/js/events');\n",
       "    var OutputArea = require('notebook/js/outputarea').OutputArea;\n",
       "\n",
       "    if (OutputArea.prototype.mime_types().indexOf(EXEC_MIME_TYPE) == -1) {\n",
       "      register_renderer(events, OutputArea);\n",
       "    }\n",
       "  }\n",
       "\n",
       "  \n",
       "  if (typeof (root._bokeh_timeout) === \"undefined\" || force === true) {\n",
       "    root._bokeh_timeout = Date.now() + 5000;\n",
       "    root._bokeh_failed_load = false;\n",
       "  }\n",
       "\n",
       "  var NB_LOAD_WARNING = {'data': {'text/html':\n",
       "     \"<div style='background-color: #fdd'>\\n\"+\n",
       "     \"<p>\\n\"+\n",
       "     \"BokehJS does not appear to have successfully loaded. If loading BokehJS from CDN, this \\n\"+\n",
       "     \"may be due to a slow or bad network connection. Possible fixes:\\n\"+\n",
       "     \"</p>\\n\"+\n",
       "     \"<ul>\\n\"+\n",
       "     \"<li>re-rerun `output_notebook()` to attempt to load from CDN again, or</li>\\n\"+\n",
       "     \"<li>use INLINE resources instead, as so:</li>\\n\"+\n",
       "     \"</ul>\\n\"+\n",
       "     \"<code>\\n\"+\n",
       "     \"from bokeh.resources import INLINE\\n\"+\n",
       "     \"output_notebook(resources=INLINE)\\n\"+\n",
       "     \"</code>\\n\"+\n",
       "     \"</div>\"}};\n",
       "\n",
       "  function display_loaded() {\n",
       "    var el = document.getElementById(\"1001\");\n",
       "    if (el != null) {\n",
       "      el.textContent = \"BokehJS is loading...\";\n",
       "    }\n",
       "    if (root.Bokeh !== undefined) {\n",
       "      if (el != null) {\n",
       "        el.textContent = \"BokehJS \" + root.Bokeh.version + \" successfully loaded.\";\n",
       "      }\n",
       "    } else if (Date.now() < root._bokeh_timeout) {\n",
       "      setTimeout(display_loaded, 100)\n",
       "    }\n",
       "  }\n",
       "\n",
       "\n",
       "  function run_callbacks() {\n",
       "    try {\n",
       "      root._bokeh_onload_callbacks.forEach(function(callback) { callback() });\n",
       "    }\n",
       "    finally {\n",
       "      delete root._bokeh_onload_callbacks\n",
       "    }\n",
       "    console.info(\"Bokeh: all callbacks have finished\");\n",
       "  }\n",
       "\n",
       "  function load_libs(js_urls, callback) {\n",
       "    root._bokeh_onload_callbacks.push(callback);\n",
       "    if (root._bokeh_is_loading > 0) {\n",
       "      console.log(\"Bokeh: BokehJS is being loaded, scheduling callback at\", now());\n",
       "      return null;\n",
       "    }\n",
       "    if (js_urls == null || js_urls.length === 0) {\n",
       "      run_callbacks();\n",
       "      return null;\n",
       "    }\n",
       "    console.log(\"Bokeh: BokehJS not loaded, scheduling load and callback at\", now());\n",
       "    root._bokeh_is_loading = js_urls.length;\n",
       "    for (var i = 0; i < js_urls.length; i++) {\n",
       "      var url = js_urls[i];\n",
       "      var s = document.createElement('script');\n",
       "      s.src = url;\n",
       "      s.async = false;\n",
       "      s.onreadystatechange = s.onload = function() {\n",
       "        root._bokeh_is_loading--;\n",
       "        if (root._bokeh_is_loading === 0) {\n",
       "          console.log(\"Bokeh: all BokehJS libraries loaded\");\n",
       "          run_callbacks()\n",
       "        }\n",
       "      };\n",
       "      s.onerror = function() {\n",
       "        console.warn(\"failed to load library \" + url);\n",
       "      };\n",
       "      console.log(\"Bokeh: injecting script tag for BokehJS library: \", url);\n",
       "      document.getElementsByTagName(\"head\")[0].appendChild(s);\n",
       "    }\n",
       "  };var element = document.getElementById(\"1001\");\n",
       "  if (element == null) {\n",
       "    console.log(\"Bokeh: ERROR: autoload.js configured with elementid '1001' but no matching script tag was found. \")\n",
       "    return false;\n",
       "  }\n",
       "\n",
       "  var js_urls = [\"https://cdn.pydata.org/bokeh/release/bokeh-1.0.1.min.js\", \"https://cdn.pydata.org/bokeh/release/bokeh-widgets-1.0.1.min.js\", \"https://cdn.pydata.org/bokeh/release/bokeh-tables-1.0.1.min.js\", \"https://cdn.pydata.org/bokeh/release/bokeh-gl-1.0.1.min.js\"];\n",
       "\n",
       "  var inline_js = [\n",
       "    function(Bokeh) {\n",
       "      Bokeh.set_log_level(\"info\");\n",
       "    },\n",
       "    \n",
       "    function(Bokeh) {\n",
       "      \n",
       "    },\n",
       "    function(Bokeh) {\n",
       "      console.log(\"Bokeh: injecting CSS: https://cdn.pydata.org/bokeh/release/bokeh-1.0.1.min.css\");\n",
       "      Bokeh.embed.inject_css(\"https://cdn.pydata.org/bokeh/release/bokeh-1.0.1.min.css\");\n",
       "      console.log(\"Bokeh: injecting CSS: https://cdn.pydata.org/bokeh/release/bokeh-widgets-1.0.1.min.css\");\n",
       "      Bokeh.embed.inject_css(\"https://cdn.pydata.org/bokeh/release/bokeh-widgets-1.0.1.min.css\");\n",
       "      console.log(\"Bokeh: injecting CSS: https://cdn.pydata.org/bokeh/release/bokeh-tables-1.0.1.min.css\");\n",
       "      Bokeh.embed.inject_css(\"https://cdn.pydata.org/bokeh/release/bokeh-tables-1.0.1.min.css\");\n",
       "    }\n",
       "  ];\n",
       "\n",
       "  function run_inline_js() {\n",
       "    \n",
       "    if ((root.Bokeh !== undefined) || (force === true)) {\n",
       "      for (var i = 0; i < inline_js.length; i++) {\n",
       "        inline_js[i].call(root, root.Bokeh);\n",
       "      }if (force === true) {\n",
       "        display_loaded();\n",
       "      }} else if (Date.now() < root._bokeh_timeout) {\n",
       "      setTimeout(run_inline_js, 100);\n",
       "    } else if (!root._bokeh_failed_load) {\n",
       "      console.log(\"Bokeh: BokehJS failed to load within specified timeout.\");\n",
       "      root._bokeh_failed_load = true;\n",
       "    } else if (force !== true) {\n",
       "      var cell = $(document.getElementById(\"1001\")).parents('.cell').data().cell;\n",
       "      cell.output_area.append_execute_result(NB_LOAD_WARNING)\n",
       "    }\n",
       "\n",
       "  }\n",
       "\n",
       "  if (root._bokeh_is_loading === 0) {\n",
       "    console.log(\"Bokeh: BokehJS loaded, going straight to plotting\");\n",
       "    run_inline_js();\n",
       "  } else {\n",
       "    load_libs(js_urls, function() {\n",
       "      console.log(\"Bokeh: BokehJS plotting callback run at\", now());\n",
       "      run_inline_js();\n",
       "    });\n",
       "  }\n",
       "}(window));"
      ],
      "application/vnd.bokehjs_load.v0+json": "\n(function(root) {\n  function now() {\n    return new Date();\n  }\n\n  var force = true;\n\n  if (typeof (root._bokeh_onload_callbacks) === \"undefined\" || force === true) {\n    root._bokeh_onload_callbacks = [];\n    root._bokeh_is_loading = undefined;\n  }\n\n  \n\n  \n  if (typeof (root._bokeh_timeout) === \"undefined\" || force === true) {\n    root._bokeh_timeout = Date.now() + 5000;\n    root._bokeh_failed_load = false;\n  }\n\n  var NB_LOAD_WARNING = {'data': {'text/html':\n     \"<div style='background-color: #fdd'>\\n\"+\n     \"<p>\\n\"+\n     \"BokehJS does not appear to have successfully loaded. If loading BokehJS from CDN, this \\n\"+\n     \"may be due to a slow or bad network connection. Possible fixes:\\n\"+\n     \"</p>\\n\"+\n     \"<ul>\\n\"+\n     \"<li>re-rerun `output_notebook()` to attempt to load from CDN again, or</li>\\n\"+\n     \"<li>use INLINE resources instead, as so:</li>\\n\"+\n     \"</ul>\\n\"+\n     \"<code>\\n\"+\n     \"from bokeh.resources import INLINE\\n\"+\n     \"output_notebook(resources=INLINE)\\n\"+\n     \"</code>\\n\"+\n     \"</div>\"}};\n\n  function display_loaded() {\n    var el = document.getElementById(\"1001\");\n    if (el != null) {\n      el.textContent = \"BokehJS is loading...\";\n    }\n    if (root.Bokeh !== undefined) {\n      if (el != null) {\n        el.textContent = \"BokehJS \" + root.Bokeh.version + \" successfully loaded.\";\n      }\n    } else if (Date.now() < root._bokeh_timeout) {\n      setTimeout(display_loaded, 100)\n    }\n  }\n\n\n  function run_callbacks() {\n    try {\n      root._bokeh_onload_callbacks.forEach(function(callback) { callback() });\n    }\n    finally {\n      delete root._bokeh_onload_callbacks\n    }\n    console.info(\"Bokeh: all callbacks have finished\");\n  }\n\n  function load_libs(js_urls, callback) {\n    root._bokeh_onload_callbacks.push(callback);\n    if (root._bokeh_is_loading > 0) {\n      console.log(\"Bokeh: BokehJS is being loaded, scheduling callback at\", now());\n      return null;\n    }\n    if (js_urls == null || js_urls.length === 0) {\n      run_callbacks();\n      return null;\n    }\n    console.log(\"Bokeh: BokehJS not loaded, scheduling load and callback at\", now());\n    root._bokeh_is_loading = js_urls.length;\n    for (var i = 0; i < js_urls.length; i++) {\n      var url = js_urls[i];\n      var s = document.createElement('script');\n      s.src = url;\n      s.async = false;\n      s.onreadystatechange = s.onload = function() {\n        root._bokeh_is_loading--;\n        if (root._bokeh_is_loading === 0) {\n          console.log(\"Bokeh: all BokehJS libraries loaded\");\n          run_callbacks()\n        }\n      };\n      s.onerror = function() {\n        console.warn(\"failed to load library \" + url);\n      };\n      console.log(\"Bokeh: injecting script tag for BokehJS library: \", url);\n      document.getElementsByTagName(\"head\")[0].appendChild(s);\n    }\n  };var element = document.getElementById(\"1001\");\n  if (element == null) {\n    console.log(\"Bokeh: ERROR: autoload.js configured with elementid '1001' but no matching script tag was found. \")\n    return false;\n  }\n\n  var js_urls = [\"https://cdn.pydata.org/bokeh/release/bokeh-1.0.1.min.js\", \"https://cdn.pydata.org/bokeh/release/bokeh-widgets-1.0.1.min.js\", \"https://cdn.pydata.org/bokeh/release/bokeh-tables-1.0.1.min.js\", \"https://cdn.pydata.org/bokeh/release/bokeh-gl-1.0.1.min.js\"];\n\n  var inline_js = [\n    function(Bokeh) {\n      Bokeh.set_log_level(\"info\");\n    },\n    \n    function(Bokeh) {\n      \n    },\n    function(Bokeh) {\n      console.log(\"Bokeh: injecting CSS: https://cdn.pydata.org/bokeh/release/bokeh-1.0.1.min.css\");\n      Bokeh.embed.inject_css(\"https://cdn.pydata.org/bokeh/release/bokeh-1.0.1.min.css\");\n      console.log(\"Bokeh: injecting CSS: https://cdn.pydata.org/bokeh/release/bokeh-widgets-1.0.1.min.css\");\n      Bokeh.embed.inject_css(\"https://cdn.pydata.org/bokeh/release/bokeh-widgets-1.0.1.min.css\");\n      console.log(\"Bokeh: injecting CSS: https://cdn.pydata.org/bokeh/release/bokeh-tables-1.0.1.min.css\");\n      Bokeh.embed.inject_css(\"https://cdn.pydata.org/bokeh/release/bokeh-tables-1.0.1.min.css\");\n    }\n  ];\n\n  function run_inline_js() {\n    \n    if ((root.Bokeh !== undefined) || (force === true)) {\n      for (var i = 0; i < inline_js.length; i++) {\n        inline_js[i].call(root, root.Bokeh);\n      }if (force === true) {\n        display_loaded();\n      }} else if (Date.now() < root._bokeh_timeout) {\n      setTimeout(run_inline_js, 100);\n    } else if (!root._bokeh_failed_load) {\n      console.log(\"Bokeh: BokehJS failed to load within specified timeout.\");\n      root._bokeh_failed_load = true;\n    } else if (force !== true) {\n      var cell = $(document.getElementById(\"1001\")).parents('.cell').data().cell;\n      cell.output_area.append_execute_result(NB_LOAD_WARNING)\n    }\n\n  }\n\n  if (root._bokeh_is_loading === 0) {\n    console.log(\"Bokeh: BokehJS loaded, going straight to plotting\");\n    run_inline_js();\n  } else {\n    load_libs(js_urls, function() {\n      console.log(\"Bokeh: BokehJS plotting callback run at\", now());\n      run_inline_js();\n    });\n  }\n}(window));"
     },
     "metadata": {},
     "output_type": "display_data"
    }
   ],
   "source": [
    "from bokeh.plotting import figure, show, output_file\n",
    "from bokeh.io import output_notebook\n",
    "from bokeh.palettes import Category10\n",
    "from scipy import signal\n",
    "import scipy.io as io\n",
    "from bokeh.transform import jitter\n",
    "TOOLS = \"pan,wheel_zoom,box_zoom,reset,box_select,lasso_select, save\"\n",
    "output_notebook()\n",
    "#output_file('html/b1_{}.html'.format(filename[5:7]))"
   ]
  },
  {
   "cell_type": "code",
   "execution_count": 3,
   "metadata": {},
   "outputs": [],
   "source": [
    "import matplotlib.pyplot as plt\n",
    "from mpl_toolkits.mplot3d import Axes3D\n",
    "from matplotlib.patches import FancyArrowPatch\n",
    "import numpy as np\n",
    "from mpl_toolkits.mplot3d import proj3d\n",
    "from itertools import product, combinations\n",
    "\n",
    "class Arrow3D(FancyArrowPatch):\n",
    "\n",
    "    def __init__(self, xs, ys, zs, *args, **kwargs):\n",
    "        FancyArrowPatch.__init__(self, (0, 0), (0, 0), *args, **kwargs)\n",
    "        self._verts3d = xs, ys, zs\n",
    "\n",
    "    def draw(self, renderer):\n",
    "        xs3d, ys3d, zs3d = self._verts3d\n",
    "        xs, ys, zs = proj3d.proj_transform(xs3d, ys3d, zs3d, renderer.M)\n",
    "        self.set_positions((xs[0], ys[0]), (xs[1], ys[1]))\n",
    "        FancyArrowPatch.draw(self, renderer)"
   ]
  },
  {
   "cell_type": "code",
   "execution_count": 4,
   "metadata": {},
   "outputs": [],
   "source": [
    "def get(filename, sv_arr):\n",
    "    data = bytes(file_byte_iterator(filename))\n",
    "    epoch_array = get_epoch_array(data)\n",
    "    req_ids = [b'~~', b'SI', b'AN', b'rc', b'pc', b'RC', b'PC', b'GE', b'PV', b'EL', b'AZ']\n",
    "    epoch_min_arr = [filter_epoch(req_ids, epoch) for epoch in epoch_array]\n",
    "\n",
    "    pseudo_params = namedtuple('pseudo_params', ['usi','cp', 'pr', 'elev'])\n",
    "    ephemerisGE = namedtuple('ephemerisGE', ['sv', 'tow', 'flags', \n",
    "                                 'iodc', 'toc', 'ura',\n",
    "                                 'healthS', 'wn', 'tgd', \n",
    "                                 'af2', 'af1', 'af0', 'toe', \n",
    "                                 'iode', 'rootA', 'ecc', 'm0', \n",
    "                                 'omega0', 'inc0', 'argPer', \n",
    "                                 'deln', 'omegaDot', 'incDot', \n",
    "                                 'crc', 'crs', 'cuc', 'cus', 'cic', 'cis'])\n",
    "\n",
    "    def pick_elem(dict):\n",
    "        return [dict[b'SI'].usi, dict[b'PC'].cp, dict[b'RC'].pr, dict[b'EL'].elev]\n",
    "\n",
    "    def process_epoch(epoch):\n",
    "        ep = [map_rec(general_parser(rec)) for rec in epoch]\n",
    "        ep_dict = {rec.id: rec for rec in ep}\n",
    "        processed_data = {\n",
    "            'RT': (ep_dict[b'~~'].tod[0]*1e-3)%86400,\n",
    "            'pseudo_params': [pseudo_params(usi, cp, pr, elev) for usi, cp, pr, elev in zip( *pick_elem(ep_dict) )],\n",
    "            'receiver': ep_dict[b'PV'],\n",
    "        }\n",
    "        if b'GE' in ep_dict:\n",
    "            processed_data['ephemerisGE'] = ep_dict[ b'GE']\n",
    "        return processed_data\n",
    "\n",
    "    sats_array = [process_epoch(epoch) for epoch in epoch_min_arr]\n",
    "    #sat_live = [[find_sat(sv, sats['pseudo_params']) for sv in sv_arr] for sats in sats_array]    \n",
    "    \n",
    "    return sats_array\n",
    "\n",
    "fR = lambda xr,yr,zr: np.sqrt((xr)**2+(yr)**2+(zr)**2)\n",
    "\n",
    "def sync(data, data1):\n",
    "    epoch = 0\n",
    "    X,Y = 0,0\n",
    "    if data[0]['RT'] > data1[0]['RT']:\n",
    "        while data[0]['RT'] != data1[epoch]['RT']:\n",
    "            epoch += 1\n",
    "        X,Y = data, data1[epoch:]\n",
    "    else:\n",
    "        while data1[0]['RT'] != data[epoch]['RT']:\n",
    "            epoch += 1\n",
    "        X,Y =  data[epoch:], data1\n",
    "    if len(X) > len(Y):\n",
    "        X = X[:len(Y)]\n",
    "    else:\n",
    "        Y = Y[:len(X)]\n",
    "    return X,Y"
   ]
  },
  {
   "cell_type": "code",
   "execution_count": 5,
   "metadata": {},
   "outputs": [],
   "source": [
    "pseudo_params = namedtuple('pseudo_params', ['usi','cp', 'pr', 'elev'])\n",
    "def find_sat(usi, sats):\n",
    "    return next((sat for sat in sats if (sat.usi == usi)), pseudo_params(usi, 0, 0, 0))\n",
    "def popr(filename):\n",
    "    if '1' in filename:\n",
    "        return 0.169, 0.829, -0.452  \n",
    "    elif '2' in filename:\n",
    "        return -0.642, 1.169, -0.139  \n",
    "    elif '3' in filename:\n",
    "        return -0.839, 0.351, 0.293  \n",
    "\n",
    "def select_eph(target, arr):\n",
    "    compare = lambda x: abs(target - x)\n",
    "    return sorted(arr, key=compare)[0]"
   ]
  },
  {
   "cell_type": "code",
   "execution_count": 6,
   "metadata": {},
   "outputs": [],
   "source": [
    "def StatusGPS(sys, sys0,x0 = 0, y0 = 0, z0 = 0, rec_mode = 0):\n",
    "    Status = []\n",
    "    for epoch in tnrange(len(sys0)):\n",
    "        stat = []\n",
    "        #rt = int((sys[epoch]['RT'].tod[0]*1e-3)%86400)\n",
    "        rt = sys[epoch]['RT']\n",
    "        pv = B1[0]['receiver']\n",
    "        sats = sys0[epoch]#['pseudo_params']\n",
    "        for usi in sv_gps:\n",
    "            if sats[usi].usi in EphemerisGE.keys():\n",
    "                cur_eph = EphemerisGE[sats[usi].usi]\n",
    "                X,Y,Z = Uchet(*gps_coord(rt, cur_eph, sats[usi].pr), pv.x+x0,pv.y+y0,pv.z+z0)\n",
    "                R = fR( X-(pv.x+x0), Y-(pv.y+y0), Z-(pv.z+z0) )\n",
    "                stat.append(status(rt, sats[usi].usi, sats[usi].usi, X,Y,Z,pv.x,pv.y,pv.z, R,(sats[usi].cp),sats[usi].pr, sats[usi].elev))\n",
    "            else:\n",
    "                stat.append(status(rt, sats[usi].usi, sats[usi].usi, 0,0,0,0,0,0, 0,(sats[usi].cp),sats[usi].pr, 0))\n",
    "        Status.append({rec.usi: rec for rec in stat if rec.X != 0})\n",
    "    return Status"
   ]
  },
  {
   "cell_type": "code",
   "execution_count": 7,
   "metadata": {},
   "outputs": [],
   "source": [
    "status = namedtuple('status',['rt','usi', 'sv' ,'X', 'Y', 'Z', 'x', 'y', 'z' ,'R','cp', 'pr', 'el'])\n",
    "status0 = namedtuple('status',['rt', 'usi', 'cp', 'R'])\n",
    "\n",
    "d_x0 = namedtuple('d_x',['d_fi','d_R', 'd_p'])\n",
    "dd_x0 = namedtuple('dd_x',['dd_fi','dd_R', 'dd_p'])"
   ]
  },
  {
   "cell_type": "code",
   "execution_count": 8,
   "metadata": {},
   "outputs": [],
   "source": [
    "sv_gps = [*range(1,39)]\n",
    "sv_arr = [4, 5, 6, 24, 25, 30]\n",
    "F = 1575.42e6\n",
    "C = 299792458.\n",
    "lam = C / F"
   ]
  },
  {
   "cell_type": "code",
   "execution_count": 9,
   "metadata": {},
   "outputs": [
    {
     "name": "stdout",
     "output_type": "stream",
     "text": [
      "Wall time: 6.28 s\n"
     ]
    }
   ],
   "source": [
    "%%time\n",
    "filename = 'data/r1.dat'\n",
    "B1,R1 = sync(get('data/b1.dat', sv_gps), get(filename, sv_gps))\n",
    "\n",
    "epge = [sat['ephemerisGE'] for sat in B1 if 'ephemerisGE' in sat]\n",
    "\n",
    "EphemerisGE = {rec.sv: rec for rec in [sat['ephemerisGE'] for sat in R1 if 'ephemerisGE' in sat]}"
   ]
  },
  {
   "cell_type": "code",
   "execution_count": 10,
   "metadata": {},
   "outputs": [],
   "source": [
    "dx,dy,dz = popr(filename)\n",
    "\n",
    "bgps = {epoch: {usi: find_sat(usi, B1[epoch]['pseudo_params']) for usi in sv_gps} for epoch in range(len(B1))}\n",
    "rgps = {epoch: {usi: find_sat(usi, R1[epoch]['pseudo_params']) for usi in sv_gps} for epoch in range(len(B1))}"
   ]
  },
  {
   "cell_type": "code",
   "execution_count": 11,
   "metadata": {},
   "outputs": [],
   "source": [
    "bgps0 = {usi: {epoch: find_sat(usi, B1[epoch]['pseudo_params']) for epoch in range(len(B1))} for usi in sv_gps}"
   ]
  },
  {
   "cell_type": "code",
   "execution_count": 12,
   "metadata": {},
   "outputs": [
    {
     "data": {
      "application/vnd.jupyter.widget-view+json": {
       "model_id": "5fa9b3ec22624f7aa066a2d99d99e6e2",
       "version_major": 2,
       "version_minor": 0
      },
      "text/plain": [
       "HBox(children=(IntProgress(value=0, max=3678), HTML(value='')))"
      ]
     },
     "metadata": {},
     "output_type": "display_data"
    },
    {
     "name": "stdout",
     "output_type": "stream",
     "text": [
      "\n"
     ]
    },
    {
     "data": {
      "application/vnd.jupyter.widget-view+json": {
       "model_id": "391ff80ad95f4ec2a5874ccfe792c837",
       "version_major": 2,
       "version_minor": 0
      },
      "text/plain": [
       "HBox(children=(IntProgress(value=0, max=3678), HTML(value='')))"
      ]
     },
     "metadata": {},
     "output_type": "display_data"
    },
    {
     "name": "stdout",
     "output_type": "stream",
     "text": [
      "\n",
      "Wall time: 44.4 s\n"
     ]
    }
   ],
   "source": [
    "%%time\n",
    "Bgps = StatusGPS(B1, bgps)\n",
    "Rgps = StatusGPS(R1, rgps)#, dx, dy, dz)"
   ]
  },
  {
   "cell_type": "code",
   "execution_count": 13,
   "metadata": {},
   "outputs": [],
   "source": [
    "# q = figure(width = 1200, plot_height = 250)\n",
    "# for usi, color in zip(sv_gps0, Category10[10]):\n",
    "#     q.line(Range, [bgps0[usi][epoch].cp for epoch in Range],\n",
    "#            color = color, alpha = 0.8, muted_color=color, muted_alpha=0.2, legend=str(usi), line_width = 1)\n",
    "# show(q)"
   ]
  },
  {
   "cell_type": "code",
   "execution_count": 14,
   "metadata": {},
   "outputs": [],
   "source": [
    "d_x = namedtuple('d_x',['d_fi','d_qfi', 'd_R', 'd_p', ])\n",
    "dd_x = namedtuple('dd_x',['dd_fi', 'dd_qfi', 'dd_R', 'dd_p',])\n",
    "Y_x = namedtuple('Y_x', ['Yp', 'Yqfi', 'fi'])\n",
    "h_x = namedtuple('h', ['hx', 'hy', 'hz'])\n",
    "Hy_x = namedtuple('Hy_x', ['Hyp', 'Hyqfi', 'Hfi'])"
   ]
  },
  {
   "cell_type": "code",
   "execution_count": 15,
   "metadata": {},
   "outputs": [],
   "source": [
    "sv_gps0 = [1, 4, 5, 6, 9,10, 14, 24, 25, 30]\n",
    "sv_gps0 = [ 5, 6, 24, 25, 30]\n",
    "JGP = len(sv_gps0)\n",
    "ts = 0\n",
    "step = 60*60\n",
    "te = 4*60\n",
    "Range = range(ts, te+1)\n",
    "\n",
    "Index = lambda epoch: next(key for key, val in Bgps[epoch].items() if val.el == np.max([val.el for key, val in Bgps[epoch].items()]))\n",
    "\n",
    "dX = {epoch: {sv: d_x(Rgps[epoch][sv].cp - Bgps[epoch][sv].cp,\n",
    "                     (Rgps[epoch][sv].cp - Rgps[ts][sv].cp) - (Bgps[epoch][sv].cp - Bgps[ts][sv].cp),\n",
    "                      Rgps[epoch][sv].R - Bgps[epoch][sv].R,\n",
    "                      (Rgps[epoch][sv].pr - Bgps[epoch][sv].pr)*C,) for sv in sv_gps0} for epoch in Range }\n",
    "\n",
    "el = 30\n",
    "ddX = {epoch: {sv: dd_x(dX[epoch][sv].d_fi - dX[epoch][el].d_fi,\n",
    "                       (dX[epoch][sv].d_qfi - dX[epoch][el].d_qfi)*lam,\n",
    "                        dX[epoch][sv].d_R - dX[epoch][el].d_R,\n",
    "                        dX[epoch][sv].d_p - dX[epoch][el].d_p,) for sv in sv_gps0} for epoch in Range }\n",
    "\n",
    "ddM = {epoch: {sv: ddX[epoch][sv].dd_fi - ddX[epoch][sv].dd_R / lam for sv in sv_gps0} for epoch in Range }\n",
    "ddMsv = {sv: [ddM[epoch][sv] - ddM[ts][sv] for epoch in Range] for sv in sv_gps0}"
   ]
  },
  {
   "cell_type": "code",
   "execution_count": 16,
   "metadata": {},
   "outputs": [],
   "source": [
    "# p = figure(width = 1000, plot_height = 400,  title=\"Неопределенное целое b1-\"+filename[5:7]+' для ГЛОНАСС', \n",
    "#            x_axis_label='Эпоха', y_axis_label='М',\n",
    "#            tools=TOOLS, toolbar_location=\"below\",)\n",
    "\n",
    "# for usi, color in zip(sv_gps0, Category10[10]):\n",
    "#     if usi == el: continue\n",
    "#     p.line(Range, ddMsv[usi],\n",
    "#            color = color, alpha = 0.8, muted_color=color, muted_alpha=0.2, legend=str(usi), line_width = 1)\n",
    "# p.legend.click_policy=\"mute\"\n",
    "# p.legend.orientation = \"horizontal\"\n",
    "# #p.xaxis.bounds = (1300, 2100)\n",
    "# show(p)"
   ]
  },
  {
   "cell_type": "code",
   "execution_count": 17,
   "metadata": {},
   "outputs": [],
   "source": [
    "# {epoch: {sv: for sv in sv_gps0} for epoch in Range}\n",
    "# np.matrix([ (  ) for sv in sv_gps0 if sv != el])"
   ]
  },
  {
   "cell_type": "code",
   "execution_count": 18,
   "metadata": {},
   "outputs": [],
   "source": [
    "Yp0 = {epoch: np.matrix([ ( ddX[epoch][sv].dd_R - ddX[epoch][sv].dd_p ) for sv in sv_gps0 if sv != el]).T for epoch in Range}\n",
    "Yqfi0={epoch: np.matrix([ ( dX[epoch][sv].d_R - dX[ts][sv].d_R - (dX[epoch][el].d_R - dX[ts][el].d_R) - ddX[epoch][sv].dd_qfi )  for sv in sv_gps0 if sv != el]).T for epoch in Range}\n",
    "Yfi0 ={epoch: np.matrix([ ( ddX[epoch][sv].dd_R / lam - ddX[epoch][sv].dd_fi ) for sv in sv_gps0 if sv != el]).T for epoch in Range}"
   ]
  },
  {
   "cell_type": "code",
   "execution_count": 19,
   "metadata": {},
   "outputs": [],
   "source": [
    "# 15.12 Постваивл вместо Rgps - Bgps\n",
    "dh = {epoch: {sv: h_x((Bgps[epoch][sv].X - Bgps[epoch][sv].x) / Bgps[epoch][sv].R,\n",
    "                      (Bgps[epoch][sv].Y - Bgps[epoch][sv].y) / Bgps[epoch][sv].R,\n",
    "                      (Bgps[epoch][sv].Z - Bgps[epoch][sv].z) / Bgps[epoch][sv].R,) for sv in sv_gps0} for epoch in Range}"
   ]
  },
  {
   "cell_type": "code",
   "execution_count": 20,
   "metadata": {},
   "outputs": [],
   "source": [
    "HYp0 = {epoch: np.matrix([(dh[epoch][sv].hx - dh[epoch][el].hx,\n",
    "                           dh[epoch][sv].hy - dh[epoch][el].hy,\n",
    "                           dh[epoch][sv].hz - dh[epoch][el].hz) for sv in sv_gps0 if sv != el]) for epoch in Range}"
   ]
  },
  {
   "cell_type": "code",
   "execution_count": 21,
   "metadata": {},
   "outputs": [],
   "source": [
    "HYqfi0 = {epoch: np.matrix([*zip([dh[epoch][sv].hx - dh[ts][sv].hx - (dh[epoch][el].hx - dh[ts][el].hx) for sv in sv_gps0 if sv != el],\n",
    "                                 [dh[epoch][sv].hy - dh[ts][sv].hy - (dh[epoch][el].hy - dh[ts][el].hy) for sv in sv_gps0 if sv != el],\n",
    "                                 [dh[epoch][sv].hz - dh[ts][sv].hz - (dh[epoch][el].hz - dh[ts][el].hz) for sv in sv_gps0 if sv != el])]) for epoch in Range}"
   ]
  },
  {
   "cell_type": "code",
   "execution_count": 22,
   "metadata": {},
   "outputs": [],
   "source": [
    "Hfi_GP0 = {epoch: HYp0[epoch] / lam    for epoch in Range}"
   ]
  },
  {
   "cell_type": "code",
   "execution_count": 23,
   "metadata": {},
   "outputs": [],
   "source": [
    "Y_GP0 = {epoch: np.concatenate( (Yp0[epoch], Yqfi0[epoch]) , axis = 0) for epoch in Range}"
   ]
  },
  {
   "cell_type": "code",
   "execution_count": 24,
   "metadata": {},
   "outputs": [],
   "source": [
    "H_GP0 = {epoch: np.concatenate( ( (HYp0[epoch], HYqfi0[epoch], Hfi_GP0[epoch]) ) , axis = 0) for epoch in Range}"
   ]
  },
  {
   "cell_type": "code",
   "execution_count": 25,
   "metadata": {},
   "outputs": [],
   "source": [
    "ddx, ddy, ddz = Rgps[te][sv_gps0[0]].x + dx - Bgps[te][sv_gps0[0]].x, Rgps[te][sv_gps0[0]].y + dy - Bgps[te][sv_gps0[0]].y, Rgps[te][sv_gps0[0]].z + dz - Bgps[te][sv_gps0[0]].z\n",
    "\n",
    "dT = np.matrix([ddx, ddy, ddz]).T"
   ]
  },
  {
   "cell_type": "code",
   "execution_count": 26,
   "metadata": {},
   "outputs": [
    {
     "data": {
      "text/html": [
       "\n",
       "\n",
       "\n",
       "\n",
       "\n",
       "\n",
       "  <div class=\"bk-root\" id=\"26e8ffc1-3d37-44cb-88e5-8d86ec0e7301\"></div>\n"
      ]
     },
     "metadata": {},
     "output_type": "display_data"
    },
    {
     "data": {
      "application/javascript": [
       "(function(root) {\n",
       "  function embed_document(root) {\n",
       "    \n",
       "  var docs_json = {\"16dd2cbc-d814-4e43-b35b-c062590679d7\":{\"roots\":{\"references\":[{\"attributes\":{\"below\":[{\"id\":\"1011\",\"type\":\"LinearAxis\"}],\"left\":[{\"id\":\"1016\",\"type\":\"LinearAxis\"}],\"plot_height\":250,\"plot_width\":1200,\"renderers\":[{\"id\":\"1011\",\"type\":\"LinearAxis\"},{\"id\":\"1015\",\"type\":\"Grid\"},{\"id\":\"1016\",\"type\":\"LinearAxis\"},{\"id\":\"1020\",\"type\":\"Grid\"},{\"id\":\"1029\",\"type\":\"BoxAnnotation\"},{\"id\":\"1048\",\"type\":\"Legend\"},{\"id\":\"1039\",\"type\":\"GlyphRenderer\"}],\"title\":{\"id\":\"1041\",\"type\":\"Title\"},\"toolbar\":{\"id\":\"1027\",\"type\":\"Toolbar\"},\"x_range\":{\"id\":\"1003\",\"type\":\"DataRange1d\"},\"x_scale\":{\"id\":\"1007\",\"type\":\"LinearScale\"},\"y_range\":{\"id\":\"1005\",\"type\":\"DataRange1d\"},\"y_scale\":{\"id\":\"1009\",\"type\":\"LinearScale\"}},\"id\":\"1002\",\"subtype\":\"Figure\",\"type\":\"Plot\"},{\"attributes\":{},\"id\":\"1022\",\"type\":\"WheelZoomTool\"},{\"attributes\":{\"overlay\":{\"id\":\"1029\",\"type\":\"BoxAnnotation\"}},\"id\":\"1023\",\"type\":\"BoxZoomTool\"},{\"attributes\":{},\"id\":\"1024\",\"type\":\"SaveTool\"},{\"attributes\":{\"line_alpha\":0.1,\"line_color\":\"#1f77b4\",\"x\":{\"field\":\"x\"},\"y\":{\"field\":\"y\"}},\"id\":\"1038\",\"type\":\"Line\"},{\"attributes\":{},\"id\":\"1025\",\"type\":\"ResetTool\"},{\"attributes\":{\"callback\":null},\"id\":\"1003\",\"type\":\"DataRange1d\"},{\"attributes\":{},\"id\":\"1026\",\"type\":\"HelpTool\"},{\"attributes\":{\"callback\":null},\"id\":\"1005\",\"type\":\"DataRange1d\"},{\"attributes\":{\"active_drag\":\"auto\",\"active_inspect\":\"auto\",\"active_multi\":null,\"active_scroll\":\"auto\",\"active_tap\":\"auto\",\"tools\":[{\"id\":\"1021\",\"type\":\"PanTool\"},{\"id\":\"1022\",\"type\":\"WheelZoomTool\"},{\"id\":\"1023\",\"type\":\"BoxZoomTool\"},{\"id\":\"1024\",\"type\":\"SaveTool\"},{\"id\":\"1025\",\"type\":\"ResetTool\"},{\"id\":\"1026\",\"type\":\"HelpTool\"}]},\"id\":\"1027\",\"type\":\"Toolbar\"},{\"attributes\":{},\"id\":\"1007\",\"type\":\"LinearScale\"},{\"attributes\":{\"plot\":null,\"text\":\"\"},\"id\":\"1041\",\"type\":\"Title\"},{\"attributes\":{},\"id\":\"1057\",\"type\":\"UnionRenderers\"},{\"attributes\":{},\"id\":\"1009\",\"type\":\"LinearScale\"},{\"attributes\":{\"bottom_units\":\"screen\",\"fill_alpha\":{\"value\":0.5},\"fill_color\":{\"value\":\"lightgrey\"},\"left_units\":\"screen\",\"level\":\"overlay\",\"line_alpha\":{\"value\":1.0},\"line_color\":{\"value\":\"black\"},\"line_dash\":[4,4],\"line_width\":{\"value\":2},\"plot\":null,\"render_mode\":\"css\",\"right_units\":\"screen\",\"top_units\":\"screen\"},\"id\":\"1029\",\"type\":\"BoxAnnotation\"},{\"attributes\":{\"formatter\":{\"id\":\"1044\",\"type\":\"BasicTickFormatter\"},\"plot\":{\"id\":\"1002\",\"subtype\":\"Figure\",\"type\":\"Plot\"},\"ticker\":{\"id\":\"1012\",\"type\":\"BasicTicker\"}},\"id\":\"1011\",\"type\":\"LinearAxis\"},{\"attributes\":{},\"id\":\"1046\",\"type\":\"BasicTickFormatter\"},{\"attributes\":{\"label\":{\"value\":\"\\u0440\\u0430\\u0437\\u043d\\u0446\\u0438\\u0430 sv:5\"},\"renderers\":[{\"id\":\"1039\",\"type\":\"GlyphRenderer\"}]},\"id\":\"1049\",\"type\":\"LegendItem\"},{\"attributes\":{},\"id\":\"1012\",\"type\":\"BasicTicker\"},{\"attributes\":{\"plot\":{\"id\":\"1002\",\"subtype\":\"Figure\",\"type\":\"Plot\"},\"ticker\":{\"id\":\"1012\",\"type\":\"BasicTicker\"}},\"id\":\"1015\",\"type\":\"Grid\"},{\"attributes\":{\"formatter\":{\"id\":\"1046\",\"type\":\"BasicTickFormatter\"},\"plot\":{\"id\":\"1002\",\"subtype\":\"Figure\",\"type\":\"Plot\"},\"ticker\":{\"id\":\"1017\",\"type\":\"BasicTicker\"}},\"id\":\"1016\",\"type\":\"LinearAxis\"},{\"attributes\":{},\"id\":\"1058\",\"type\":\"Selection\"},{\"attributes\":{\"items\":[{\"id\":\"1049\",\"type\":\"LegendItem\"}],\"location\":\"top_left\",\"orientation\":\"horizontal\",\"plot\":{\"id\":\"1002\",\"subtype\":\"Figure\",\"type\":\"Plot\"}},\"id\":\"1048\",\"type\":\"Legend\"},{\"attributes\":{},\"id\":\"1017\",\"type\":\"BasicTicker\"},{\"attributes\":{\"dimension\":1,\"plot\":{\"id\":\"1002\",\"subtype\":\"Figure\",\"type\":\"Plot\"},\"ticker\":{\"id\":\"1017\",\"type\":\"BasicTicker\"}},\"id\":\"1020\",\"type\":\"Grid\"},{\"attributes\":{},\"id\":\"1044\",\"type\":\"BasicTickFormatter\"},{\"attributes\":{\"line_color\":\"#1f77b4\",\"x\":{\"field\":\"x\"},\"y\":{\"field\":\"y\"}},\"id\":\"1037\",\"type\":\"Line\"},{\"attributes\":{\"callback\":null,\"data\":{\"x\":[0,1,2,3,4,5,6,7,8,9,10,11,12,13,14,15,16,17,18,19,20,21,22,23,24,25,26,27,28,29,30,31,32,33,34,35,36,37,38,39,40,41,42,43,44,45,46,47,48,49,50,51,52,53,54,55,56,57,58,59,60,61,62,63,64,65,66,67,68,69,70,71,72,73,74,75,76,77,78,79,80,81,82,83,84,85,86,87,88,89,90,91,92,93,94,95,96,97,98,99,100,101,102,103,104,105,106,107,108,109,110,111,112,113,114,115,116,117,118,119,120,121,122,123,124,125,126,127,128,129,130,131,132,133,134,135,136,137,138,139,140,141,142,143,144,145,146,147,148,149,150,151,152,153,154,155,156,157,158,159,160,161,162,163,164,165,166,167,168,169,170,171,172,173,174,175,176,177,178,179,180,181,182,183,184,185,186,187,188,189,190,191,192,193,194,195,196,197,198,199,200,201,202,203,204,205,206,207,208,209,210,211,212,213,214,215,216,217,218,219,220,221,222,223,224,225,226,227,228,229,230,231,232,233,234,235,236,237,238,239,240],\"y\":[0.0,0.0009766408329818788,0.0017517599877523438,0.0042197888614650125,-0.006863503529131787,-0.005377909933599767,-0.007135415702739234,-0.0029484458637862865,-0.014842988098612064,-0.003802505295298353,-0.005844282355752295,-0.003944542031965259,-0.005527042285600192,-0.00825356483751749,-0.00825299442845262,-0.014935588545838652,-0.018346246729519455,-0.007820716856409948,-0.009174447211830916,-0.014976057198669679,-0.018906226804924486,-0.00821897781096892,-0.01259359621957179,-0.004851829159050691,-0.01638134148649506,-0.019801190029969717,-0.012705457137694331,-0.018321916744322042,-0.017992464368405514,-0.01103753441051536,-0.008619736337228012,-0.011416112459987637,-0.00897531589893541,-0.006254533803401241,-0.013905691244457064,-0.007351113600628789,-0.009734092848742826,-0.0071482307425765335,-0.0042216323402723965,-0.008828980114798046,-0.016709764714917252,-0.012771212169557344,-0.009869665854136844,-0.016808744631489736,-0.009198519939920491,-0.017491787458829622,-0.015726574020160644,-0.00945699171299097,-0.012800664801077222,-0.00612255177841492,-0.011893973206063446,0.0016785970664723315,-0.013369329990383871,-0.007465732435460115,-0.007329226082870566,0.001228393195102928,-0.0017145472517805516,-0.00807728202214042,0.00012467989713371708,-0.0022278293186897002,-0.0127473656052417,-0.007639294662787677,-0.0004626208722813274,-0.0027107116243132445,-0.0009560467153595376,-0.006967923761376671,-0.020739655748498897,-0.009648819631342231,-0.021374277956663468,-0.019367499155418244,-0.017776092629301576,-0.01758141293124238,-0.02122186333172893,-0.007133221736446593,-0.010943789308433427,-0.018638545713250743,-0.016020449980216345,-0.006316091648722821,-0.017859085934694985,-0.019181786807201062,-0.016126574019339035,-0.022862267852080675,-0.026378210459932827,-0.021337151706393387,-0.009792541488981232,0.01114528806804671,-0.0013030501552075968,-0.0007839881722007114,0.0014396975211687923,-0.007982281569999472,0.0024186195577207137,-0.0062408493317294145,-0.002344147128811258,0.0035560659070550393,-0.011095610737857253,-0.011226225010096957,-0.002257802430694955,-0.013810556549758157,-0.0020334073416399256,-0.010486854269819101,-0.016781048652555697,-0.02086385045596595,-0.00644311919645757,-0.017742589275910214,-0.01596283647008967,-0.022270900653756476,-0.004120964526650894,-0.009730633969489144,-0.0075606861969901296,-0.01543349024561591,-0.008155148196887119,-0.0068404255781220336,-0.015160811049779177,-0.015811324523376413,-0.015120231517773863,-0.014719165659955014,-0.017291766202577108,-0.00896382308179522,-0.010200729972301037,-0.008181793956694161,-0.00269133235540453,-0.010836384260800802,-0.011861694470744144,-0.0011021259491195146,-0.01120442764362739,-0.0028298784578972835,-0.020535584221396785,-0.005916951977432028,-0.009278424646229855,-0.009852269551572146,-0.0037389492965789195,-0.0270975317322506,-0.023507000797577504,-0.020052675806487397,-0.004760764113286076,-0.015112612807743009,-0.016726163299773944,-0.01552861212540435,-0.010783199075748318,-0.007491827332906542,-0.011438655666939024,-0.012498076178538486,-0.0009319640614307012,-0.005042686145247277,-0.01811240511344847,0.004934372779787477,0.006991170127386592,0.005582921206586544,-0.01022187556538201,-0.008989381288504017,-0.013736389132485982,-0.014211097413041163,-0.010964078663509014,-0.019770752508828426,-0.007950036781212422,-0.007186211827571842,-0.0293723619110704,-0.01729980034353562,-0.02175256409302362,-0.017821045272144342,-0.012195142678710358,-0.023121522811854422,-0.014683395961454071,-0.009098954436514095,-0.015605932304025405,-0.017694266947182458,-0.004167675808073756,-0.010061472464677923,-0.013407039860638292,-0.020905306552702507,-0.014320767317471006,-0.007548564205293928,-0.0048190237982974615,-0.02238160908680631,-0.019400615967181123,-0.01943811070194057,-0.02420266208586641,-0.012383280158366983,-0.02697249157440318,-0.025721844767153446,-0.03501405347644515,-0.01576454985704734,-0.014510346099664506,-0.02190415558157288,-0.023811687871606146,-0.033521591058430555,-0.016254583270257417,-0.02942931691581241,-0.028942826011865375,-0.033480047360335385,-0.03253544000485786,-0.026919733948684188,-0.02140260860449339,-0.02329490418387148,-0.028959531839215513,-0.027477632655910966,-0.027013757044024755,-0.015148862711316102,-0.020548853390923494,-0.03091508262159226,-0.023100333125106065,-0.02464441623260205,-0.02057922393699796,-0.012612963328344495,-0.02114081298549908,-0.03431507690992386,-0.02731339531353294,-0.026231055335016018,-0.020285796779761167,-0.03938464927145535,-0.028030674436979597,-0.025727353167261935,-0.0460628635428999,-0.02948465104810305,-0.030808062199754627,-0.05303441565920908,-0.041133781219303334,-0.04770499919188831,-0.02891048325115575,-0.02830511117476564,-0.027314827007621556,-0.024104803069364245,-0.0341383693123114,-0.01922700659553378,-0.021622277334337747,-0.015675743939703946,-0.015363823422125389,-0.013280397100853936,-0.01660153080958282,-0.023079663481522683,-0.014880332967911247,-0.025577625127217063,-0.018129688900247354,-0.006818855733509821,-0.022787097136965695,-0.020054650727016066,-0.008549058921345054,-0.02492920074350846,-0.01475521601720553,-0.02204057440446716,-0.019597300698644515]},\"selected\":{\"id\":\"1058\",\"type\":\"Selection\"},\"selection_policy\":{\"id\":\"1057\",\"type\":\"UnionRenderers\"}},\"id\":\"1036\",\"type\":\"ColumnDataSource\"},{\"attributes\":{\"data_source\":{\"id\":\"1036\",\"type\":\"ColumnDataSource\"},\"glyph\":{\"id\":\"1037\",\"type\":\"Line\"},\"hover_glyph\":null,\"muted_glyph\":null,\"nonselection_glyph\":{\"id\":\"1038\",\"type\":\"Line\"},\"selection_glyph\":null,\"view\":{\"id\":\"1040\",\"type\":\"CDSView\"}},\"id\":\"1039\",\"type\":\"GlyphRenderer\"},{\"attributes\":{\"source\":{\"id\":\"1036\",\"type\":\"ColumnDataSource\"}},\"id\":\"1040\",\"type\":\"CDSView\"},{\"attributes\":{},\"id\":\"1021\",\"type\":\"PanTool\"}],\"root_ids\":[\"1002\"]},\"title\":\"Bokeh Application\",\"version\":\"1.0.1\"}};\n",
       "  var render_items = [{\"docid\":\"16dd2cbc-d814-4e43-b35b-c062590679d7\",\"roots\":{\"1002\":\"26e8ffc1-3d37-44cb-88e5-8d86ec0e7301\"}}];\n",
       "  root.Bokeh.embed.embed_items_notebook(docs_json, render_items);\n",
       "\n",
       "  }\n",
       "  if (root.Bokeh !== undefined) {\n",
       "    embed_document(root);\n",
       "  } else {\n",
       "    var attempts = 0;\n",
       "    var timer = setInterval(function(root) {\n",
       "      if (root.Bokeh !== undefined) {\n",
       "        embed_document(root);\n",
       "        clearInterval(timer);\n",
       "      }\n",
       "      attempts++;\n",
       "      if (attempts > 100) {\n",
       "        console.log(\"Bokeh: ERROR: Unable to run BokehJS code because BokehJS library is missing\");\n",
       "        clearInterval(timer);\n",
       "      }\n",
       "    }, 10, root)\n",
       "  }\n",
       "})(window);"
      ],
      "application/vnd.bokehjs_exec.v0+json": ""
     },
     "metadata": {
      "application/vnd.bokehjs_exec.v0+json": {
       "id": "1002"
      }
     },
     "output_type": "display_data"
    }
   ],
   "source": [
    "us = 0\n",
    "d = figure(width = 1200, plot_height = 250)\n",
    "# d.line(Range, [np.array(np.abs( Yqfi0[te] - HYqfi0[te] * (dT) ))[0][0] for te in Range], color = 'red', legend = '5')\n",
    "# d.line(Range, [np.array(np.abs( Yqfi0[te] - HYqfi0[te] * (dT) ))[1][0] for te in Range], color = 'blue', legend = '6')\n",
    "# d.line(Range, [np.array(np.abs( Yqfi0[te] - HYqfi0[te] * (dT) ))[2][0] for te in Range], color = 'green', legend = '24')\n",
    "# d.line(Range, [np.array(np.abs( Yqfi0[te] - HYqfi0[te] * (dT) ))[3][0] for te in Range], color = 'orange', legend = '25')\n",
    "# d.line(Range, [np.array(Yfi0[te] )[us][0] - np.array(Yfi0[ts] )[us][0] for te in Range], legend = 'fi_GP')\n",
    "# d.line(Range, [np.array( Hfi_GP0[te] * (dT) )[us][0] - np.array( Hfi_GP0[ts] * (dT) )[us][0] for te in Range], color = 'red', legend = f'Hfi * dTetta   sv:{sv_gps0[us]}')\n",
    "d.line(Range, [np.array(np.abs( Yfi0[te] - Hfi_GP0[te] * (dT)))[us][0] -np.array(np.abs( Yfi0[0] - Hfi_GP0[0] * (dT)))[us][0] for te in Range], legend = f'разнциа sv:{sv_gps0[us]}')\n",
    "d.legend.orientation = \"horizontal\"\n",
    "d.legend.location = \"top_left\"\n",
    "show(d)"
   ]
  },
  {
   "cell_type": "code",
   "execution_count": 27,
   "metadata": {},
   "outputs": [
    {
     "ename": "NameError",
     "evalue": "name 'qqq' is not defined",
     "output_type": "error",
     "traceback": [
      "\u001b[1;31m---------------------------------------------------------------------------\u001b[0m",
      "\u001b[1;31mNameError\u001b[0m                                 Traceback (most recent call last)",
      "\u001b[1;32m<ipython-input-27-086698b5e994>\u001b[0m in \u001b[0;36m<module>\u001b[1;34m()\u001b[0m\n\u001b[1;32m----> 1\u001b[1;33m \u001b[0mqqq\u001b[0m\u001b[1;33m\u001b[0m\u001b[0m\n\u001b[0m",
      "\u001b[1;31mNameError\u001b[0m: name 'qqq' is not defined"
     ]
    }
   ],
   "source": [
    "qqq"
   ]
  },
  {
   "cell_type": "code",
   "execution_count": null,
   "metadata": {},
   "outputs": [],
   "source": [
    "Rp = np.matrix(np.eye((JGP))* (1.5**2))\n",
    "Rfi = np.matrix(np.eye((JGP))* (0.05**2))\n",
    "Rqfi = 2 * Rfi\n",
    "\n",
    "R1p = 2 * Rp\n",
    "R1fi = 2 * Rfi\n",
    "R1qfi = 2 * Rqfi\n",
    "RW1qfi = R1qfi * lam**2\n",
    "\n",
    "TR2 = np.eye((JGP-1))\n",
    "TR2 = np.concatenate((TR2, np.matrix(np.ones((JGP-1))*-1).T), axis = 1)\n",
    "\n",
    "R2p = TR2 * R1p * TR2.T\n",
    "R2fi = TR2 * R1fi * TR2.T\n",
    "R2qfi = TR2 * RW1qfi * TR2.T\n",
    "LAM = np.matrix(np.eye(JGP)*lam)\n",
    "CRqfifi = 2 * TR2 * LAM * Rfi * TR2.T\n",
    "\n",
    "Null = np.matrix(np.zeros((JGP-1, JGP-1)))\n",
    "\n",
    "R_GP = np.concatenate((np.concatenate((R2p, Null, Null), axis = 0),\n",
    "                np.concatenate((Null, R2qfi, CRqfifi.T), axis = 0),\n",
    "                np.concatenate((Null, CRqfifi, R2fi), axis = 0)), axis = 1)\n",
    "\n",
    "B = R_GP.I\n",
    "D = B - B * H_GP0[te] * (H_GP0[te].T * B * H_GP0[te]).I * H_GP0[te].T * B\n",
    "\n",
    "# D = np.arange(12*12).reshape((12,12))\n",
    "\n",
    "Dpp = D[:(JGP-1)*2,:(JGP-1)*2]\n",
    "Dqp = D[(JGP-1)*2:,:(JGP-1)*2]\n",
    "Dpq = D[:(JGP-1)*2,(JGP-1)*2:]\n",
    "Dqq = D[(JGP-1)*2:,(JGP-1)*2:]"
   ]
  },
  {
   "cell_type": "code",
   "execution_count": null,
   "metadata": {},
   "outputs": [],
   "source": [
    "D = {te: (B - B * H_GP0[te] * (H_GP0[te].T * B * H_GP0[te]).I * H_GP0[te].T * B) for te in Range}\n",
    "Dpp = {te: D[te][:(JGP-1)*2,:(JGP-1)*2] for te in Range}\n",
    "Dqp = {te: D[te][(JGP-1)*2:,:(JGP-1)*2] for te in Range}\n",
    "Dpq = {te: D[te][:(JGP-1)*2,(JGP-1)*2:] for te in Range}\n",
    "Dqq = {te: D[te][(JGP-1)*2:,(JGP-1)*2:] for te in Range}"
   ]
  },
  {
   "cell_type": "code",
   "execution_count": null,
   "metadata": {},
   "outputs": [],
   "source": [
    "kzv = {te: (-1) * Dqq[te].I * Dqp[te] * Y_GP0[te] - Yfi0[te] for te in Range}\n",
    "KVF =lambda k, te: (k - kzv[te]).T * Dqq[te] * (k - kzv[te])"
   ]
  },
  {
   "cell_type": "code",
   "execution_count": null,
   "metadata": {},
   "outputs": [],
   "source": [
    "QQ = np.array([Dqq[te] for te in range(10)])"
   ]
  },
  {
   "cell_type": "code",
   "execution_count": null,
   "metadata": {},
   "outputs": [],
   "source": [
    "QQ[1:2,:,:,]"
   ]
  },
  {
   "cell_type": "code",
   "execution_count": null,
   "metadata": {},
   "outputs": [],
   "source": [
    "scipy.io.savemat('test_mat.mat', mdict={'Dqq': np.array([Dqq[te] for te in range(10)]) }, oned_as = 'row')"
   ]
  },
  {
   "cell_type": "code",
   "execution_count": null,
   "metadata": {},
   "outputs": [],
   "source": [
    "K = np.matrix(io.loadmat('MATtoPY')['kmin'], dtype = 'int')"
   ]
  },
  {
   "cell_type": "code",
   "execution_count": null,
   "metadata": {},
   "outputs": [],
   "source": [
    "dictionary = {'hello':'world'}\n",
    "np.save('my_file.npy', dictionary) "
   ]
  },
  {
   "cell_type": "code",
   "execution_count": null,
   "metadata": {},
   "outputs": [],
   "source": [
    "i = 0\n",
    "j = i+1\n",
    "kmin = K[:,i:i+1]\n",
    "ksled = K[:,j:j+1]\n",
    "KNTR = (KVF(ksled, te) / KVF(kmin, te)).tolist()[0][0]\n",
    "dT = (H_GP0[te].T * B * H_GP0[te]).I * H_GP0[te].T * B * np.concatenate((Y_GP0[te], Yfi0[te] + kmin), axis = 0)\n",
    "print(KNTR)\n",
    "[*zip(dT.tolist(), popr(filename))]"
   ]
  },
  {
   "cell_type": "code",
   "execution_count": null,
   "metadata": {},
   "outputs": [],
   "source": [
    "dT"
   ]
  },
  {
   "cell_type": "code",
   "execution_count": null,
   "metadata": {},
   "outputs": [],
   "source": [
    "dTT = matrix([[ 0.44627778, 0.60296689,0.51170608,0.16772547,0.16893263,0.16907246,0.17065871,0.17002797,0.17242257],\n",
    "        [-0.47661323, 0.71541481,0.57934524,0.83104538,0.82913198,0.8278772 ,0.83075517,0.8290111 ,0.83143359],\n",
    "        [-2.07079151, -0.1305015 ,-0.51566911,-0.4487098 ,-0.44933085,-0.44597202,-0.45112906,-0.4494524 ,-0.44917252]])"
   ]
  },
  {
   "cell_type": "code",
   "execution_count": null,
   "metadata": {},
   "outputs": [],
   "source": [
    "Ran = ['1min', '2min', '3min', '5min', '10min', '20min', '30min', '40min', '60min']"
   ]
  },
  {
   "cell_type": "code",
   "execution_count": null,
   "metadata": {},
   "outputs": [],
   "source": [
    "w = figure(width = 1200, plot_height = 250, x_range = Ran)\n",
    "w.line(Ran, dTT.tolist()[0])\n",
    "w.line(Ran, dTT.tolist()[1], color = 'red')\n",
    "w.line(Ran, dTT.tolist()[2], color = 'green')\n",
    "show(w)"
   ]
  },
  {
   "cell_type": "code",
   "execution_count": null,
   "metadata": {},
   "outputs": [],
   "source": [
    "# for i in range(10-1):\n",
    "#     j = i+1\n",
    "#     kmin = K[:,i:i+1]\n",
    "#     ksled = K[:,j:j+1]\n",
    "\n",
    "#     dT = (H_GP0[te].T * B * H_GP0[te]).I * H_GP0[te].T * B * np.concatenate((Y_GP0[te], Yfi0[te] + kmin), axis = 0)\n",
    "#     KNTR = (KVF(ksled) / KVF(kmin)).tolist()[0][0]\n",
    "#     print(KNTR)\n",
    "# print(dT, '  ', popr(filename))"
   ]
  },
  {
   "cell_type": "code",
   "execution_count": null,
   "metadata": {},
   "outputs": [],
   "source": [
    "# %%time\n",
    "# Bgln = StatusGLN(B1, bgln)\n",
    "# Rgln = StatusGLN(R1, rgln, dx, dy, dz)\n",
    "\n",
    "# B = [*Bgln[0].keys()]\n",
    "# B = [55, 57]\n",
    "# B0 = [18, 3]\n",
    "# B = sv_arr0\n",
    "# B0 = [5, 21, 18, 3]\n",
    "\n",
    "# Range = range(len(Rgln))\n",
    "# #Range = range(1300,2100)\n",
    "# dX0 = {epoch: {sv: d_x0(Rgln[epoch][sv].cp - Bgln[epoch][sv].cp,\n",
    "#                         Rgln[epoch][sv].R  - Bgln[epoch][sv].R,\n",
    "#                         Rgln[epoch][sv].pr*C - Bgln[epoch][sv].pr*C) for sv in B} for epoch in Range}\n",
    "\n",
    "# el = 55\n",
    "# ddX0 = {epoch: {sv: dd_x0(dX0[epoch][sv].d_fi - dX0[epoch][el].d_fi,\n",
    "#                           dX0[epoch][sv].d_R / lam_gln[sv] - dX0[epoch][el].d_R / lam_gln[el],\n",
    "#                           (1 / (len(B) * (C / (F_gln[sv] - F_gln[el])))) * np.sum([dX0[epoch][svm].d_R - dX0[epoch][svm].d_p for svm in B])) for sv in B if sv != el} for epoch in  Range}\n",
    "\n",
    "# ddM0 = {epoch: {sv: ddX0[epoch][sv].dd_fi - ddX0[epoch][sv].dd_R + ddX0[epoch][sv].dd_p for sv in B if sv != el} for epoch in  Range}\n",
    "# ddMsv0 = {sv: [ddM0[epoch][sv]-ddM0[Range[0]][sv] for epoch in Range] for sv in B if sv != el}"
   ]
  },
  {
   "cell_type": "code",
   "execution_count": null,
   "metadata": {},
   "outputs": [],
   "source": []
  }
 ],
 "metadata": {
  "kernelspec": {
   "display_name": "Python 3",
   "language": "python",
   "name": "python3"
  },
  "language_info": {
   "codemirror_mode": {
    "name": "ipython",
    "version": 3
   },
   "file_extension": ".py",
   "mimetype": "text/x-python",
   "name": "python",
   "nbconvert_exporter": "python",
   "pygments_lexer": "ipython3",
   "version": "3.7.0"
  }
 },
 "nbformat": 4,
 "nbformat_minor": 2
}
