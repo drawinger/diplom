{
 "cells": [
  {
   "cell_type": "code",
   "execution_count": 1,
   "metadata": {},
   "outputs": [
    {
     "name": "stdout",
     "output_type": "stream",
     "text": [
      "Using matplotlib backend: Qt5Agg\n",
      "Populating the interactive namespace from numpy and matplotlib\n"
     ]
    }
   ],
   "source": [
    "from collections import namedtuple\n",
    "\n",
    "import itertools as itt\n",
    "from tqdm import tnrange,tqdm_notebook\n",
    "\n",
    "from ipywidgets import interact\n",
    "\n",
    "from funcs import gps_coord, gln_coord, get_epoch_array, file_byte_iterator,  filter_epoch, general_parser, map_rec, Uchet\n",
    "\n",
    "%pylab"
   ]
  },
  {
   "cell_type": "code",
   "execution_count": 2,
   "metadata": {},
   "outputs": [
    {
     "data": {
      "text/html": [
       "\n",
       "    <div class=\"bk-root\">\n",
       "        <a href=\"https://bokeh.pydata.org\" target=\"_blank\" class=\"bk-logo bk-logo-small bk-logo-notebook\"></a>\n",
       "        <span id=\"d791d47a-e6d0-4d6a-ad3e-5d7f54aa8ba7\">Loading BokehJS ...</span>\n",
       "    </div>"
      ]
     },
     "metadata": {},
     "output_type": "display_data"
    },
    {
     "data": {
      "application/javascript": [
       "\n",
       "(function(root) {\n",
       "  function now() {\n",
       "    return new Date();\n",
       "  }\n",
       "\n",
       "  var force = true;\n",
       "\n",
       "  if (typeof (root._bokeh_onload_callbacks) === \"undefined\" || force === true) {\n",
       "    root._bokeh_onload_callbacks = [];\n",
       "    root._bokeh_is_loading = undefined;\n",
       "  }\n",
       "\n",
       "  var JS_MIME_TYPE = 'application/javascript';\n",
       "  var HTML_MIME_TYPE = 'text/html';\n",
       "  var EXEC_MIME_TYPE = 'application/vnd.bokehjs_exec.v0+json';\n",
       "  var CLASS_NAME = 'output_bokeh rendered_html';\n",
       "\n",
       "  /**\n",
       "   * Render data to the DOM node\n",
       "   */\n",
       "  function render(props, node) {\n",
       "    var script = document.createElement(\"script\");\n",
       "    node.appendChild(script);\n",
       "  }\n",
       "\n",
       "  /**\n",
       "   * Handle when an output is cleared or removed\n",
       "   */\n",
       "  function handleClearOutput(event, handle) {\n",
       "    var cell = handle.cell;\n",
       "\n",
       "    var id = cell.output_area._bokeh_element_id;\n",
       "    var server_id = cell.output_area._bokeh_server_id;\n",
       "    // Clean up Bokeh references\n",
       "    if (id !== undefined) {\n",
       "      Bokeh.index[id].model.document.clear();\n",
       "      delete Bokeh.index[id];\n",
       "    }\n",
       "\n",
       "    if (server_id !== undefined) {\n",
       "      // Clean up Bokeh references\n",
       "      var cmd = \"from bokeh.io.state import curstate; print(curstate().uuid_to_server['\" + server_id + \"'].get_sessions()[0].document.roots[0]._id)\";\n",
       "      cell.notebook.kernel.execute(cmd, {\n",
       "        iopub: {\n",
       "          output: function(msg) {\n",
       "            var element_id = msg.content.text.trim();\n",
       "            Bokeh.index[element_id].model.document.clear();\n",
       "            delete Bokeh.index[element_id];\n",
       "          }\n",
       "        }\n",
       "      });\n",
       "      // Destroy server and session\n",
       "      var cmd = \"import bokeh.io.notebook as ion; ion.destroy_server('\" + server_id + \"')\";\n",
       "      cell.notebook.kernel.execute(cmd);\n",
       "    }\n",
       "  }\n",
       "\n",
       "  /**\n",
       "   * Handle when a new output is added\n",
       "   */\n",
       "  function handleAddOutput(event, handle) {\n",
       "    var output_area = handle.output_area;\n",
       "    var output = handle.output;\n",
       "\n",
       "    // limit handleAddOutput to display_data with EXEC_MIME_TYPE content only\n",
       "    if ((output.output_type != \"display_data\") || (!output.data.hasOwnProperty(EXEC_MIME_TYPE))) {\n",
       "      return\n",
       "    }\n",
       "\n",
       "    var toinsert = output_area.element.find(\".\" + CLASS_NAME.split(' ')[0]);\n",
       "\n",
       "    if (output.metadata[EXEC_MIME_TYPE][\"id\"] !== undefined) {\n",
       "      toinsert[toinsert.length - 1].firstChild.textContent = output.data[JS_MIME_TYPE];\n",
       "      // store reference to embed id on output_area\n",
       "      output_area._bokeh_element_id = output.metadata[EXEC_MIME_TYPE][\"id\"];\n",
       "    }\n",
       "    if (output.metadata[EXEC_MIME_TYPE][\"server_id\"] !== undefined) {\n",
       "      var bk_div = document.createElement(\"div\");\n",
       "      bk_div.innerHTML = output.data[HTML_MIME_TYPE];\n",
       "      var script_attrs = bk_div.children[0].attributes;\n",
       "      for (var i = 0; i < script_attrs.length; i++) {\n",
       "        toinsert[toinsert.length - 1].firstChild.setAttribute(script_attrs[i].name, script_attrs[i].value);\n",
       "      }\n",
       "      // store reference to server id on output_area\n",
       "      output_area._bokeh_server_id = output.metadata[EXEC_MIME_TYPE][\"server_id\"];\n",
       "    }\n",
       "  }\n",
       "\n",
       "  function register_renderer(events, OutputArea) {\n",
       "\n",
       "    function append_mime(data, metadata, element) {\n",
       "      // create a DOM node to render to\n",
       "      var toinsert = this.create_output_subarea(\n",
       "        metadata,\n",
       "        CLASS_NAME,\n",
       "        EXEC_MIME_TYPE\n",
       "      );\n",
       "      this.keyboard_manager.register_events(toinsert);\n",
       "      // Render to node\n",
       "      var props = {data: data, metadata: metadata[EXEC_MIME_TYPE]};\n",
       "      render(props, toinsert[toinsert.length - 1]);\n",
       "      element.append(toinsert);\n",
       "      return toinsert\n",
       "    }\n",
       "\n",
       "    /* Handle when an output is cleared or removed */\n",
       "    events.on('clear_output.CodeCell', handleClearOutput);\n",
       "    events.on('delete.Cell', handleClearOutput);\n",
       "\n",
       "    /* Handle when a new output is added */\n",
       "    events.on('output_added.OutputArea', handleAddOutput);\n",
       "\n",
       "    /**\n",
       "     * Register the mime type and append_mime function with output_area\n",
       "     */\n",
       "    OutputArea.prototype.register_mime_type(EXEC_MIME_TYPE, append_mime, {\n",
       "      /* Is output safe? */\n",
       "      safe: true,\n",
       "      /* Index of renderer in `output_area.display_order` */\n",
       "      index: 0\n",
       "    });\n",
       "  }\n",
       "\n",
       "  // register the mime type if in Jupyter Notebook environment and previously unregistered\n",
       "  if (root.Jupyter !== undefined) {\n",
       "    var events = require('base/js/events');\n",
       "    var OutputArea = require('notebook/js/outputarea').OutputArea;\n",
       "\n",
       "    if (OutputArea.prototype.mime_types().indexOf(EXEC_MIME_TYPE) == -1) {\n",
       "      register_renderer(events, OutputArea);\n",
       "    }\n",
       "  }\n",
       "\n",
       "  \n",
       "  if (typeof (root._bokeh_timeout) === \"undefined\" || force === true) {\n",
       "    root._bokeh_timeout = Date.now() + 5000;\n",
       "    root._bokeh_failed_load = false;\n",
       "  }\n",
       "\n",
       "  var NB_LOAD_WARNING = {'data': {'text/html':\n",
       "     \"<div style='background-color: #fdd'>\\n\"+\n",
       "     \"<p>\\n\"+\n",
       "     \"BokehJS does not appear to have successfully loaded. If loading BokehJS from CDN, this \\n\"+\n",
       "     \"may be due to a slow or bad network connection. Possible fixes:\\n\"+\n",
       "     \"</p>\\n\"+\n",
       "     \"<ul>\\n\"+\n",
       "     \"<li>re-rerun `output_notebook()` to attempt to load from CDN again, or</li>\\n\"+\n",
       "     \"<li>use INLINE resources instead, as so:</li>\\n\"+\n",
       "     \"</ul>\\n\"+\n",
       "     \"<code>\\n\"+\n",
       "     \"from bokeh.resources import INLINE\\n\"+\n",
       "     \"output_notebook(resources=INLINE)\\n\"+\n",
       "     \"</code>\\n\"+\n",
       "     \"</div>\"}};\n",
       "\n",
       "  function display_loaded() {\n",
       "    var el = document.getElementById(\"d791d47a-e6d0-4d6a-ad3e-5d7f54aa8ba7\");\n",
       "    if (el != null) {\n",
       "      el.textContent = \"BokehJS is loading...\";\n",
       "    }\n",
       "    if (root.Bokeh !== undefined) {\n",
       "      if (el != null) {\n",
       "        el.textContent = \"BokehJS \" + root.Bokeh.version + \" successfully loaded.\";\n",
       "      }\n",
       "    } else if (Date.now() < root._bokeh_timeout) {\n",
       "      setTimeout(display_loaded, 100)\n",
       "    }\n",
       "  }\n",
       "\n",
       "\n",
       "  function run_callbacks() {\n",
       "    try {\n",
       "      root._bokeh_onload_callbacks.forEach(function(callback) { callback() });\n",
       "    }\n",
       "    finally {\n",
       "      delete root._bokeh_onload_callbacks\n",
       "    }\n",
       "    console.info(\"Bokeh: all callbacks have finished\");\n",
       "  }\n",
       "\n",
       "  function load_libs(js_urls, callback) {\n",
       "    root._bokeh_onload_callbacks.push(callback);\n",
       "    if (root._bokeh_is_loading > 0) {\n",
       "      console.log(\"Bokeh: BokehJS is being loaded, scheduling callback at\", now());\n",
       "      return null;\n",
       "    }\n",
       "    if (js_urls == null || js_urls.length === 0) {\n",
       "      run_callbacks();\n",
       "      return null;\n",
       "    }\n",
       "    console.log(\"Bokeh: BokehJS not loaded, scheduling load and callback at\", now());\n",
       "    root._bokeh_is_loading = js_urls.length;\n",
       "    for (var i = 0; i < js_urls.length; i++) {\n",
       "      var url = js_urls[i];\n",
       "      var s = document.createElement('script');\n",
       "      s.src = url;\n",
       "      s.async = false;\n",
       "      s.onreadystatechange = s.onload = function() {\n",
       "        root._bokeh_is_loading--;\n",
       "        if (root._bokeh_is_loading === 0) {\n",
       "          console.log(\"Bokeh: all BokehJS libraries loaded\");\n",
       "          run_callbacks()\n",
       "        }\n",
       "      };\n",
       "      s.onerror = function() {\n",
       "        console.warn(\"failed to load library \" + url);\n",
       "      };\n",
       "      console.log(\"Bokeh: injecting script tag for BokehJS library: \", url);\n",
       "      document.getElementsByTagName(\"head\")[0].appendChild(s);\n",
       "    }\n",
       "  };var element = document.getElementById(\"d791d47a-e6d0-4d6a-ad3e-5d7f54aa8ba7\");\n",
       "  if (element == null) {\n",
       "    console.log(\"Bokeh: ERROR: autoload.js configured with elementid 'd791d47a-e6d0-4d6a-ad3e-5d7f54aa8ba7' but no matching script tag was found. \")\n",
       "    return false;\n",
       "  }\n",
       "\n",
       "  var js_urls = [\"https://cdn.pydata.org/bokeh/release/bokeh-0.12.16.min.js\", \"https://cdn.pydata.org/bokeh/release/bokeh-widgets-0.12.16.min.js\", \"https://cdn.pydata.org/bokeh/release/bokeh-tables-0.12.16.min.js\", \"https://cdn.pydata.org/bokeh/release/bokeh-gl-0.12.16.min.js\"];\n",
       "\n",
       "  var inline_js = [\n",
       "    function(Bokeh) {\n",
       "      Bokeh.set_log_level(\"info\");\n",
       "    },\n",
       "    \n",
       "    function(Bokeh) {\n",
       "      \n",
       "    },\n",
       "    function(Bokeh) {\n",
       "      console.log(\"Bokeh: injecting CSS: https://cdn.pydata.org/bokeh/release/bokeh-0.12.16.min.css\");\n",
       "      Bokeh.embed.inject_css(\"https://cdn.pydata.org/bokeh/release/bokeh-0.12.16.min.css\");\n",
       "      console.log(\"Bokeh: injecting CSS: https://cdn.pydata.org/bokeh/release/bokeh-widgets-0.12.16.min.css\");\n",
       "      Bokeh.embed.inject_css(\"https://cdn.pydata.org/bokeh/release/bokeh-widgets-0.12.16.min.css\");\n",
       "      console.log(\"Bokeh: injecting CSS: https://cdn.pydata.org/bokeh/release/bokeh-tables-0.12.16.min.css\");\n",
       "      Bokeh.embed.inject_css(\"https://cdn.pydata.org/bokeh/release/bokeh-tables-0.12.16.min.css\");\n",
       "    }\n",
       "  ];\n",
       "\n",
       "  function run_inline_js() {\n",
       "    \n",
       "    if ((root.Bokeh !== undefined) || (force === true)) {\n",
       "      for (var i = 0; i < inline_js.length; i++) {\n",
       "        inline_js[i].call(root, root.Bokeh);\n",
       "      }if (force === true) {\n",
       "        display_loaded();\n",
       "      }} else if (Date.now() < root._bokeh_timeout) {\n",
       "      setTimeout(run_inline_js, 100);\n",
       "    } else if (!root._bokeh_failed_load) {\n",
       "      console.log(\"Bokeh: BokehJS failed to load within specified timeout.\");\n",
       "      root._bokeh_failed_load = true;\n",
       "    } else if (force !== true) {\n",
       "      var cell = $(document.getElementById(\"d791d47a-e6d0-4d6a-ad3e-5d7f54aa8ba7\")).parents('.cell').data().cell;\n",
       "      cell.output_area.append_execute_result(NB_LOAD_WARNING)\n",
       "    }\n",
       "\n",
       "  }\n",
       "\n",
       "  if (root._bokeh_is_loading === 0) {\n",
       "    console.log(\"Bokeh: BokehJS loaded, going straight to plotting\");\n",
       "    run_inline_js();\n",
       "  } else {\n",
       "    load_libs(js_urls, function() {\n",
       "      console.log(\"Bokeh: BokehJS plotting callback run at\", now());\n",
       "      run_inline_js();\n",
       "    });\n",
       "  }\n",
       "}(window));"
      ],
      "application/vnd.bokehjs_load.v0+json": "\n(function(root) {\n  function now() {\n    return new Date();\n  }\n\n  var force = true;\n\n  if (typeof (root._bokeh_onload_callbacks) === \"undefined\" || force === true) {\n    root._bokeh_onload_callbacks = [];\n    root._bokeh_is_loading = undefined;\n  }\n\n  \n\n  \n  if (typeof (root._bokeh_timeout) === \"undefined\" || force === true) {\n    root._bokeh_timeout = Date.now() + 5000;\n    root._bokeh_failed_load = false;\n  }\n\n  var NB_LOAD_WARNING = {'data': {'text/html':\n     \"<div style='background-color: #fdd'>\\n\"+\n     \"<p>\\n\"+\n     \"BokehJS does not appear to have successfully loaded. If loading BokehJS from CDN, this \\n\"+\n     \"may be due to a slow or bad network connection. Possible fixes:\\n\"+\n     \"</p>\\n\"+\n     \"<ul>\\n\"+\n     \"<li>re-rerun `output_notebook()` to attempt to load from CDN again, or</li>\\n\"+\n     \"<li>use INLINE resources instead, as so:</li>\\n\"+\n     \"</ul>\\n\"+\n     \"<code>\\n\"+\n     \"from bokeh.resources import INLINE\\n\"+\n     \"output_notebook(resources=INLINE)\\n\"+\n     \"</code>\\n\"+\n     \"</div>\"}};\n\n  function display_loaded() {\n    var el = document.getElementById(\"d791d47a-e6d0-4d6a-ad3e-5d7f54aa8ba7\");\n    if (el != null) {\n      el.textContent = \"BokehJS is loading...\";\n    }\n    if (root.Bokeh !== undefined) {\n      if (el != null) {\n        el.textContent = \"BokehJS \" + root.Bokeh.version + \" successfully loaded.\";\n      }\n    } else if (Date.now() < root._bokeh_timeout) {\n      setTimeout(display_loaded, 100)\n    }\n  }\n\n\n  function run_callbacks() {\n    try {\n      root._bokeh_onload_callbacks.forEach(function(callback) { callback() });\n    }\n    finally {\n      delete root._bokeh_onload_callbacks\n    }\n    console.info(\"Bokeh: all callbacks have finished\");\n  }\n\n  function load_libs(js_urls, callback) {\n    root._bokeh_onload_callbacks.push(callback);\n    if (root._bokeh_is_loading > 0) {\n      console.log(\"Bokeh: BokehJS is being loaded, scheduling callback at\", now());\n      return null;\n    }\n    if (js_urls == null || js_urls.length === 0) {\n      run_callbacks();\n      return null;\n    }\n    console.log(\"Bokeh: BokehJS not loaded, scheduling load and callback at\", now());\n    root._bokeh_is_loading = js_urls.length;\n    for (var i = 0; i < js_urls.length; i++) {\n      var url = js_urls[i];\n      var s = document.createElement('script');\n      s.src = url;\n      s.async = false;\n      s.onreadystatechange = s.onload = function() {\n        root._bokeh_is_loading--;\n        if (root._bokeh_is_loading === 0) {\n          console.log(\"Bokeh: all BokehJS libraries loaded\");\n          run_callbacks()\n        }\n      };\n      s.onerror = function() {\n        console.warn(\"failed to load library \" + url);\n      };\n      console.log(\"Bokeh: injecting script tag for BokehJS library: \", url);\n      document.getElementsByTagName(\"head\")[0].appendChild(s);\n    }\n  };var element = document.getElementById(\"d791d47a-e6d0-4d6a-ad3e-5d7f54aa8ba7\");\n  if (element == null) {\n    console.log(\"Bokeh: ERROR: autoload.js configured with elementid 'd791d47a-e6d0-4d6a-ad3e-5d7f54aa8ba7' but no matching script tag was found. \")\n    return false;\n  }\n\n  var js_urls = [\"https://cdn.pydata.org/bokeh/release/bokeh-0.12.16.min.js\", \"https://cdn.pydata.org/bokeh/release/bokeh-widgets-0.12.16.min.js\", \"https://cdn.pydata.org/bokeh/release/bokeh-tables-0.12.16.min.js\", \"https://cdn.pydata.org/bokeh/release/bokeh-gl-0.12.16.min.js\"];\n\n  var inline_js = [\n    function(Bokeh) {\n      Bokeh.set_log_level(\"info\");\n    },\n    \n    function(Bokeh) {\n      \n    },\n    function(Bokeh) {\n      console.log(\"Bokeh: injecting CSS: https://cdn.pydata.org/bokeh/release/bokeh-0.12.16.min.css\");\n      Bokeh.embed.inject_css(\"https://cdn.pydata.org/bokeh/release/bokeh-0.12.16.min.css\");\n      console.log(\"Bokeh: injecting CSS: https://cdn.pydata.org/bokeh/release/bokeh-widgets-0.12.16.min.css\");\n      Bokeh.embed.inject_css(\"https://cdn.pydata.org/bokeh/release/bokeh-widgets-0.12.16.min.css\");\n      console.log(\"Bokeh: injecting CSS: https://cdn.pydata.org/bokeh/release/bokeh-tables-0.12.16.min.css\");\n      Bokeh.embed.inject_css(\"https://cdn.pydata.org/bokeh/release/bokeh-tables-0.12.16.min.css\");\n    }\n  ];\n\n  function run_inline_js() {\n    \n    if ((root.Bokeh !== undefined) || (force === true)) {\n      for (var i = 0; i < inline_js.length; i++) {\n        inline_js[i].call(root, root.Bokeh);\n      }if (force === true) {\n        display_loaded();\n      }} else if (Date.now() < root._bokeh_timeout) {\n      setTimeout(run_inline_js, 100);\n    } else if (!root._bokeh_failed_load) {\n      console.log(\"Bokeh: BokehJS failed to load within specified timeout.\");\n      root._bokeh_failed_load = true;\n    } else if (force !== true) {\n      var cell = $(document.getElementById(\"d791d47a-e6d0-4d6a-ad3e-5d7f54aa8ba7\")).parents('.cell').data().cell;\n      cell.output_area.append_execute_result(NB_LOAD_WARNING)\n    }\n\n  }\n\n  if (root._bokeh_is_loading === 0) {\n    console.log(\"Bokeh: BokehJS loaded, going straight to plotting\");\n    run_inline_js();\n  } else {\n    load_libs(js_urls, function() {\n      console.log(\"Bokeh: BokehJS plotting callback run at\", now());\n      run_inline_js();\n    });\n  }\n}(window));"
     },
     "metadata": {},
     "output_type": "display_data"
    }
   ],
   "source": [
    "from bokeh.plotting import figure, show, output_file\n",
    "from bokeh.io import output_notebook\n",
    "from bokeh.palettes import Category10\n",
    "from scipy import signal\n",
    "import scipy.io as io\n",
    "from bokeh.transform import jitter\n",
    "TOOLS = \"pan,wheel_zoom,box_zoom,reset,box_select,lasso_select, save\"\n",
    "output_notebook()\n",
    "#output_file('html/b1_{}.html'.format(filename[5:7]))"
   ]
  },
  {
   "cell_type": "code",
   "execution_count": 3,
   "metadata": {},
   "outputs": [],
   "source": [
    "import matplotlib.pyplot as plt\n",
    "from mpl_toolkits.mplot3d import Axes3D\n",
    "from matplotlib.patches import FancyArrowPatch\n",
    "import numpy as np\n",
    "from mpl_toolkits.mplot3d import proj3d\n",
    "from itertools import product, combinations\n",
    "\n",
    "class Arrow3D(FancyArrowPatch):\n",
    "\n",
    "    def __init__(self, xs, ys, zs, *args, **kwargs):\n",
    "        FancyArrowPatch.__init__(self, (0, 0), (0, 0), *args, **kwargs)\n",
    "        self._verts3d = xs, ys, zs\n",
    "\n",
    "    def draw(self, renderer):\n",
    "        xs3d, ys3d, zs3d = self._verts3d\n",
    "        xs, ys, zs = proj3d.proj_transform(xs3d, ys3d, zs3d, renderer.M)\n",
    "        self.set_positions((xs[0], ys[0]), (xs[1], ys[1]))\n",
    "        FancyArrowPatch.draw(self, renderer)"
   ]
  },
  {
   "cell_type": "code",
   "execution_count": 4,
   "metadata": {},
   "outputs": [],
   "source": [
    "def get(filename, sv_arr):\n",
    "    data = bytes(file_byte_iterator(filename))\n",
    "    epoch_array = get_epoch_array(data)\n",
    "    req_ids = [b'~~', b'SI', b'AN', b'rc', b'pc', b'RC', b'PC', b'NE', b'PV', b'NN', b'NT', b'EL', b'AZ']\n",
    "    epoch_min_arr = [filter_epoch(req_ids, epoch) for epoch in epoch_array]\n",
    "\n",
    "    pseudo_params = namedtuple('pseudo_params', ['usi','cp', 'pr', 'elev'])\n",
    "    ephemerisNE = namedtuple('ephemerisNE', ['sv', 'frqNum', 'dne',\n",
    "                             'tk', 'tb', 'health', 'age', 'flags',\n",
    "                             'rx', 'ry', 'rz', 'vx', 'vy', 'vz', 'wx', 'wy', 'wz',\n",
    "                             'tauSys', 'tau', 'gamma', 'cs'])\n",
    "\n",
    "    def pick_elem(dict):\n",
    "        return [dict[b'SI'].usi, dict[b'PC'].cp, dict[b'RC'].pr, dict[b'EL'].elev]\n",
    "\n",
    "    def process_epoch(epoch):\n",
    "        ep = [map_rec(general_parser(rec)) for rec in epoch]\n",
    "        ep_dict = {rec.id: rec for rec in ep}\n",
    "        processed_data = {\n",
    "            'RT': (ep_dict[b'~~'].tod[0]*1e-3)%86400,\n",
    "            'NT': (ep_dict[b'NT'].tod*1e-3)%86400,\n",
    "            'pseudo_params': [pseudo_params(usi, cp, pr, elev) for usi, cp, pr, elev in zip( *pick_elem(ep_dict) )],\n",
    "            'receiver': ep_dict[b'PV'],\n",
    "            'NN': ep_dict[b'NN'],\n",
    "        }\n",
    "        if b'NE' in ep_dict:\n",
    "            processed_data['ephemerisNE'] = ep_dict[ b'NE']\n",
    "        return processed_data\n",
    "\n",
    "    sats_array = [process_epoch(epoch) for epoch in epoch_min_arr]\n",
    "    #sat_live = [[find_sat(sv, sats['pseudo_params']) for sv in sv_arr] for sats in sats_array]    \n",
    "    \n",
    "    return sats_array\n",
    "\n",
    "fR = lambda xr,yr,zr: np.sqrt((xr)**2+(yr)**2+(zr)**2)\n",
    "\n",
    "def sync(data, data1):\n",
    "    epoch = 0\n",
    "    X,Y = 0,0\n",
    "    if data[0]['RT'] > data1[0]['RT']:\n",
    "        while data[0]['RT'] != data1[epoch]['RT']:\n",
    "            epoch += 1\n",
    "        X,Y = data, data1[epoch:]\n",
    "    else:\n",
    "        while data1[0]['RT'] != data[epoch]['RT']:\n",
    "            epoch += 1\n",
    "        X,Y =  data[epoch:], data1\n",
    "    if len(X) > len(Y):\n",
    "        X = X[:len(Y)]\n",
    "    else:\n",
    "        Y = Y[:len(X)]\n",
    "    return X,Y"
   ]
  },
  {
   "cell_type": "code",
   "execution_count": 5,
   "metadata": {},
   "outputs": [],
   "source": [
    "pseudo_params = namedtuple('pseudo_params', ['usi','cp', 'pr', 'elev'])\n",
    "def find_sat(usi, sats):\n",
    "    return next((sat for sat in sats if (sat.usi == usi)), pseudo_params(usi, 0, 0, 0))\n",
    "def popr(filename):\n",
    "    if '1' in filename:\n",
    "        return 0.169, 0.829, -0.452  \n",
    "    elif '2' in filename:\n",
    "        return -0.642, 1.169, -0.139  \n",
    "    elif '3' in filename:\n",
    "        return -0.839, 0.351, 0.293  \n",
    "\n",
    "def select_eph(target, arr):\n",
    "    compare = lambda x: abs(target - x)\n",
    "    return sorted(arr, key=compare)[0]"
   ]
  },
  {
   "cell_type": "code",
   "execution_count": 6,
   "metadata": {},
   "outputs": [],
   "source": [
    "def StatusGLN(sys, sys0,  x0 = 0, y0 = 0, z0 = 0):\n",
    "    Status = []\n",
    "    for epoch in tnrange(len(sys0)):\n",
    "        stat = []\n",
    "        #rt = int((sys[epoch]['RT'].tod[0]*1e-3)%86400)\n",
    "        rt = sys[epoch]['RT']\n",
    "        nt = sys[epoch]['NT']\n",
    "        pv = B1[0]['receiver']\n",
    "        pv0 = sys[0]['receiver']\n",
    "        sats = sys0[epoch]#['pseudo_params']\n",
    "        for usi in sv_gln:\n",
    "            if sats[usi].usi in EphemerisNE.keys():\n",
    "                cur_eph = EphemerisNE[sats[usi].usi][select_eph(nt, EphemerisNE[sats[usi].usi].keys())]\n",
    "                sv = [*EphemerisNE[sats[usi].usi].values()][0].sv\n",
    "                X,Y,Z = Uchet(*gln_coord(nt, 5, cur_eph, sats[usi].pr), pv.x+x0,pv.y+y0,pv.z+z0)\n",
    "                R = fR( X-(pv.x+x0), Y-(pv.y+y0), Z-(pv.z+z0) )\n",
    "                stat.append(status(rt, sats[usi].usi, sv, X, Y, Z, pv0.x, pv0.y, pv0.z, R, sats[usi].cp, sats[usi].pr, sats[usi].elev))\n",
    "            else:\n",
    "                stat.append(status(rt, sats[usi].usi, 0, 0,0,0,0,0,0, 0,(sats[usi].cp),sats[usi].pr, 0))\n",
    "        Status.append({rec.usi: rec for rec in stat if rec.X != 0})\n",
    "    return Status"
   ]
  },
  {
   "cell_type": "code",
   "execution_count": 7,
   "metadata": {},
   "outputs": [],
   "source": [
    "status = namedtuple('status',['rt','usi', 'sv' ,'X', 'Y', 'Z', 'x', 'y', 'z' ,'R','cp', 'pr', 'el'])\n",
    "status0 = namedtuple('status',['rt', 'usi', 'cp', 'R'])\n",
    "\n",
    "d_x0 = namedtuple('d_x',['d_fi','d_R', 'd_p'])\n",
    "dd_x0 = namedtuple('dd_x',['dd_fi','dd_R', 'dd_p'])"
   ]
  },
  {
   "cell_type": "code",
   "execution_count": 8,
   "metadata": {},
   "outputs": [],
   "source": [
    "sv_gps = [*range(1,39)]\n",
    "sv_gln = [*range(38,70)]\n",
    "sv_gln_ = [*range(-7,24)]\n",
    "sv_arr0 = [47, 50, 55, 57]\n",
    "sv_arr = [4, 5, 6, 24, 25, 30]\n",
    "F = 1575.42e6\n",
    "C = 299792458.\n",
    "lam = C / F\n",
    "lam_gln = {usi: C / ((1602 + (usi - 45) * 0.5625)*1e6) for usi in sv_gln}\n",
    "F_gln = {usi: ((1602 + (usi - 45) * 0.5625)*1e6) for usi in sv_gln}"
   ]
  },
  {
   "cell_type": "code",
   "execution_count": 9,
   "metadata": {},
   "outputs": [
    {
     "name": "stdout",
     "output_type": "stream",
     "text": [
      "Wall time: 3.31 s\n"
     ]
    }
   ],
   "source": [
    "%%time\n",
    "filename = 'data/r1.dat'\n",
    "B1,R1 = sync(get('data/b1.dat', sv_gps), get(filename, sv_gps))\n",
    "\n",
    "epne = [sat['ephemerisNE'] for sat in B1 if 'ephemerisNE' in sat]\n",
    "\n",
    "EphemerisNE = {rec.frqNum+45: {ep.tb: ep for ep in epne if ep.frqNum == rec.frqNum} for rec in epne}"
   ]
  },
  {
   "cell_type": "code",
   "execution_count": 10,
   "metadata": {},
   "outputs": [],
   "source": [
    "dx,dy,dz = popr(filename)\n",
    "\n",
    "bgln = {epoch: {usi: find_sat(usi, B1[epoch]['pseudo_params']) for usi in sv_gln} for epoch in range(len(B1))}\n",
    "rgln = {epoch: {usi: find_sat(usi, R1[epoch]['pseudo_params']) for usi in sv_gln} for epoch in range(len(B1))}"
   ]
  },
  {
   "cell_type": "code",
   "execution_count": 11,
   "metadata": {},
   "outputs": [
    {
     "data": {
      "application/vnd.jupyter.widget-view+json": {
       "model_id": "1e6ed49fe4bd442ea700d8a9f2865a16",
       "version_major": 2,
       "version_minor": 0
      },
      "text/plain": [
       "HBox(children=(IntProgress(value=0, max=3678), HTML(value='')))"
      ]
     },
     "metadata": {},
     "output_type": "display_data"
    },
    {
     "name": "stdout",
     "output_type": "stream",
     "text": [
      "\n"
     ]
    },
    {
     "data": {
      "application/vnd.jupyter.widget-view+json": {
       "model_id": "4e9ed0a96d49489999953124054a5d76",
       "version_major": 2,
       "version_minor": 0
      },
      "text/plain": [
       "HBox(children=(IntProgress(value=0, max=3678), HTML(value='')))"
      ]
     },
     "metadata": {},
     "output_type": "display_data"
    },
    {
     "name": "stdout",
     "output_type": "stream",
     "text": [
      "\n",
      "Wall time: 44 s\n"
     ]
    }
   ],
   "source": [
    "%%time\n",
    "Bgln = StatusGLN(B1, bgln)\n",
    "Rgln = StatusGLN(R1, rgln, dx, dy, dz)"
   ]
  },
  {
   "cell_type": "code",
   "execution_count": 12,
   "metadata": {},
   "outputs": [],
   "source": [
    "d_x = namedtuple('d_x',['d_fi','d_qfi', 'd_R', 'd_p', ])\n",
    "dd_x = namedtuple('dd_x',['dd_fi', 'dd_qfi', 'dd_R', 'dd_p',])\n",
    "Y_x = namedtuple('Y_x', ['Yp', 'Yqfi', 'fi'])\n",
    "h_x = namedtuple('h', ['hx', 'hy', 'hz'])\n",
    "Hy_x = namedtuple('Hy_x', ['Hyp', 'Hyqfi', 'Hfi'])"
   ]
  },
  {
   "cell_type": "code",
   "execution_count": 15,
   "metadata": {},
   "outputs": [],
   "source": [
    "Index = lambda epoch: next(key for key, val in Bgln[epoch].items() if val.el == np.max([val.el for key, val in Bgln[epoch].items()]))"
   ]
  },
  {
   "cell_type": "code",
   "execution_count": 49,
   "metadata": {},
   "outputs": [],
   "source": [
    "sv_gln0 = [47, 50, 55, 57]\n",
    "sv_gln_ = [5, 21, 18, 3]\n",
    "\n",
    "JGL = len(sv_gln0)\n",
    "#1300 - 2100\n",
    "ts = 1300\n",
    "te = 2100\n",
    "Range = range(ts, te+1)\n",
    "\n",
    "dX = {epoch: {sv: d_x(Rgln[epoch][sv].cp - Bgln[epoch][sv].cp,\n",
    "                        (Rgln[epoch][sv].cp - Rgln[ts][sv].cp) - (Bgln[epoch][sv].cp - Bgln[ts][sv].cp),\n",
    "                        Rgln[epoch][sv].R  - Bgln[epoch][sv].R,\n",
    "                        Rgln[epoch][sv].pr*C - Bgln[epoch][sv].pr*C,) for sv in sv_gln0} for epoch in Range}\n",
    "\n",
    "el = 57\n",
    "ddX = {epoch: {sv: dd_x(dX[epoch][sv].d_fi - dX[epoch][el].d_fi,\n",
    "                        (dX[epoch][sv].d_qfi - dX[epoch][el].d_qfi)*lam,\n",
    "                          dX[epoch][sv].d_R / lam_gln[sv] - dX[epoch][el].d_R / lam_gln[el],\n",
    "                          (1 / (len(sv_gln0) * (C / (F_gln[sv] - F_gln[el])))) * np.sum([dX[epoch][svm].d_R - dX[epoch][svm].d_p for svm in sv_gln0])) for sv in sv_gln0 if sv != el} for epoch in  Range}\n",
    "\n",
    "ddM = {epoch: {sv: ddX[epoch][sv].dd_fi - ddX[epoch][sv].dd_R + ddX[epoch][sv].dd_p for sv in sv_gln0 if sv != el} for epoch in  Range}\n",
    "ddMsv = {sv: [ddM[epoch][sv]-ddM[Range[0]][sv] for epoch in Range] for sv in sv_gln0 if sv != el}"
   ]
  },
  {
   "cell_type": "code",
   "execution_count": 50,
   "metadata": {},
   "outputs": [
    {
     "ename": "NameError",
     "evalue": "name 'sv' is not defined",
     "output_type": "error",
     "traceback": [
      "\u001b[1;31m---------------------------------------------------------------------------\u001b[0m",
      "\u001b[1;31mNameError\u001b[0m                                 Traceback (most recent call last)",
      "\u001b[1;32m<ipython-input-50-8f3c052cde3d>\u001b[0m in \u001b[0;36m<module>\u001b[1;34m()\u001b[0m\n\u001b[1;32m----> 1\u001b[1;33m \u001b[1;33m(\u001b[0m\u001b[1;36m1\u001b[0m \u001b[1;33m/\u001b[0m \u001b[1;33m(\u001b[0m\u001b[0mlen\u001b[0m\u001b[1;33m(\u001b[0m\u001b[0msv_gln0\u001b[0m\u001b[1;33m)\u001b[0m \u001b[1;33m*\u001b[0m \u001b[1;33m(\u001b[0m\u001b[0mC\u001b[0m \u001b[1;33m/\u001b[0m \u001b[1;33m(\u001b[0m\u001b[0mF_gln\u001b[0m\u001b[1;33m[\u001b[0m\u001b[0msv\u001b[0m\u001b[1;33m]\u001b[0m \u001b[1;33m-\u001b[0m \u001b[0mF_gln\u001b[0m\u001b[1;33m[\u001b[0m\u001b[0mel\u001b[0m\u001b[1;33m]\u001b[0m\u001b[1;33m)\u001b[0m\u001b[1;33m)\u001b[0m\u001b[1;33m)\u001b[0m\u001b[1;33m)\u001b[0m \u001b[1;33m*\u001b[0m \u001b[0mnp\u001b[0m\u001b[1;33m.\u001b[0m\u001b[0msum\u001b[0m\u001b[1;33m(\u001b[0m\u001b[1;33m[\u001b[0m\u001b[0mdX\u001b[0m\u001b[1;33m[\u001b[0m\u001b[0mepoch\u001b[0m\u001b[1;33m]\u001b[0m\u001b[1;33m[\u001b[0m\u001b[0msvm\u001b[0m\u001b[1;33m]\u001b[0m\u001b[1;33m.\u001b[0m\u001b[0md_R\u001b[0m \u001b[1;33m-\u001b[0m \u001b[0mdX\u001b[0m\u001b[1;33m[\u001b[0m\u001b[0mepoch\u001b[0m\u001b[1;33m]\u001b[0m\u001b[1;33m[\u001b[0m\u001b[0msvm\u001b[0m\u001b[1;33m]\u001b[0m\u001b[1;33m.\u001b[0m\u001b[0md_p\u001b[0m \u001b[1;32mfor\u001b[0m \u001b[0msvm\u001b[0m \u001b[1;32min\u001b[0m \u001b[0msv_gln0\u001b[0m\u001b[1;33m]\u001b[0m\u001b[1;33m)\u001b[0m\u001b[1;33m\u001b[0m\u001b[0m\n\u001b[0m",
      "\u001b[1;31mNameError\u001b[0m: name 'sv' is not defined"
     ]
    }
   ],
   "source": [
    "(1 / (len(sv_gln0) * (C / (F_gln[sv] - F_gln[el])))) * np.sum([dX[epoch][svm].d_R - dX[epoch][svm].d_p for svm in sv_gln0])"
   ]
  },
  {
   "cell_type": "code",
   "execution_count": 51,
   "metadata": {},
   "outputs": [
    {
     "data": {
      "text/html": [
       "\n",
       "<div class=\"bk-root\">\n",
       "    <div class=\"bk-plotdiv\" id=\"186825e7-1d05-4680-9d81-192c542c9720\"></div>\n",
       "</div>"
      ]
     },
     "metadata": {},
     "output_type": "display_data"
    },
    {
     "data": {
      "application/javascript": [
       "(function(root) {\n",
       "  function embed_document(root) {\n",
       "    \n",
       "  var docs_json = {\"9787f8b2-8385-42a2-90d6-306e6096d76e\":{\"roots\":{\"references\":[{\"attributes\":{\"callback\":null,\"data\":{\"x\":[1300,1301,1302,1303,1304,1305,1306,1307,1308,1309,1310,1311,1312,1313,1314,1315,1316,1317,1318,1319,1320,1321,1322,1323,1324,1325,1326,1327,1328,1329,1330,1331,1332,1333,1334,1335,1336,1337,1338,1339,1340,1341,1342,1343,1344,1345,1346,1347,1348,1349,1350,1351,1352,1353,1354,1355,1356,1357,1358,1359,1360,1361,1362,1363,1364,1365,1366,1367,1368,1369,1370,1371,1372,1373,1374,1375,1376,1377,1378,1379,1380,1381,1382,1383,1384,1385,1386,1387,1388,1389,1390,1391,1392,1393,1394,1395,1396,1397,1398,1399,1400,1401,1402,1403,1404,1405,1406,1407,1408,1409,1410,1411,1412,1413,1414,1415,1416,1417,1418,1419,1420,1421,1422,1423,1424,1425,1426,1427,1428,1429,1430,1431,1432,1433,1434,1435,1436,1437,1438,1439,1440,1441,1442,1443,1444,1445,1446,1447,1448,1449,1450,1451,1452,1453,1454,1455,1456,1457,1458,1459,1460,1461,1462,1463,1464,1465,1466,1467,1468,1469,1470,1471,1472,1473,1474,1475,1476,1477,1478,1479,1480,1481,1482,1483,1484,1485,1486,1487,1488,1489,1490,1491,1492,1493,1494,1495,1496,1497,1498,1499,1500,1501,1502,1503,1504,1505,1506,1507,1508,1509,1510,1511,1512,1513,1514,1515,1516,1517,1518,1519,1520,1521,1522,1523,1524,1525,1526,1527,1528,1529,1530,1531,1532,1533,1534,1535,1536,1537,1538,1539,1540,1541,1542,1543,1544,1545,1546,1547,1548,1549,1550,1551,1552,1553,1554,1555,1556,1557,1558,1559,1560,1561,1562,1563,1564,1565,1566,1567,1568,1569,1570,1571,1572,1573,1574,1575,1576,1577,1578,1579,1580,1581,1582,1583,1584,1585,1586,1587,1588,1589,1590,1591,1592,1593,1594,1595,1596,1597,1598,1599,1600,1601,1602,1603,1604,1605,1606,1607,1608,1609,1610,1611,1612,1613,1614,1615,1616,1617,1618,1619,1620,1621,1622,1623,1624,1625,1626,1627,1628,1629,1630,1631,1632,1633,1634,1635,1636,1637,1638,1639,1640,1641,1642,1643,1644,1645,1646,1647,1648,1649,1650,1651,1652,1653,1654,1655,1656,1657,1658,1659,1660,1661,1662,1663,1664,1665,1666,1667,1668,1669,1670,1671,1672,1673,1674,1675,1676,1677,1678,1679,1680,1681,1682,1683,1684,1685,1686,1687,1688,1689,1690,1691,1692,1693,1694,1695,1696,1697,1698,1699,1700,1701,1702,1703,1704,1705,1706,1707,1708,1709,1710,1711,1712,1713,1714,1715,1716,1717,1718,1719,1720,1721,1722,1723,1724,1725,1726,1727,1728,1729,1730,1731,1732,1733,1734,1735,1736,1737,1738,1739,1740,1741,1742,1743,1744,1745,1746,1747,1748,1749,1750,1751,1752,1753,1754,1755,1756,1757,1758,1759,1760,1761,1762,1763,1764,1765,1766,1767,1768,1769,1770,1771,1772,1773,1774,1775,1776,1777,1778,1779,1780,1781,1782,1783,1784,1785,1786,1787,1788,1789,1790,1791,1792,1793,1794,1795,1796,1797,1798,1799,1800,1801,1802,1803,1804,1805,1806,1807,1808,1809,1810,1811,1812,1813,1814,1815,1816,1817,1818,1819,1820,1821,1822,1823,1824,1825,1826,1827,1828,1829,1830,1831,1832,1833,1834,1835,1836,1837,1838,1839,1840,1841,1842,1843,1844,1845,1846,1847,1848,1849,1850,1851,1852,1853,1854,1855,1856,1857,1858,1859,1860,1861,1862,1863,1864,1865,1866,1867,1868,1869,1870,1871,1872,1873,1874,1875,1876,1877,1878,1879,1880,1881,1882,1883,1884,1885,1886,1887,1888,1889,1890,1891,1892,1893,1894,1895,1896,1897,1898,1899,1900,1901,1902,1903,1904,1905,1906,1907,1908,1909,1910,1911,1912,1913,1914,1915,1916,1917,1918,1919,1920,1921,1922,1923,1924,1925,1926,1927,1928,1929,1930,1931,1932,1933,1934,1935,1936,1937,1938,1939,1940,1941,1942,1943,1944,1945,1946,1947,1948,1949,1950,1951,1952,1953,1954,1955,1956,1957,1958,1959,1960,1961,1962,1963,1964,1965,1966,1967,1968,1969,1970,1971,1972,1973,1974,1975,1976,1977,1978,1979,1980,1981,1982,1983,1984,1985,1986,1987,1988,1989,1990,1991,1992,1993,1994,1995,1996,1997,1998,1999,2000,2001,2002,2003,2004,2005,2006,2007,2008,2009,2010,2011,2012,2013,2014,2015,2016,2017,2018,2019,2020,2021,2022,2023,2024,2025,2026,2027,2028,2029,2030,2031,2032,2033,2034,2035,2036,2037,2038,2039,2040,2041,2042,2043,2044,2045,2046,2047,2048,2049,2050,2051,2052,2053,2054,2055,2056,2057,2058,2059,2060,2061,2062,2063,2064,2065,2066,2067,2068,2069,2070,2071,2072,2073,2074,2075,2076,2077,2078,2079,2080,2081,2082,2083,2084,2085,2086,2087,2088,2089,2090,2091,2092,2093,2094,2095,2096,2097,2098,2099,2100],\"y\":[0.0,0.014906463981475326,-0.039603809903297815,0.005396696609295759,0.0104749464030931,0.006477441908742776,-0.018080602318747196,0.028706701297949166,0.022762493763224256,-0.022055893096620593,-0.028966412690436982,0.019184383225677948,0.009241405237133904,0.009281736362339643,-0.06504977764035402,-0.041319598750476416,-0.026477106649366533,-0.07762360220911546,-0.022131100113455204,-0.03498709798896016,-0.04383119817393322,-0.04219047181402402,-0.04327601335603504,-0.019658272531586363,-0.05812398404356145,-0.05663307310720711,-0.07159886954451622,-0.04081059339293347,-0.0523279276789026,-0.015444891541108063,-0.03388387750962352,-0.01633864064268664,0.024866748740834055,-0.018913553985441922,-0.03817590411750871,0.0035783480871032225,0.01488025394263559,-0.023162198227140607,-0.0110936954583849,-0.003564734361873434,0.038315848062580926,0.0028764094469408974,0.043294117945237076,0.002475427638074734,0.04829158164614,0.052567929305837424,0.013269375344634682,-0.00044465247390235163,0.07757834766269411,0.05905971215108252,0.05808511705762953,0.00957160967803361,0.01980508887984911,-0.02476528662674582,-0.016215973844907694,0.005866350069254622,-0.06353701511687859,-0.032100377998006024,-0.0491753449036878,-0.05570818110362552,-0.024924436557284935,-0.05031031305986744,-0.06260348653364645,-0.07444284585474747,-0.056507141352398094,-0.031189609243540417,-0.07045083346631031,-0.047852024805223436,-0.0828134238039695,-0.058811737030396216,-0.05048165207716693,-0.04798136043726231,-0.07821090127808361,-0.037824473775856404,-0.09586781124730237,-0.0657914832522124,-0.03290111655127248,-0.049380378544896075,-0.012789996425510708,-0.04732714593842502,-0.08861215331535277,-0.06801847392907234,-0.048064652007781206,-0.037531089887266944,-0.06818701883483413,-0.056583429787053774,-0.0576125878921232,-0.03040653894018419,-0.042787663052990865,-0.04275978088091392,-0.04936134958248317,-0.03661246295229148,-0.03459776390462821,-0.034539241262535825,-0.01989328924543088,0.015354793152539514,-0.008524737327576304,-0.001351671144931288,-0.014709659971202882,0.01972971812341484,0.014411595818444312,0.03990077467963715,-0.02078908328726925,-0.033574905869414806,-0.03446202827953471,-0.05628717394321825,-0.0354232263766221,-0.02353629895392828,-0.0789492537038825,-0.08780829907797738,-0.07200636400975213,-0.02831515527384454,-0.06079902995489306,-0.05456785976562628,-0.06318157798560264,-0.032545452305811295,-0.060309170509981413,-0.024662961975906228,-0.04098929086725889,-0.02417991671143227,-0.055442067070316625,-0.010183396221066232,-0.022549206731440563,-0.03969043624007895,-0.03225673291834141,0.0002765143246108437,0.022754742336672962,-0.034098785477198135,0.0046472779645228,-0.022759559331461787,-0.05610752047579126,0.003874732212040044,-0.029898521926099875,0.009116005684262518,-0.00026687070550224234,0.04121193371881304,0.026708244285657656,-0.00018890546505190287,-0.0031711243954646307,0.006429922403185628,0.010913293914626365,-0.0023453099611856487,-0.028257293891641666,0.0014195018906093537,0.048387197890292555,0.048335483046543004,0.025126349636082068,0.011020768004982529,-0.011961152133721953,-0.04860677365118704,-0.03497116387907795,-0.042335249256410634,-0.003954055516743438,-0.047570906710802774,-0.020769289470450758,-0.027227421393320128,-0.023039867111293688,-0.039341765565495734,-0.04983044213011567,-0.05665292988004467,-0.01684208123742792,-0.04416390969029749,-0.026960920031484648,-0.002324665034592499,0.01764976265010887,0.05037697266584473,-0.0043398809698089735,-0.04016927824579852,-0.008541936591001331,-0.028312278158438176,-0.010721826433922388,0.04399165704705865,0.037988045917302316,-0.001199340809023397,-0.013789558115007594,0.03263044948226934,0.009786652055680634,0.015709389401905582,-0.011644233123604408,0.019778879402480243,0.03634819687891877,0.056717233657821,-0.0006173974887815348,0.02736001295471624,0.0118657142584766,0.001537104635730202,-0.03188624448821997,0.0111371368924722,-0.009452411049892362,0.025121042609953292,0.0494951016424352,0.05683884200411171,0.038345341034187186,0.031932253305768654,0.05906682061268498,0.027524153706679044,0.07072097081302786,0.024093231283927707,0.05610664597671189,0.029317109932662788,0.05525567189678782,0.0029283260910517583,0.022556764255654116,-0.01609835984709207,0.019245418996348462,-0.00150074642351683,-0.032818361207120006,-0.030576853645470692,-0.07984924607902144,-0.03624693627116926,0.010149646072591167,0.025422190126221267,0.036491301323337666,-0.01747315612726652,0.012089496579022807,-0.01196897170686384,0.07868873555349865,0.0044176730801268604,0.002884856230537025,-0.0025034492954887355,-0.0032673692967932766,0.02314190812185757,0.03585055803347359,-0.0025814710991767242,0.07200334680030096,0.0031904190649640896,0.01066185464256364,0.028681863481210712,-0.003726189677763614,0.029848817908998626,0.004909004301111963,0.03589081321680965,-0.005312034618469852,0.010342002889302648,0.030889048581258294,0.022653553683483096,-0.005836800388095753,0.030908102331579812,0.04950378325628435,0.03013016279965086,-0.012226269912844145,0.017885004549412997,-0.001447291085185043,0.008709705006737067,0.03354054169133747,0.03176827012174499,0.006608069526151894,0.020896199488760203,-0.01774133569668379,0.023675962747574886,0.003693693333786996,0.01202440873805699,0.03549941504959975,0.008053319946441206,0.024182496062479686,0.0336052759474228,0.06925516445417657,0.027829981166149764,0.00899664599083394,0.036238129063377755,0.0683645861127502,0.05502722506523128,0.01353975360720483,0.04320705952414983,0.10778051940658884,0.028809235244921183,0.016480024946787353,0.03427884122132241,0.010811528256482461,0.016102514819152702,0.03814593960257184,0.04050854366940371,0.02428304253427882,0.03836958280658109,0.05139309166023054,0.04128334316163773,0.000882313832306636,0.023016641995923237,0.053851891828117004,0.046108872361742215,0.043237129670274044,0.019114708095742117,0.03418974252986118,0.009150267302885595,0.011820853927645203,-0.0014949049895278677,0.053012454946554044,0.007845136603066294,-0.004358834648570564,0.009021172927532461,-0.026158758434860374,0.01902548251118219,-0.018283384131763114,0.026988558214867453,0.039243206673234,0.008990604973575955,0.034942155601669356,0.043744390684906875,0.006905417479032394,-0.0006250324677807839,0.016212633331804227,-0.002592170018260731,0.0031795446535340943,0.0005199254388514873,0.03890757244377596,-7.745066403685996e-05,-0.009584096230412342,0.018362951016939633,-0.011732353562649678,-0.05811359729781884,-0.026007158040442846,-0.014276330052666708,-0.016769078560770367,-0.030197116710411365,0.042712728209352235,0.030128591789178927,0.02767802479078796,-0.0014856986774987035,0.025920502348697028,0.006072059999326029,-0.021316091954645344,-0.015866501405099598,-0.02134052302281475,-0.014991009078045181,0.01561585367798557,-0.017223547055692734,0.007699923986280055,-0.04115951869366086,-0.03685803449749869,-0.020045575027296536,0.007791749031952122,9.461936716093078e-05,0.02046747671838034,-0.018795474706536197,0.05518656651844367,0.0021809898875062572,-0.025896458889292262,0.03183437097538899,0.06016419035373133,0.026550216344759292,0.012366457955295118,0.009898248503475315,0.03463870294032745,-0.011305706426895767,-0.00249700872387848,-0.005200920655056507,-0.013574587346710132,0.00011863043349080726,0.016996457391798003,-0.012628876830234503,-0.004945807521067991,0.0030532149370401385,0.008028818218662082,0.01123313703484996,0.014878618108582486,0.014438677271755296,0.019398481891272468,0.036102753525682374,0.019667430076282244,0.04264367307607131,0.01382991655287924,0.02110166057519791,0.004047591013176088,0.026136750298007883,0.02151338754035237,0.04137881954875411,0.021689952536320334,-0.019847876147736088,-0.02809426133302395,-0.032760553821589156,-0.006771747811399109,-0.01114428063425521,0.01663306275980858,0.004618638927240681,-0.03056813986711404,0.012751965227920437,-0.04591658024099843,-0.008512506041824963,-0.037795521019603484,0.0031863983104472027,-0.03197990273477558,-0.0376983704362317,-0.023904983247177825,0.010263226697958316,0.006713145901784401,0.011101913076345227,-0.023256654958288436,-0.04874140997151244,-0.03508680545007792,-0.02595089813203799,-0.042663507547871404,-0.02241622388098108,-0.025677141667017622,-0.02476613748103773,-0.02853638318467233,-0.027552926030324443,-0.0020711308478951196,-0.03574021702885943,-0.05299616970083321,-0.0528580502759155,-0.04937143204958261,-0.04734042182124654,-0.018714369712483858,-0.009648374687287742,-0.0030456495103692305,0.009608378036631393,-0.023822116768599244,-0.004489397432166697,-0.032629162912940046,-0.05010205219514319,-0.01577096112364984,-0.0042615365527467475,-0.02085683401969618,-0.05951184660165154,0.004860373795168016,-0.03613046643482676,-0.0015432658538543365,0.0015640983047831014,-0.03245833962080269,-0.09177149141925156,-0.037652061006667736,-0.045733539307803994,-0.09385175801298828,-0.020426987178552736,-0.042844450249305055,-0.032745012420605235,-0.004740022917474107,-0.004597142506497676,-0.05553017548442085,0.001651935378191638,-0.009145927041146251,-0.00848932275019365,-0.027549115426154458,-0.01678834124359696,2.6132466814487998e-05,-0.024131646719496302,-0.03513736081947627,-0.00032870168044496495,-0.0117188967394668,-0.016586229686822662,-0.0403535075830348,-0.024907140737411737,-0.025098538517369207,-0.04460338160060928,-0.037809712393283235,0.004053153077336447,-0.05647086009273039,-0.038778450833802935,-0.03167807054231275,-0.05558964464546534,-0.03722983758996179,-0.03428228880019901,-0.029527848766292664,-0.07694327599844542,-0.05489927656034865,-0.06288385748848668,-0.07829511870147599,-0.09513934277615022,-0.07437766579440108,-0.07823447641223424,-0.03375280652608126,-0.07607544653970422,-0.08611654057725104,-0.07700994437894337,-0.08006987531754817,-0.04562692413563241,-0.04823592082794903,-0.06749802269595762,-0.035307842970496495,-0.06135269792281406,-0.027731579358516,-0.05047382522914745,-0.03755131408831858,-0.043001288477114485,-0.007661121260809978,-0.010801799155331082,0.007461206993156111,-0.009590147159286744,-0.0011618530456871667,-0.025870564798481155,-0.010600096459114638,-0.0291340954458974,-0.02250982379231914,-0.010208777285981796,0.016433650979308823,0.020449730507436925,0.008682767588908291,-0.03827327009349801,-0.023759705571222867,-0.018716314791191735,-0.028427436730765976,-0.025561110288919053,-0.034010370072451224,-0.01114276486265453,-0.03639701004954077,-0.04033759704682893,-0.06028587683746878,-0.06853365743495488,-0.08003085539175459,-0.04235818613085485,-0.06536196716021436,-0.032928093423720384,-0.03445624241990686,-0.0049254150918045525,-0.055023390929562765,-0.018193836385847817,-0.03214563494819345,-0.015576119491100826,-0.02392539182250175,-0.07149733745492881,-0.08649715712215311,-0.061624120674082405,-0.0033175332243615685,-0.021873516332505005,-0.035918323298147925,-0.04227852089081807,-0.04208666551409124,-0.036386441238562384,-0.04734741085550809,-0.014758161852313378,-0.04709230303251388,-0.041197383808878385,-0.032037410299835756,-0.02071445190605914,-0.029278365007058937,-0.02631861500825039,-0.02513858492432064,-0.026444711200525717,-0.04914614060294298,-0.0276826588117558,-0.03597451774845695,-0.029763715950252845,0.0032671322835824412,-0.003620976458108771,-0.05710714100459313,0.002954298292479507,-0.02394207081715649,-0.02816382642197368,-0.04165107571344606,-0.05905651364932396,-0.0029440178616084722,-0.047249881592307474,-0.013544092156394072,-0.004263207820599746,-0.02815410700685561,0.002931094564559089,0.05576988965546548,0.005907519784642545,0.010084027253100203,0.02252328800747705,-0.028542868737531535,-0.040804926175695755,-0.01765745451044154,-0.03758528065469591,-0.02935872714829202,-0.037060739387783315,-0.03939526925262271,-0.01603674683525469,0.02363910312701023,-0.020810109118656328,-0.036060940007729414,-0.01096894040222196,-0.08685297061791175,-0.07118290543317585,-0.02532356525398427,-0.050547459379487236,-0.04253228209395843,-0.04718569774445314,-0.05702866837216902,-0.03134057220651698,-0.052701690866797435,-0.05078710709037182,-0.04529601625657165,-0.052657559420623556,-0.041148401173927596,-0.07900429632445594,-0.06347099386397304,-0.04621648891824748,-0.028809709985750942,-0.02230307441448076,-0.0013849004288317701,-0.05161879794923152,-0.05211122470259966,-0.07727038727401236,-0.03910731686679014,-0.02385418722928989,-0.000500079368293882,-0.008627106778192228,-0.0013970518172641277,-0.03478915719026077,-0.06856845765724984,-0.031156216357146604,-0.030609161071851076,-0.0031927934594762064,-0.02711263326631297,-0.030834309906794033,-0.023227432459094643,0.004953250561328559,-0.0019158162448320581,-0.040324035623001464,0.007097839661867056,-0.029541220200172802,-0.035195260906021986,-0.021896672319684285,-0.011698990525331965,0.01580414601048119,-0.007045549888545111,-0.03797590906438586,-0.001616002286255025,0.0063452853613910065,-0.00234459743893467,-0.0033385149894797905,-0.000594647331752185,0.04045287108775142,-0.0004614326247462941,0.03597815757169087,0.09048043060337818,0.0038899051023690845,0.041228376168930936,-0.002720759377439208,0.014458234436631301,0.03145270833510949,0.002663772823467525,0.007576542329388758,0.007572565425789435,0.04217230502695202,0.024682709915822443,0.032247493638891456,-0.009888221919055695,0.012238153202986268,0.04023340690127952,0.06152029713865659,0.018281009758538858,-0.0002188821925983575,-0.0034074397335359663,-0.003344573416939056,0.005653572290384545,-0.003806093918200304,0.014417339839440046,0.03201611400794491,0.015752294420991575,-0.0009189202293669041,0.01967963539945572,0.010068916415548301,-0.027429895735622267,-0.02499866337981871,-0.0003537265393163125,-0.04064882252583857,-0.00168682625289307,-0.009653606209070631,-0.00037043849309270627,-0.02708019034633935,0.02501311690593866,0.026646095103785683,-0.012117489133174786,-0.010246356663316192,-0.003325024637064189,0.026306522076566807,0.028654054488129077,-0.003850704987627296,0.03903985898358542,0.013309454902667994,0.03756513494343494,0.017313014295183393,0.014200213878041268,0.044858043944714154,0.031825843672379506,0.015085936433081315,0.03284459848083543,0.0555848726106376,0.016288088264957423,-0.00444711755412186,0.02303486324166215,0.028818398276541757,0.055875020112068796,0.062218922575596025,0.059873835215540794,0.0259275467739144,0.06738261635578624,0.01891755955938379,0.0209221028645743,0.0363400551568418,0.01698673400824191,0.02809973249404152,0.028576819534919196,0.04434615483808102,0.053835919950643074,0.050468690512104786,0.03014572390623016,0.03502396048136802,-0.007181166494262925,0.022251685798153176,0.04715014829460529,0.021256934445517572,0.06759177283228723,0.04869540062378519,-0.00817606938346671,0.038940779845802354,0.0051086952375669625,0.04618021474769307,0.02482720706660757,0.023956052183024212,-0.0008373546988025282,-0.023957614240828207,-0.02480293683322543,0.020619418816778534,0.012101960561636815,0.0344212206642851,0.0033992157765965203,0.006140880299597029,0.0010751992193434035,0.025389366032072758,0.0068383818540951324,0.00932121431219457,-0.03354866515647359,0.005882098956647042,-0.004495160711769586,-0.016000016840393982,-0.0027366388598863978,-0.010675214623120155,0.055428120162389405,0.06819459458620258,0.10610757637365964,0.02730131720923623,0.026287901313963857,0.013887007480718694,-0.003177270956399525,0.01882673724827555,-0.02787365068260783,0.02925236499297057,0.0197984148457806,0.025901235961015345,-0.01494756336063574,0.012247691304395403,0.04472554975137655,0.053876725909816514,0.031223563849778202,0.053923736931750454,0.028604734580000013,-0.0013488669636103623,0.02437542922217517,0.04576689658392752,0.008728377832483147,0.016206489301595184,0.0030768874089233123,0.030164562003989204,-0.0018856392163968394,-0.021767559465160957,-0.031524235286894964,-0.02910683089749,0.04159633407397223,0.03422585126889999,0.0008646454363940848,0.005336885832718963,0.05561590171450348,0.0003762963303017841,0.017538235775504063,-0.020503651751539564,0.0029947313973366363,0.008231052787664339,0.032403266636151784,-0.034610602463232,-0.045146333098415425,0.021423940954406362,-0.002672153441977798,-0.015059282259443307,-0.01915483716678068,-0.008683163564114693,0.0014260575791240626,-0.05131749680489861,-0.043932052217797946,-0.07672812247221827,-0.026347593133010605,-0.043814575979922665,-0.02589055356529002,-0.032393179453094945,-0.05834893160360366,-0.028195295446920454,0.006660449328251161,-0.034141419432700104,0.007492433156841116,0.01361377500492722,-0.013336647137663249,-0.07268291279987693,-0.048791428662013914,-0.06549124490680924,-0.04364715944478803,-0.06925304834911117,-0.04848587408793037,-0.0509034163759452,-0.054331528196172485,-0.0037922533211656173,-0.058273671152733186,-0.04447888574637204,-0.004282765693261581,-0.03439139511104372,-0.006076894627739193,-0.020048454534332905,0.006949770724872906,-0.04067975263555468,-0.04351215304842526]},\"selected\":{\"id\":\"28f99e08-3fa0-4cd4-9c86-001b0c9935b0\",\"type\":\"Selection\"},\"selection_policy\":{\"id\":\"fa50e140-f476-45d9-a857-c37e3c80db90\",\"type\":\"UnionRenderers\"}},\"id\":\"1fde656d-8a77-40c4-ab3d-0d514f4f0188\",\"type\":\"ColumnDataSource\"},{\"attributes\":{\"line_alpha\":0.2,\"line_color\":\"#1f77b4\",\"x\":{\"field\":\"x\"},\"y\":{\"field\":\"y\"}},\"id\":\"b81dc8ca-819d-4498-b508-788e35984e25\",\"type\":\"Line\"},{\"attributes\":{\"below\":[{\"id\":\"04f27178-5ad1-461a-835f-abb78bd513bb\",\"type\":\"LinearAxis\"}],\"left\":[{\"id\":\"ae36048e-3f7c-4c4b-9c2a-a523202bac7e\",\"type\":\"LinearAxis\"}],\"plot_height\":400,\"plot_width\":1000,\"renderers\":[{\"id\":\"04f27178-5ad1-461a-835f-abb78bd513bb\",\"type\":\"LinearAxis\"},{\"id\":\"135b66fc-de1f-424b-89d1-db280839bffa\",\"type\":\"Grid\"},{\"id\":\"ae36048e-3f7c-4c4b-9c2a-a523202bac7e\",\"type\":\"LinearAxis\"},{\"id\":\"f0c00242-59fc-4bf1-ac30-4ccb44aad823\",\"type\":\"Grid\"},{\"id\":\"dd9c6344-a08b-4709-809e-7630e89783b9\",\"type\":\"BoxAnnotation\"},{\"id\":\"ef5dd880-6ae4-4622-a8ef-047bb4b2d5ea\",\"type\":\"BoxAnnotation\"},{\"id\":\"f2c9ef79-e9d2-4cea-8bd8-7c22dbbc00a5\",\"type\":\"PolyAnnotation\"},{\"id\":\"66db537b-e4d2-4103-8b23-47e4ba668013\",\"type\":\"Legend\"},{\"id\":\"5d665039-83d2-45ad-a912-da77aa3e7900\",\"type\":\"GlyphRenderer\"},{\"id\":\"471f07b4-878d-41f2-a4fb-99961bf1a519\",\"type\":\"GlyphRenderer\"},{\"id\":\"01a49b3e-0669-43bf-ac2f-bb277d30835f\",\"type\":\"GlyphRenderer\"}],\"title\":{\"id\":\"c6612efc-7792-4168-8cde-32618895fb9d\",\"type\":\"Title\"},\"toolbar\":{\"id\":\"a91fed63-5e8a-4fcd-b6a8-b9725d3360b0\",\"type\":\"Toolbar\"},\"toolbar_location\":\"below\",\"x_range\":{\"id\":\"5361f582-3a39-461d-9c8a-f3d759c8204a\",\"type\":\"DataRange1d\"},\"x_scale\":{\"id\":\"8ded91f0-d2c5-4773-bb84-7905ca01137f\",\"type\":\"LinearScale\"},\"y_range\":{\"id\":\"9d882329-1de7-4b15-86dd-a062012e16f8\",\"type\":\"DataRange1d\"},\"y_scale\":{\"id\":\"0d419900-3609-4205-92b0-88167b3f2f74\",\"type\":\"LinearScale\"}},\"id\":\"d01fcc6f-ba67-4965-bf9f-2fc3d7becb0c\",\"subtype\":\"Figure\",\"type\":\"Plot\"},{\"attributes\":{\"data_source\":{\"id\":\"d10ef9c0-70a4-4096-b882-58e4e5fbfb43\",\"type\":\"ColumnDataSource\"},\"glyph\":{\"id\":\"33035392-2654-4663-8aca-fdc6760170b7\",\"type\":\"Line\"},\"hover_glyph\":null,\"muted_glyph\":{\"id\":\"b81dc8ca-819d-4498-b508-788e35984e25\",\"type\":\"Line\"},\"nonselection_glyph\":{\"id\":\"438904ee-5890-46d2-bc9f-437469e28d18\",\"type\":\"Line\"},\"selection_glyph\":null,\"view\":{\"id\":\"77ffec1e-c459-4861-85b0-f81cea28f601\",\"type\":\"CDSView\"}},\"id\":\"5d665039-83d2-45ad-a912-da77aa3e7900\",\"type\":\"GlyphRenderer\"},{\"attributes\":{\"callback\":null,\"data\":{\"x\":[1300,1301,1302,1303,1304,1305,1306,1307,1308,1309,1310,1311,1312,1313,1314,1315,1316,1317,1318,1319,1320,1321,1322,1323,1324,1325,1326,1327,1328,1329,1330,1331,1332,1333,1334,1335,1336,1337,1338,1339,1340,1341,1342,1343,1344,1345,1346,1347,1348,1349,1350,1351,1352,1353,1354,1355,1356,1357,1358,1359,1360,1361,1362,1363,1364,1365,1366,1367,1368,1369,1370,1371,1372,1373,1374,1375,1376,1377,1378,1379,1380,1381,1382,1383,1384,1385,1386,1387,1388,1389,1390,1391,1392,1393,1394,1395,1396,1397,1398,1399,1400,1401,1402,1403,1404,1405,1406,1407,1408,1409,1410,1411,1412,1413,1414,1415,1416,1417,1418,1419,1420,1421,1422,1423,1424,1425,1426,1427,1428,1429,1430,1431,1432,1433,1434,1435,1436,1437,1438,1439,1440,1441,1442,1443,1444,1445,1446,1447,1448,1449,1450,1451,1452,1453,1454,1455,1456,1457,1458,1459,1460,1461,1462,1463,1464,1465,1466,1467,1468,1469,1470,1471,1472,1473,1474,1475,1476,1477,1478,1479,1480,1481,1482,1483,1484,1485,1486,1487,1488,1489,1490,1491,1492,1493,1494,1495,1496,1497,1498,1499,1500,1501,1502,1503,1504,1505,1506,1507,1508,1509,1510,1511,1512,1513,1514,1515,1516,1517,1518,1519,1520,1521,1522,1523,1524,1525,1526,1527,1528,1529,1530,1531,1532,1533,1534,1535,1536,1537,1538,1539,1540,1541,1542,1543,1544,1545,1546,1547,1548,1549,1550,1551,1552,1553,1554,1555,1556,1557,1558,1559,1560,1561,1562,1563,1564,1565,1566,1567,1568,1569,1570,1571,1572,1573,1574,1575,1576,1577,1578,1579,1580,1581,1582,1583,1584,1585,1586,1587,1588,1589,1590,1591,1592,1593,1594,1595,1596,1597,1598,1599,1600,1601,1602,1603,1604,1605,1606,1607,1608,1609,1610,1611,1612,1613,1614,1615,1616,1617,1618,1619,1620,1621,1622,1623,1624,1625,1626,1627,1628,1629,1630,1631,1632,1633,1634,1635,1636,1637,1638,1639,1640,1641,1642,1643,1644,1645,1646,1647,1648,1649,1650,1651,1652,1653,1654,1655,1656,1657,1658,1659,1660,1661,1662,1663,1664,1665,1666,1667,1668,1669,1670,1671,1672,1673,1674,1675,1676,1677,1678,1679,1680,1681,1682,1683,1684,1685,1686,1687,1688,1689,1690,1691,1692,1693,1694,1695,1696,1697,1698,1699,1700,1701,1702,1703,1704,1705,1706,1707,1708,1709,1710,1711,1712,1713,1714,1715,1716,1717,1718,1719,1720,1721,1722,1723,1724,1725,1726,1727,1728,1729,1730,1731,1732,1733,1734,1735,1736,1737,1738,1739,1740,1741,1742,1743,1744,1745,1746,1747,1748,1749,1750,1751,1752,1753,1754,1755,1756,1757,1758,1759,1760,1761,1762,1763,1764,1765,1766,1767,1768,1769,1770,1771,1772,1773,1774,1775,1776,1777,1778,1779,1780,1781,1782,1783,1784,1785,1786,1787,1788,1789,1790,1791,1792,1793,1794,1795,1796,1797,1798,1799,1800,1801,1802,1803,1804,1805,1806,1807,1808,1809,1810,1811,1812,1813,1814,1815,1816,1817,1818,1819,1820,1821,1822,1823,1824,1825,1826,1827,1828,1829,1830,1831,1832,1833,1834,1835,1836,1837,1838,1839,1840,1841,1842,1843,1844,1845,1846,1847,1848,1849,1850,1851,1852,1853,1854,1855,1856,1857,1858,1859,1860,1861,1862,1863,1864,1865,1866,1867,1868,1869,1870,1871,1872,1873,1874,1875,1876,1877,1878,1879,1880,1881,1882,1883,1884,1885,1886,1887,1888,1889,1890,1891,1892,1893,1894,1895,1896,1897,1898,1899,1900,1901,1902,1903,1904,1905,1906,1907,1908,1909,1910,1911,1912,1913,1914,1915,1916,1917,1918,1919,1920,1921,1922,1923,1924,1925,1926,1927,1928,1929,1930,1931,1932,1933,1934,1935,1936,1937,1938,1939,1940,1941,1942,1943,1944,1945,1946,1947,1948,1949,1950,1951,1952,1953,1954,1955,1956,1957,1958,1959,1960,1961,1962,1963,1964,1965,1966,1967,1968,1969,1970,1971,1972,1973,1974,1975,1976,1977,1978,1979,1980,1981,1982,1983,1984,1985,1986,1987,1988,1989,1990,1991,1992,1993,1994,1995,1996,1997,1998,1999,2000,2001,2002,2003,2004,2005,2006,2007,2008,2009,2010,2011,2012,2013,2014,2015,2016,2017,2018,2019,2020,2021,2022,2023,2024,2025,2026,2027,2028,2029,2030,2031,2032,2033,2034,2035,2036,2037,2038,2039,2040,2041,2042,2043,2044,2045,2046,2047,2048,2049,2050,2051,2052,2053,2054,2055,2056,2057,2058,2059,2060,2061,2062,2063,2064,2065,2066,2067,2068,2069,2070,2071,2072,2073,2074,2075,2076,2077,2078,2079,2080,2081,2082,2083,2084,2085,2086,2087,2088,2089,2090,2091,2092,2093,2094,2095,2096,2097,2098,2099,2100],\"y\":[0.0,0.05347086817207014,-0.03727036354894153,0.018483434465338178,0.05187603391541984,0.04758258995636311,-0.008734200914517487,0.03366085951864761,0.027701436813288183,-0.04572836981981254,-0.03603671492999183,-0.031512162633191565,0.01137757933011585,-0.0024822064466434313,-0.06348813910156537,-0.04727840187470633,-0.029024086751689993,-0.09937786511531499,-0.008671364558722416,0.009369670095225047,0.02917624298532928,0.028141135174365672,0.00016221205700617247,0.005501548198964201,0.0010477661617471767,-0.04572722404759588,0.014325558940271321,0.033727870047187025,-0.007318892956845957,-0.009358266708602514,0.036569607765869705,0.02339234474288787,0.07334583186457166,0.020786818806442398,0.01829562931976625,0.004587050880076049,0.05211649625590553,0.01882025112439578,0.028643615714770476,0.017683854876253235,0.03859977089953759,0.07143612210569472,0.047726331092320606,0.018244367922989113,0.04135326334323963,0.039304990943264784,-0.014609704971832116,0.03833151527177847,0.04371022640683009,0.03578302310964432,0.05612409514722572,0.012429250709743656,0.014591252676751765,0.0026604387479380875,-0.027787302337628716,-0.05073380386534154,-0.04870091178955249,-0.0638636427385677,-0.012400122954460358,-0.013894472215497444,-0.028351853164906515,-0.05262854791695304,-0.10679215122431174,-0.07400864204268487,0.013222643134980672,-0.02239766418159661,-0.022928890273675506,0.004348830282737026,0.019498296032253393,0.018565055766970318,0.009746077007690701,0.04050147157877859,-0.014969132709154565,-0.01616479931374215,-0.0684911005417348,0.0022351878242830026,0.014979138344443754,0.021042011523491055,0.023899827182702893,-0.011415286017893322,0.0014514422580873543,-0.015241167607882744,-0.05282564956632996,-0.05407907559626324,-0.054756735547698554,-0.05153399086759691,-0.06477157932354771,-0.05380285830554499,-0.057278550223543334,-0.05045733994546708,-0.08589995831803776,-0.07227597597855606,-0.1004357776243694,-0.12337272793124043,-0.04105321407706697,-0.050312416322810805,-0.036647914340250054,-0.05946927807411839,0.02305473695201954,0.04744005548820951,-0.02653130114049418,0.033076291519734013,-0.0036077313318685356,-0.041498311218674644,-0.032937827765408656,-0.052019449882436675,-0.012646703755564204,-0.025178673250508155,-0.07846924911055453,-0.09443556314897705,-0.05224316973280452,-0.017239143247081756,-0.06231950775335804,-0.022837848908153546,-0.048251080376786604,-0.02308476307393903,-0.03349175999150589,-0.0741404674818682,-0.0018279902739664067,-0.010357270772686888,-0.009391590495937407,0.002176196617313053,0.045985496225767974,0.021833174910000253,0.02108569435603158,0.05516500665140711,0.04247739853292387,0.0355700840980262,0.03589794976318217,-0.021232526089136172,-0.03481716093645559,0.02831997259275454,-0.004492313884327359,-0.01459307198803117,0.040003496793076465,0.04894057478702507,0.0806147512815869,0.05239494917071852,0.0018155290770494048,0.022649757356902,0.03535766802960438,0.031843264420047035,-0.008866141955337525,0.01097880523866479,0.038572155688740395,0.058699911456557174,0.06624632901625205,-0.042532695682098165,-0.010487609975172063,-0.060820506780771666,-0.059464806916167845,-0.08905403737477968,-0.04301456392491332,-0.05211808442427923,-0.03322558386832952,-0.015815653487493364,-0.01900975026117635,-0.012657609311588658,-0.058014082659354926,-0.06314451623390482,-0.02183355419106192,-0.018662103145970832,0.001533564263667131,0.027195628687223916,0.050507855231046506,0.07273030571474237,0.04423975915656797,0.02631679748736815,0.0983703143542698,0.005955767933215839,0.030098973428010822,0.06316633607582389,0.021538472409730502,-0.014990282931762522,-0.03504338438156651,0.005882863249809134,0.015438601647076666,0.02152419211842016,0.02696848085071224,0.020826496909762682,0.043558842295936984,0.035291534997071494,0.0018585585355026524,0.02921847572699221,0.0009214268660571179,-0.002993813495180575,-0.016443649244621383,0.04688113016607076,0.003995021499974882,0.04244999984319975,0.08514004761764227,0.09081610146384378,0.05280897248408678,0.049967786228449995,0.034293858792892706,0.0308677270068074,0.06194453048428272,0.025686245164678212,0.07295436234534236,0.029486218815890197,0.07360368040673393,0.05961633276132261,0.050976219410102885,0.021187440668199997,0.09602883090386172,0.02143741785766906,0.03463105873765926,0.03057361363133282,-0.0039005250558545868,0.03063549187834269,0.09492847237197566,0.09282098185619247,0.057353720904160355,0.07420124402733563,0.05916542362678001,0.04100609756247309,0.08972888658468037,0.03812977501405612,0.06743750346711863,0.04435387844426941,0.04601082304600368,0.0678400367594918,0.040964806703328804,0.059103378898697656,0.07828287484392149,-0.0005402187832430627,0.04227497765666044,0.05832193114565598,0.011349481106606163,0.08984428093330621,0.0726111863413621,0.08387649292012611,0.054301678553912325,-0.004684595752280529,0.04985067778156349,0.04907380782344717,0.04276643020637039,0.037995572973557046,0.07978096210538865,0.03494867329186491,0.04669585137170884,0.05497853975259659,0.0422761541561556,0.03298807942886128,0.0643001534991754,0.08740474450414126,0.07954899766397716,0.07858811742815419,0.050738267924742786,0.09948349568034587,0.07732658373535628,0.06447653502880257,0.10858676392595612,0.13323678326028698,0.09005693286650285,0.10112380659498399,0.12337072580530162,0.04785689213326805,0.0829554772614074,0.07914931647911772,0.13437517169538182,0.09956146300746127,0.08820359549642376,0.0977747094385677,0.14050815951623008,0.09244867241622501,0.02113447002761859,0.049867916239719534,0.008141196151512986,0.0521518641778016,0.07356206788591635,0.046756691087779245,0.06863042773710504,0.07849964545545163,0.07969623897764677,0.08283717013375735,0.04813263320093597,0.052190335087772155,0.07133223237462971,0.06687412473203835,0.08273792558534865,0.06018513109881951,0.07726808326879109,0.05515172752583908,0.06376480554686736,0.059938028502784846,0.06662786060320514,0.037303406756450386,0.055603512576283265,0.059288600848645956,0.0398318108864828,0.05173943564122396,0.01612230052103314,0.07422408862061047,0.11254391274803766,0.0826733101133641,0.049779638046715036,0.10896958489615827,0.07372583290293733,0.0696258696452503,0.0751547606355416,0.06292117750064108,0.03209638167518847,0.07051711945905481,0.14836606939238095,0.11175702036081248,0.05756365236965166,0.1109050079905387,0.046500231864399666,-0.041132237218221235,0.07467494894444826,0.08630775693993087,0.06150046454689573,0.0071683310504511155,0.06221582248690538,0.044033565960234,0.052003832277250694,0.05406269711767209,0.07383253890387209,0.019328660714364787,0.006992975762898368,0.008224643058895253,0.011797821958339227,0.020846106580052037,0.04747324777866879,-0.0005337128293092519,0.06374539764493647,0.026124005722891752,0.02468172005148972,0.019513032195419555,0.06107347935736129,0.08341716417984912,0.04948906087562932,0.01780920427700039,0.08175103258631111,0.06822304535140233,0.03275061074995733,0.11128702917636701,0.12865856020681576,0.0336485402623623,0.027490456574952304,0.06982024710836754,0.0712805924402744,0.02966418947164584,0.030527218358741948,0.03883412811347853,0.024648383046667277,0.03761726418224498,0.07537748109149334,0.009833767402540161,0.07832054478558348,0.028694845839794425,0.06569090559068513,0.10503618240238666,0.03412738033983942,0.08566438526622733,0.08171452621448339,0.08006001896114867,0.09480579107031417,0.07305717465408179,0.069855509791239,0.05909626602178264,0.10554335985636953,0.06792296397827613,0.07269413079870901,0.04580226703527046,0.1079469163971396,0.07363483417537964,0.07095797129372272,-0.009887405048715436,0.094823391712481,0.07975429914199594,0.08859521001548387,0.06568172162121755,0.020236992164058165,0.08317851843113999,0.014141141033462645,0.07444843660508127,0.056424106360736914,0.061265603460725515,0.007610435997634113,0.07016218603953916,0.026115419570970744,0.040871350345355495,0.0681602155110852,0.08186036744439207,0.05240366089245185,0.026117049006984416,0.044724825099393684,0.0805352174134839,0.04344761980871681,0.04807737992359762,0.06461961525349125,0.011284328111855757,0.06382389980063863,0.09645169189204239,0.07191974979568272,0.0835471242910728,0.05060535137062061,0.02588911716142661,-0.012723690057441672,-0.001493687986680925,0.030450427792828805,0.05810023613452131,0.09169144563674081,0.11667150399708248,0.06471226731457591,0.06398581045030483,-0.005547355100418372,0.01026628596346768,0.041446900165936995,0.08374564058431133,0.04636621167600197,0.027088469542036364,0.07915216456808594,0.057107497203105595,0.01667473919656004,0.06632832230496888,0.013389880839639545,-0.0006560884031898695,0.03235109420285198,0.0482684382444063,0.03466611519036178,0.07046371318321576,0.08071229937942803,0.06319984838842174,0.10808068654105796,0.07367376257022329,0.025860910795216796,0.05623750139073991,0.0454671926975152,0.0558477210177557,0.03746651819315616,0.024946331585852022,0.07130320252892375,0.05942798006233829,0.04691703559583971,0.06353045951058789,0.06841879720357724,0.05316053635044682,0.03387966672812581,0.06546578485136934,0.03276015331715598,0.051578307324149364,0.03704993204007678,0.024525343000249222,0.0071605528661962126,0.047510939050624756,0.057996931294752585,0.04357271846632216,0.05731413868193158,0.0988960498184781,-0.004298860780608038,0.005168113756894854,0.014690173418358654,-0.007005359594643323,-0.012310161610429304,-0.004488530373862432,-0.015784325367889096,0.00933153479570592,0.0381135005620763,0.04518913439579819,0.011707736391485923,0.06142624503709726,0.02820298829232115,0.05157739550801921,0.02449158113964245,-0.018139334111282324,0.040384585768123316,0.034807200955697226,0.08114362850366774,0.06379271204133374,0.06205938835009306,0.09715262354404786,0.11330531347857686,0.08454485520911703,0.07735776534042316,0.05815692118841298,0.06391122767664115,0.0899611920229404,0.0837220035321593,0.03854735149050725,0.046261639659121556,0.06591342852706816,0.07610458436744238,0.09960944779967917,0.08611523158035084,0.08800263304507894,0.05719704729602881,0.07984928869959163,0.079506670738823,0.0874788889058209,0.037641108794304046,0.06098831215862788,0.043708340425780534,0.059105583497085945,0.04769981986802918,0.08243042907372455,0.027539935395680004,0.06182753999988222,0.03683283838418561,0.04571511039853249,0.11474324265947189,0.12457854588916462,0.0686459673648585,0.10313495083872226,0.08686582031387502,0.09008191456078407,0.06736661041654202,0.031309778496705576,0.03955035424098696,0.040668980205481375,0.10470130053369076,0.11518256477830846,0.09558356072091101,0.08225859732493745,0.07247077161247262,0.07178047144043376,0.0816402567473915,0.10958212784095167,0.03473246422794318,0.053105315299404765,0.08549333909152779,0.06712308010938273,0.06999360568292445,0.06562160518146243,0.04421651838509888,0.04944472002213729,0.07132324397986167,0.0772255192818534,0.008910737746703035,0.04114395787223657,0.06404648886035602,0.04607477082046785,0.04571850400174071,0.0851097378014174,0.08872433393619872,0.056182716259712606,0.052956143640500386,0.027641151460983338,0.07738019412173003,0.055045541660064146,0.0977189541821133,0.12669976636070146,0.08778405346922113,0.11994008215683039,0.12547369496473948,0.09424701869343721,0.09115440425009069,0.10681225264116279,0.10384604611519421,0.09609337204116741,0.09869664587751004,0.09146718153155575,0.05661544032756183,0.04688629625175622,0.08233539495813602,0.08823286390114049,0.10399364462179506,0.10273753087392379,0.09422505483180998,0.09667140503117366,0.0401173093870284,0.014056796950086436,0.11021334176172104,0.05829782604465095,0.05045578382396343,0.044009386364848524,0.0332514897018541,0.07923440409578575,0.023778641079957197,0.023362333704028515,0.026552010723378316,0.03778629894517849,0.044496779783116835,0.009035504348787526,0.019943482404329416,0.07167127091531711,0.046678805951927416,0.0770382076459839,0.053502172851182195,0.04590970492898805,0.027489463079490406,0.01772457882418621,0.011921679600220614,0.06293290123875295,0.10557295973046621,0.052149841147638654,0.09069578063008521,0.07246126850654377,0.037710823934190785,0.04077434844279537,0.06182661030558734,0.04241699796793341,0.05308304789210183,0.055390532820439375,0.044626724891941194,0.03563664406428302,0.04529830530645995,0.07331572893130556,0.06950533610026355,0.057158194829924014,0.05822216174530581,0.05275171575928539,0.06114305804365472,0.06200165934370716,0.061557427964629596,0.04394087833000526,0.029538015828677544,0.06589641650586486,0.053862655149714556,0.08117902327964543,0.04987590982648271,0.1305610569910982,0.08223397471223848,0.1065130979035871,0.11282057781733101,0.08359437453600549,0.07711203323626137,0.03408382982965463,0.04082171638810905,0.05932517155750361,0.05280465668332113,0.06442825413429887,0.08868643762588135,0.11980364531649457,0.11813714452367208,0.06159151200765223,0.07964752706595846,0.1009623669738744,0.09431241232076104,0.13407668564522623,0.0946937025351815,0.0813589388947662,0.09169032128258436,0.09990386645469584,0.09035650456911526,0.06330664591703794,0.0920513313691913,0.09989604435472188,0.0833635893395126,0.06734762023927487,0.0723995355613738,0.08952033455653918,0.05989780872738493,0.059443995356900814,0.10331807960716333,0.053903172661449616,0.033387942905562795,0.08249446627169732,0.0799107387763911,0.0826257914674784,0.05309820421717859,0.05306234700208279,0.044127718556495665,0.03287418815537535,0.06011599958316083,0.09309149637769565,0.09344339609148733,0.07666588214490844,0.11609083573895873,0.13335088289804276,0.09247486752644818,0.06725137295433115,0.06026659926394018,0.10811651041197479,0.08506966307314201,0.06085733408619376,0.07478651365991595,0.128907732387745,0.04440117855207859,0.06486756996625331,0.07155445428475105,0.08989259934597271,0.1085216745676405,0.13476700498176797,0.13269256304820942,0.08910215957351397,0.13591731946027608,0.09503788263236856,0.0826443401457766,0.11444841073347334,0.07637274156766694,0.09975149768868619,0.08211601818535996,0.10245644346798599,0.07895306596256546,0.07170587012416263,0.07738355435697031,0.060554283720449575,0.08216627802300991,0.06828650988043705,0.09331177098431453,0.12334282531574559,0.12441402061389795,0.10833421823281242,0.05857995759555479,0.0830776667665134,0.07631759907241076,0.11401828168280304,0.09228589899419148,0.104712743445873,0.06885911336522099,0.06695357467356189,0.026519304338421534,0.08741919334894988,0.058626106004794565,0.09138747531915214,0.05094583902010186,0.04376293592443403,0.039123645321325284,0.030673213116642728,0.05057522775138068,0.04680114994317819,0.0014853554712601635,0.05504996699011144,0.04272328668167802,0.051922150636841025,0.0985497131330817,0.056178989151504766,0.10944064154725197,0.13726657205296533,0.1594289509330622,0.06648871853894889,0.07866115191782797,0.0821623834284253,0.028453564920170038,0.0699865331069418,-0.008451264518612334,0.05890396619037119,0.04130831436160065,0.06543974708702649,0.04264286221248881,0.07096603461005202,0.056349874452251925,0.05305924178355781,0.07995703003550148,0.02655300322967946,0.03322792114124695,0.048677335070976824,0.07904722558561161,0.06960921947185739,0.03366723925887527,0.04013172903282225,0.03110489286103757,0.04368534920533307,0.01393339841473562,0.037728428092918875,-0.03100542123272021,0.00014350942512919573,0.051552921779830285,0.044509255575320594,0.06034117845001674,0.06242349478745268,0.04294275877754217,0.03615439950738164,0.06639403898611818,0.013457969992032304,0.03241920651910846,0.0520643961287135,0.06605407941941621,0.01915684886145641,0.021768574418956632,0.05804028500691061,0.0031524419359811873,0.03711606535404144,0.04281843400323737,0.05573500314332591,0.011021199443860041,0.024524702646687047,0.024600838989471185,0.01573539844915217,0.04636836538551847,0.018227139073786702,0.000849879227018846,-0.019022571512067543,0.013897234784025159,0.04637108871295936,0.05536922187303617,0.01609463792848942,0.0693003936950447,0.04409435860836197,0.07468398651195685,0.006936933106601373,-0.001182375381830525,0.01909565675646263,0.026783477430711855,0.04381970395161261,0.03606055382164186,0.008764193615149907,0.009093007435552636,0.04174777672042751,0.005859234684606918,0.004120128605677564,0.025838839534884528,-0.008639872733425591,0.07360268840074013,0.046781209405821755,0.06528756950700654,0.01614308467532055,0.00726463620091522]},\"selected\":{\"id\":\"8375a15d-e898-4397-a2a3-77d7b8156740\",\"type\":\"Selection\"},\"selection_policy\":{\"id\":\"fe74a0ef-fb76-44d7-b05d-bbe639a87b17\",\"type\":\"UnionRenderers\"}},\"id\":\"d10ef9c0-70a4-4096-b882-58e4e5fbfb43\",\"type\":\"ColumnDataSource\"},{\"attributes\":{\"source\":{\"id\":\"d10ef9c0-70a4-4096-b882-58e4e5fbfb43\",\"type\":\"ColumnDataSource\"}},\"id\":\"77ffec1e-c459-4861-85b0-f81cea28f601\",\"type\":\"CDSView\"},{\"attributes\":{\"plot\":null,\"text\":\"\\u041d\\u0435\\u043e\\u043f\\u0440\\u0435\\u0434\\u0435\\u043b\\u0435\\u043d\\u043d\\u043e\\u0435 \\u0446\\u0435\\u043b\\u043e\\u0435 b1-r1 \\u0434\\u043b\\u044f \\u0413\\u041b\\u041e\\u041d\\u0410\\u0421\\u0421\"},\"id\":\"c6612efc-7792-4168-8cde-32618895fb9d\",\"type\":\"Title\"},{\"attributes\":{},\"id\":\"be17b4d9-bffc-4bda-bea5-37e096dd0013\",\"type\":\"BasicTickFormatter\"},{\"attributes\":{\"callback\":null},\"id\":\"5361f582-3a39-461d-9c8a-f3d759c8204a\",\"type\":\"DataRange1d\"},{\"attributes\":{},\"id\":\"44637aa2-c791-481a-9573-c1168eb59a11\",\"type\":\"BasicTickFormatter\"},{\"attributes\":{\"active_drag\":\"auto\",\"active_inspect\":\"auto\",\"active_scroll\":\"auto\",\"active_tap\":\"auto\",\"tools\":[{\"id\":\"b021c2a9-5c80-4399-a452-1b76cce29da3\",\"type\":\"PanTool\"},{\"id\":\"81a6d7a6-746e-456a-8d51-4be5aa3f7242\",\"type\":\"WheelZoomTool\"},{\"id\":\"ad5a24cd-dca4-4b6c-90fe-d85ce9e7fce1\",\"type\":\"BoxZoomTool\"},{\"id\":\"d3ed0410-1095-469c-9d94-ce2511780591\",\"type\":\"ResetTool\"},{\"id\":\"afbf0ff5-b1c7-486a-a82f-533ea2526f2c\",\"type\":\"BoxSelectTool\"},{\"id\":\"e5d75cb8-6933-4172-91f1-319b95d28609\",\"type\":\"LassoSelectTool\"},{\"id\":\"2b3588fc-7081-418e-9897-4265feb0c2fc\",\"type\":\"SaveTool\"}]},\"id\":\"a91fed63-5e8a-4fcd-b6a8-b9725d3360b0\",\"type\":\"Toolbar\"},{\"attributes\":{\"label\":{\"value\":\"47\"},\"renderers\":[{\"id\":\"5d665039-83d2-45ad-a912-da77aa3e7900\",\"type\":\"GlyphRenderer\"}]},\"id\":\"1a57caff-5f91-41a2-a07f-bc1be446f7fb\",\"type\":\"LegendItem\"},{\"attributes\":{\"click_policy\":\"mute\",\"items\":[{\"id\":\"1a57caff-5f91-41a2-a07f-bc1be446f7fb\",\"type\":\"LegendItem\"},{\"id\":\"969e712b-5dca-479c-ac98-fb878641cd7e\",\"type\":\"LegendItem\"},{\"id\":\"a538c260-dd7e-402c-8f75-97cd13aee646\",\"type\":\"LegendItem\"}],\"orientation\":\"horizontal\",\"plot\":{\"id\":\"d01fcc6f-ba67-4965-bf9f-2fc3d7becb0c\",\"subtype\":\"Figure\",\"type\":\"Plot\"}},\"id\":\"66db537b-e4d2-4103-8b23-47e4ba668013\",\"type\":\"Legend\"},{\"attributes\":{\"label\":{\"value\":\"50\"},\"renderers\":[{\"id\":\"471f07b4-878d-41f2-a4fb-99961bf1a519\",\"type\":\"GlyphRenderer\"}]},\"id\":\"969e712b-5dca-479c-ac98-fb878641cd7e\",\"type\":\"LegendItem\"},{\"attributes\":{\"line_alpha\":0.1,\"line_color\":\"#1f77b4\",\"x\":{\"field\":\"x\"},\"y\":{\"field\":\"y\"}},\"id\":\"69514f26-7383-4bed-87cf-6ec801529e01\",\"type\":\"Line\"},{\"attributes\":{\"callback\":null},\"id\":\"9d882329-1de7-4b15-86dd-a062012e16f8\",\"type\":\"DataRange1d\"},{\"attributes\":{},\"id\":\"0d5d7cde-36ca-4dff-9712-c4f56bca1d73\",\"type\":\"UnionRenderers\"},{\"attributes\":{\"line_alpha\":0.8,\"line_color\":\"#ff7f0e\",\"x\":{\"field\":\"x\"},\"y\":{\"field\":\"y\"}},\"id\":\"077f92a0-2564-4b3d-8890-9e1b7dce924a\",\"type\":\"Line\"},{\"attributes\":{\"data_source\":{\"id\":\"1fde656d-8a77-40c4-ab3d-0d514f4f0188\",\"type\":\"ColumnDataSource\"},\"glyph\":{\"id\":\"077f92a0-2564-4b3d-8890-9e1b7dce924a\",\"type\":\"Line\"},\"hover_glyph\":null,\"muted_glyph\":{\"id\":\"2ee30ede-e72e-4f49-a430-8c9473632642\",\"type\":\"Line\"},\"nonselection_glyph\":{\"id\":\"69514f26-7383-4bed-87cf-6ec801529e01\",\"type\":\"Line\"},\"selection_glyph\":null,\"view\":{\"id\":\"f7f27dc5-6997-4e11-9829-eea76ebc92bc\",\"type\":\"CDSView\"}},\"id\":\"471f07b4-878d-41f2-a4fb-99961bf1a519\",\"type\":\"GlyphRenderer\"},{\"attributes\":{},\"id\":\"8375a15d-e898-4397-a2a3-77d7b8156740\",\"type\":\"Selection\"},{\"attributes\":{},\"id\":\"8ded91f0-d2c5-4773-bb84-7905ca01137f\",\"type\":\"LinearScale\"},{\"attributes\":{\"line_alpha\":0.2,\"line_color\":\"#ff7f0e\",\"x\":{\"field\":\"x\"},\"y\":{\"field\":\"y\"}},\"id\":\"2ee30ede-e72e-4f49-a430-8c9473632642\",\"type\":\"Line\"},{\"attributes\":{},\"id\":\"19e065c7-dedf-4ce3-9b61-52aee2d2bb04\",\"type\":\"Selection\"},{\"attributes\":{\"source\":{\"id\":\"1fde656d-8a77-40c4-ab3d-0d514f4f0188\",\"type\":\"ColumnDataSource\"}},\"id\":\"f7f27dc5-6997-4e11-9829-eea76ebc92bc\",\"type\":\"CDSView\"},{\"attributes\":{},\"id\":\"0d419900-3609-4205-92b0-88167b3f2f74\",\"type\":\"LinearScale\"},{\"attributes\":{},\"id\":\"fa50e140-f476-45d9-a857-c37e3c80db90\",\"type\":\"UnionRenderers\"},{\"attributes\":{\"plot\":{\"id\":\"d01fcc6f-ba67-4965-bf9f-2fc3d7becb0c\",\"subtype\":\"Figure\",\"type\":\"Plot\"},\"ticker\":{\"id\":\"7a97103a-d338-4b69-b3e1-0ec8f01118f1\",\"type\":\"BasicTicker\"}},\"id\":\"135b66fc-de1f-424b-89d1-db280839bffa\",\"type\":\"Grid\"},{\"attributes\":{},\"id\":\"fe74a0ef-fb76-44d7-b05d-bbe639a87b17\",\"type\":\"UnionRenderers\"},{\"attributes\":{\"axis_label\":\"\\u042d\\u043f\\u043e\\u0445\\u0430\",\"formatter\":{\"id\":\"44637aa2-c791-481a-9573-c1168eb59a11\",\"type\":\"BasicTickFormatter\"},\"plot\":{\"id\":\"d01fcc6f-ba67-4965-bf9f-2fc3d7becb0c\",\"subtype\":\"Figure\",\"type\":\"Plot\"},\"ticker\":{\"id\":\"7a97103a-d338-4b69-b3e1-0ec8f01118f1\",\"type\":\"BasicTicker\"}},\"id\":\"04f27178-5ad1-461a-835f-abb78bd513bb\",\"type\":\"LinearAxis\"},{\"attributes\":{\"line_alpha\":0.8,\"line_color\":\"#2ca02c\",\"x\":{\"field\":\"x\"},\"y\":{\"field\":\"y\"}},\"id\":\"c765a6fb-c3fe-4713-bd28-f0191ab860f9\",\"type\":\"Line\"},{\"attributes\":{},\"id\":\"7a97103a-d338-4b69-b3e1-0ec8f01118f1\",\"type\":\"BasicTicker\"},{\"attributes\":{\"source\":{\"id\":\"703f7bbc-8fb1-4bd3-882e-36b2ce635a83\",\"type\":\"ColumnDataSource\"}},\"id\":\"84c6ccd2-36dd-4d5c-8e98-97a5fda4749a\",\"type\":\"CDSView\"},{\"attributes\":{\"axis_label\":\"\\u041c\",\"formatter\":{\"id\":\"be17b4d9-bffc-4bda-bea5-37e096dd0013\",\"type\":\"BasicTickFormatter\"},\"plot\":{\"id\":\"d01fcc6f-ba67-4965-bf9f-2fc3d7becb0c\",\"subtype\":\"Figure\",\"type\":\"Plot\"},\"ticker\":{\"id\":\"4f82a41b-8345-4da5-82a1-def37698abac\",\"type\":\"BasicTicker\"}},\"id\":\"ae36048e-3f7c-4c4b-9c2a-a523202bac7e\",\"type\":\"LinearAxis\"},{\"attributes\":{\"line_alpha\":0.2,\"line_color\":\"#2ca02c\",\"x\":{\"field\":\"x\"},\"y\":{\"field\":\"y\"}},\"id\":\"e5aa933a-e5dd-498b-9e8f-7f47245c4fa1\",\"type\":\"Line\"},{\"attributes\":{},\"id\":\"4f82a41b-8345-4da5-82a1-def37698abac\",\"type\":\"BasicTicker\"},{\"attributes\":{\"callback\":null,\"data\":{\"x\":[1300,1301,1302,1303,1304,1305,1306,1307,1308,1309,1310,1311,1312,1313,1314,1315,1316,1317,1318,1319,1320,1321,1322,1323,1324,1325,1326,1327,1328,1329,1330,1331,1332,1333,1334,1335,1336,1337,1338,1339,1340,1341,1342,1343,1344,1345,1346,1347,1348,1349,1350,1351,1352,1353,1354,1355,1356,1357,1358,1359,1360,1361,1362,1363,1364,1365,1366,1367,1368,1369,1370,1371,1372,1373,1374,1375,1376,1377,1378,1379,1380,1381,1382,1383,1384,1385,1386,1387,1388,1389,1390,1391,1392,1393,1394,1395,1396,1397,1398,1399,1400,1401,1402,1403,1404,1405,1406,1407,1408,1409,1410,1411,1412,1413,1414,1415,1416,1417,1418,1419,1420,1421,1422,1423,1424,1425,1426,1427,1428,1429,1430,1431,1432,1433,1434,1435,1436,1437,1438,1439,1440,1441,1442,1443,1444,1445,1446,1447,1448,1449,1450,1451,1452,1453,1454,1455,1456,1457,1458,1459,1460,1461,1462,1463,1464,1465,1466,1467,1468,1469,1470,1471,1472,1473,1474,1475,1476,1477,1478,1479,1480,1481,1482,1483,1484,1485,1486,1487,1488,1489,1490,1491,1492,1493,1494,1495,1496,1497,1498,1499,1500,1501,1502,1503,1504,1505,1506,1507,1508,1509,1510,1511,1512,1513,1514,1515,1516,1517,1518,1519,1520,1521,1522,1523,1524,1525,1526,1527,1528,1529,1530,1531,1532,1533,1534,1535,1536,1537,1538,1539,1540,1541,1542,1543,1544,1545,1546,1547,1548,1549,1550,1551,1552,1553,1554,1555,1556,1557,1558,1559,1560,1561,1562,1563,1564,1565,1566,1567,1568,1569,1570,1571,1572,1573,1574,1575,1576,1577,1578,1579,1580,1581,1582,1583,1584,1585,1586,1587,1588,1589,1590,1591,1592,1593,1594,1595,1596,1597,1598,1599,1600,1601,1602,1603,1604,1605,1606,1607,1608,1609,1610,1611,1612,1613,1614,1615,1616,1617,1618,1619,1620,1621,1622,1623,1624,1625,1626,1627,1628,1629,1630,1631,1632,1633,1634,1635,1636,1637,1638,1639,1640,1641,1642,1643,1644,1645,1646,1647,1648,1649,1650,1651,1652,1653,1654,1655,1656,1657,1658,1659,1660,1661,1662,1663,1664,1665,1666,1667,1668,1669,1670,1671,1672,1673,1674,1675,1676,1677,1678,1679,1680,1681,1682,1683,1684,1685,1686,1687,1688,1689,1690,1691,1692,1693,1694,1695,1696,1697,1698,1699,1700,1701,1702,1703,1704,1705,1706,1707,1708,1709,1710,1711,1712,1713,1714,1715,1716,1717,1718,1719,1720,1721,1722,1723,1724,1725,1726,1727,1728,1729,1730,1731,1732,1733,1734,1735,1736,1737,1738,1739,1740,1741,1742,1743,1744,1745,1746,1747,1748,1749,1750,1751,1752,1753,1754,1755,1756,1757,1758,1759,1760,1761,1762,1763,1764,1765,1766,1767,1768,1769,1770,1771,1772,1773,1774,1775,1776,1777,1778,1779,1780,1781,1782,1783,1784,1785,1786,1787,1788,1789,1790,1791,1792,1793,1794,1795,1796,1797,1798,1799,1800,1801,1802,1803,1804,1805,1806,1807,1808,1809,1810,1811,1812,1813,1814,1815,1816,1817,1818,1819,1820,1821,1822,1823,1824,1825,1826,1827,1828,1829,1830,1831,1832,1833,1834,1835,1836,1837,1838,1839,1840,1841,1842,1843,1844,1845,1846,1847,1848,1849,1850,1851,1852,1853,1854,1855,1856,1857,1858,1859,1860,1861,1862,1863,1864,1865,1866,1867,1868,1869,1870,1871,1872,1873,1874,1875,1876,1877,1878,1879,1880,1881,1882,1883,1884,1885,1886,1887,1888,1889,1890,1891,1892,1893,1894,1895,1896,1897,1898,1899,1900,1901,1902,1903,1904,1905,1906,1907,1908,1909,1910,1911,1912,1913,1914,1915,1916,1917,1918,1919,1920,1921,1922,1923,1924,1925,1926,1927,1928,1929,1930,1931,1932,1933,1934,1935,1936,1937,1938,1939,1940,1941,1942,1943,1944,1945,1946,1947,1948,1949,1950,1951,1952,1953,1954,1955,1956,1957,1958,1959,1960,1961,1962,1963,1964,1965,1966,1967,1968,1969,1970,1971,1972,1973,1974,1975,1976,1977,1978,1979,1980,1981,1982,1983,1984,1985,1986,1987,1988,1989,1990,1991,1992,1993,1994,1995,1996,1997,1998,1999,2000,2001,2002,2003,2004,2005,2006,2007,2008,2009,2010,2011,2012,2013,2014,2015,2016,2017,2018,2019,2020,2021,2022,2023,2024,2025,2026,2027,2028,2029,2030,2031,2032,2033,2034,2035,2036,2037,2038,2039,2040,2041,2042,2043,2044,2045,2046,2047,2048,2049,2050,2051,2052,2053,2054,2055,2056,2057,2058,2059,2060,2061,2062,2063,2064,2065,2066,2067,2068,2069,2070,2071,2072,2073,2074,2075,2076,2077,2078,2079,2080,2081,2082,2083,2084,2085,2086,2087,2088,2089,2090,2091,2092,2093,2094,2095,2096,2097,2098,2099,2100],\"y\":[0.0,0.04391465387925564,0.020540365075781608,0.022494120059512568,0.010087273067867386,-0.0014435133831582903,-0.011031868231796693,0.03643534672076498,0.0040109363153533195,-0.04534432554027035,-0.016361689099099408,-0.04467226669805058,-0.037376612831877765,-0.01734327093478072,0.01469680543405616,-0.0022630640765441967,0.019857828034467673,-0.035865767837009344,0.02656139668950175,-0.008212504196599468,0.03800316169167672,0.010934410741633371,-0.014783440694415617,0.03612577444663856,-0.020749505556587167,-0.05049968712436481,-0.0017138249540167294,0.04286402121829269,0.0036087607302448532,0.002347307420478728,0.023709857975802606,0.04062306656810932,0.060601085566936774,-0.031952476455316514,0.024551366500041638,0.0008249032419485047,0.04642142121345927,-0.028530994389285524,-0.006716731733227732,0.04729054599592786,0.032889299349712076,0.03882263743840042,0.06952502358780066,0.032651380697600985,0.03552485120846427,0.03650938138282811,0.019738061437223564,-0.019569282060345472,0.025629064507945998,0.0462533489008905,0.0771363111163268,-0.009342329801000915,-0.004245617328130891,-0.026648391919820824,-0.05387240346773581,-0.05740838624687683,-0.05082698417994891,-0.03601191414347227,-0.07069556491056517,-0.038713377423100326,-0.02497746741452289,-0.05185401536328982,-0.04584094147763551,-0.039379965894354996,0.007474709670013624,-0.016553608188935698,-0.006851529845931736,-0.00796936541241422,-0.02846722369375243,-0.018623329052637416,0.0564063446631593,0.0432978651549476,-0.011551264322470445,0.017776517476626452,0.0076239000654396705,-0.01208710636606014,-0.015110488675134093,-0.011485871139456094,0.002915545745175052,-0.035879920478357974,-0.021179495833152373,-0.022723484894882517,-0.020541203048793477,-0.03823626770005717,-0.022555073487509958,-0.06846185719620479,-0.004526695689371252,-0.06050330112084623,-0.03232525887661808,-0.0404162886596211,-0.03569015849404167,-0.034846315516020354,-0.03754358444710704,-0.025218206461474324,-0.03357729986092295,-0.040388194010191114,-0.01736459622653541,-0.012822812692249386,-0.0028979904698331893,0.029642318091482878,-0.005758998776983049,-0.008887019671490748,-0.027959113692510584,-0.031119591035320582,-0.020697364583263322,-0.034857881502126986,-0.037950787711153566,-0.048429772627876844,-0.055524648887598005,-0.03664111683885807,-0.03035796388196843,-0.010437274622788095,-0.02815318708649528,-0.011803264756679255,-0.03994417147457341,-0.04901027593672325,0.004103320007196487,-0.01712579236780698,0.014488252541895008,0.02344619019744698,0.0021879099244230815,0.02647183245098006,0.007730967948027967,-0.015920953911390257,0.006724842175152901,0.01614633129747034,0.017318308785142733,-0.02635533309175031,0.03183846418313152,-0.008484034766183868,-0.024548361860198042,-0.028896800672910672,0.0004821918972055528,-0.01144292397020763,-0.04090080246871963,-0.014859204264539017,-0.008866669912904968,-0.03516827441183068,-0.04468342865499153,-0.0688494058064606,-0.017998013756511,-0.05409635063559648,-0.06939837415609418,-0.07830834829464806,-0.026623120407244016,-0.01583602789783356,-0.026459790679560058,-0.02933994972755727,-0.05054858085719616,-0.05935391551793856,-0.08212764040253262,-0.05152685341811036,-0.03371689232501751,-0.030940338478906426,-0.020060027536700886,-0.0559725469878245,-0.041812956645564725,-0.06567145788840634,-0.034569445977979285,-0.04093583324515038,-0.014217826725300142,-0.08033483248574669,-0.02099966941047171,-0.03099062392799823,-0.026044690532920356,0.007690905159755346,-0.008755167325539048,-0.04589074921689473,-0.03822455258212187,-0.05338591263627279,-0.028545028524298743,0.0003741301920356932,-0.01455036176138691,-0.045190232956372256,-0.03946503189266792,-0.019002403497047737,-0.013260174471646735,-0.006780719265840673,-0.02820297993352483,-0.029566296444521356,-0.033951189614491284,-0.012738629278054248,-0.05240486986510717,-0.04532557310923124,-0.02397345200858325,-0.08641334218229701,-0.061399387986270426,-0.04859093741442422,-0.08052821914809982,-0.04828433798181919,-0.06473608741351455,-0.005827861235722764,-0.034935702855435125,-0.031287263851695,-0.04770743333080674,-0.050667134330090846,-0.03216243187240053,-0.034770934378997254,0.012319232005197023,-0.019323065752573143,-0.027030113671237643,-0.037890015948072175,-0.022325703686298937,-0.01833737201555863,0.000515109803274072,-0.07392097875811032,-0.09678160980215722,-0.07752601440191143,-0.11270573267670869,-0.1111352877233287,-0.05412669290994643,-0.06124616356391499,-0.029929358954433383,-0.062197698503709375,-0.05628983779195096,-0.10045790110474684,-0.005568929451968074,-0.0762311046871389,-0.06339519881585431,-0.07768301643598363,-0.06985898586881945,-0.027740659037768012,-0.06780039502672963,-0.05970149183233531,0.014701114613792754,-0.06742320410662472,-0.003966833929965219,-0.007337455414536009,-0.05967309815870436,-0.001194177465094981,-0.07396342942198686,-0.06432531078706205,-0.0396497389316437,-0.06211690613962162,-0.030117168042394837,-0.03175481248820944,-0.07945013936203793,-0.06549755399326074,-0.06035132480410965,-0.054554517151842674,-0.10705043728159325,-0.012244259997700624,-0.0631818610773962,-0.05043372177836858,-0.020023643647505196,0.005548168804196507,-0.03242848040092383,-0.03686804014384393,-0.03930610285213021,0.0080885151590806,-0.008866595648470366,-0.013758924487056845,-0.0028870085107186583,-0.026489252927369478,-0.017831555016982747,0.007377306625983238,0.017530692064482878,-0.006042841303759872,-0.021522161860957567,0.009250076546045705,0.00206650586151369,-0.025548609455533722,-0.04002121097823874,-0.043548843700541795,-0.003973532408338087,-0.09307277651650736,-0.08052402370086753,-0.07056200160952386,-0.02647167700959585,-0.008882161170738812,-0.005790889789373921,-0.02416546288828414,-0.02493723341176235,0.020296091050170162,0.010681441330099517,0.00421158677637834,-0.02135513460400773,-0.03683781753345272,-0.03980820796319051,-0.007909779462600852,-0.023400580871452803,-0.06376513255889193,-0.018447383602385514,-0.05696934088511085,-0.00035412969511128267,-0.002257635650607881,0.005797215180059823,0.016843898268312785,-0.013021021746375538,-0.01702405264478557,0.025026869602960744,0.06814617221222363,0.0030335083806818375,0.03368044533924319,0.01836511464104973,0.022083959676713505,0.0019082145317241839,0.0005507102676602926,0.04113013049260417,-0.012409786162812964,0.02324926017077189,-0.0004127261337956156,-0.0020888623354196056,0.0006088731896056743,0.0022385488105811646,-0.016059773751258888,-0.006282513518016231,0.003216072535586534,-0.06535751085906583,-0.10507964992595475,-0.06231727690055067,-0.0562525325576928,-0.020319478788792367,-0.03003336157971148,0.0270481049800253,-0.0019229050522966418,-0.018780260520131264,-0.014858842177950748,0.03814500542141985,-0.011250558883837414,0.022204323626475286,-0.03212329626376231,-0.0016908165264837294,-0.00843703817744057,0.034152195831779864,0.027243389819901154,-0.006596991040844102,-0.015957535778703402,-0.016591078521578595,-0.03218565466981005,-0.030840539923346455,0.01213666323094742,-0.04148740873490908,-0.031232226324974022,-0.021862071580699194,-0.013711661758790683,-0.020965469539440562,0.002415216487044347,-0.019482246213904375,0.014658733067044238,0.043542905618124905,0.01903141993816604,0.0218869746816992,0.036406588041444365,0.02761289471379058,0.02396715819597972,0.007674118080522874,0.0034129283774149144,0.039588670700176465,-0.019040268210268607,0.027170477830743778,-0.026551522150640494,0.022714097020880786,0.015775218814937375,0.016961602177644863,0.013957310464846273,0.02796515889132678,0.007546453145302223,-0.0012807172165594238,-0.004183538653933283,0.031376424179093476,-0.014003589962186425,-0.013196087716956129,0.013545455169818865,-0.02546744716527627,0.01172859845635088,0.041703029728452634,-0.01815876320113574,-0.014904023736576733,-0.0231523162173346,-0.008386263128961957,-0.0274296738763411,0.015066552687642343,-0.004838236173576149,-0.05981485688832322,0.03779537096257002,-0.027125997055868822,-0.032580672497751095,-0.02210026347197669,-0.015014110815641857,-0.0436097384917602,0.0020624431024458545,-0.0028032226322523,0.0655166016687545,0.01039643485777475,0.018642157790210945,0.0008919486925833553,-0.017973028836912874,-0.002751526220293954,0.01089677038440584,-0.021136985977648237,-0.004350581893184824,-0.00043688309483513876,-0.028003939556782598,-0.009168273026276097,-0.007161466403260874,-0.04217712192150458,-0.02279718693384325,-0.0632480490316496,-0.057729457815419494,-0.048293139104465865,-0.06524338593113299,-0.0180202263119682,0.02733441513129975,0.013011791661483585,0.00936904073870437,-0.010058492992769175,0.0645815667556846,0.007803854041348757,-0.006455508857172276,0.010230290071888248,0.05487785804344725,-0.010398139839068676,-0.05438067210570807,0.023205750178732387,0.038331140209038495,-0.020021054896460555,0.004231091664820497,-0.002250955597993709,-0.03057672616994722,-0.023549594625343673,-0.013176370030443252,-0.026159013479436055,0.010615948813772036,0.0005363853431035182,-0.0177402810692584,-0.014418327422099253,0.02851489602244328,-0.005297908743735036,0.06593993659515718,0.027545403792409218,0.01831112582196681,-0.031135027313773378,-0.01995016086458179,0.012417404427587542,0.0425902013273145,-0.030090721971809842,0.023014134959360888,0.02255387869522707,0.0037821989074799944,-0.04661927086275597,-0.02375525687723723,-0.03644110923974608,-0.061068110412414,-0.028097730601366777,-0.02186932028367039,-0.03072827589134164,-0.03028697181133566,-0.0264189947497826,-0.02747519786346686,-0.03733747474356619,-0.013895722900912233,-0.05836810828407124,-0.07574770143684617,-0.008579511539252849,-0.029124513060374113,-0.04771007781851466,-0.03050894190442932,-0.020002616226634018,-0.07173964693942025,-0.02820346813688701,-0.025288747695924485,0.028777015709856357,-0.025275818084971036,-0.0249838351832139,-0.03795680293117698,-0.0353107634741221,-0.04924120570525048,-0.02289611016288262,0.005636790657412405,-0.028479011601923787,-0.008706208529616788,-0.029994332411348523,-0.02521557529399132,0.022000367779874352,0.05806461350633896,0.012643046692275561,0.01644088654099818,-0.014976371286486767,0.013701830567661943,0.021851044454862745,-0.02061164122521575,-0.022713825143654276,-0.007115051194467981,0.04557114457610112,0.0438341967585103,0.02000266493209324,0.04760326807843285,-0.03231889927188547,0.018962216420113975,-0.02790186309098175,0.015311734142372302,0.017451432379708365,0.008848131567262385,-0.01118431467492087,0.011552750710848159,0.02417263037584405,-0.03411026941158468,-0.014400165516057939,-0.03682114457274821,-0.06917509558558521,-0.0039891883309053355,-0.032394597356706356,0.014359571690185646,0.008559629687070469,-0.012263649935306375,0.0019171444835350826,0.0023586086815967633,-0.017791188447453976,-0.04299994954195796,-0.07204401770909641,-0.012459887315550588,0.0253931000496479,0.014219820023711804,-0.012992829480509727,-0.030758346960510607,-0.012647113041388991,-0.03505745192244092,-0.02802123923594735,0.06915665306425467,-0.011630685892441761,0.02326156780795685,0.0457944281928917,-0.01929558956651789,-0.009280365311973071,-0.06633284589527477,-0.019100509423864764,0.013186562188643336,-0.011538095345564159,-0.0019584848427953716,0.015897330589567105,0.047120014588166725,0.027375830794497347,0.0158043630670619,-0.017641033122210104,0.03431905821896919,-0.024793012621834976,-0.02801930581664891,-0.019892053373872898,0.04904335971552598,0.04413894927547801,-0.025224218023979006,0.03901962848394902,0.06858257013650615,0.012110228149161628,-0.0065336776259599105,0.005111706472952449,0.007751754957432411,0.08678380956123277,-0.01616017808565573,-0.009923408572618087,0.013320718777357854,0.041837320352598795,0.03249923161377666,0.015200121971368219,-0.0009147810890368646,0.0024707169793174444,0.030496556859432644,0.03005389409029391,0.032895339855386396,0.00039447811906967445,0.020070185257928586,-0.031241788691431793,-0.030559924405686445,-0.007750944091910128,-0.011518355354127152,-0.018693279897775028,-0.04203555820353699,-0.04130016741866882,-0.04056286603186976,-0.03994137894128613,-0.016465240213577204,-0.01951728599877356,-0.03539845643521744,-0.040538614972220444,0.026327311443978374,-0.046083868919012616,-0.0127471821546834,0.013373303183286112,0.010362474880110994,0.03068221657739656,0.00926920954074717,0.027565834371820586,0.0009820784749621225,0.00809122755522651,0.036796523997736585,0.06670279421746272,0.05218072261278195,0.04431070130536341,-0.01117700286007306,-0.030352085025718623,0.023954937085669314,0.004063059349832088,0.011012174032806854,0.0285864195164649,0.040746937043920184,0.021223647053354,0.043732239598263334,0.0023206742754453558,-0.0033379788705687474,0.014245153551826206,0.013254271999628031,0.005006955082215825,-0.032813922954474606,-0.033904921800484544,-0.02475647484679655,-0.040112517062460995,-0.013652821406402893,-0.005914569123575575,0.02285573201579183,0.022359640486406818,-0.015430593763753109,0.01826290377997708,0.04171189262046937,-0.017937120960446862,0.038804473952495755,0.0842109427969433,-0.015642717767171632,-0.01244858978609642,0.012800445110670466,0.022653516940813745,0.023103399074493325,0.026142970773548768,0.022269062275597662,0.015023266823803283,0.049586739297389215,0.056690382318336674,0.014224981481710586,-0.017117409052588073,0.0248444263006391,0.011332856790268409,0.05697400853568979,0.018341811278240527,-0.022288254562795373,-0.05465424324894741,-0.02286358267790689,-0.022099110801164557,-0.043319028586779496,0.004499329827680754,0.004018426988615431,-0.022021520856974064,-0.05731490774511627,-0.0005698186012281781,0.011584753092975575,-0.04174546352170694,-0.04723048566156507,-0.021251186253522292,-0.04430553123147973,-0.022094427768642788,-0.032991680316889926,0.003793081180205604,-0.019546222572095928,0.018344749115122738,0.01356934557752254,-0.004577068627170888,0.0025744566488228315,0.0327928901334289,0.015646697951630983,0.037899422070516664,0.004003126565848447,0.06977305956141322,0.038861031003079916,0.006122986770321859,0.02277064971064391,-0.006610451467103928,0.013721123841186511,0.036686932002510275,-0.026280939419763172,-0.012927888277616262,0.01289663917634698,-0.0033754364049087826,-0.008359611271309575,-0.0019452043818546372,0.04783040555928153,0.021017672830758727,0.04404222076910003,0.004231866674317075,-0.013716464461822397,0.02863291105398247,0.017270244537897383,0.005597270062203563,0.004968398351969938,0.0066058375527191515,0.013252638750721246,-0.012012084869191142,0.014844668646865955,0.026334447176616038,0.027076730795663195,0.001513366349819023,-0.010164828686015426,-0.02444742321105764,-0.000318922621936224,0.018219361708958104,0.054606549318506836,0.0374789579426178,0.05432022839990225,-0.026494328726442973,-0.0017756152400920655,0.00524529036823651,0.01941739480275828,-0.021757304481120343,0.005238458018396841,-0.0388442937129696,-0.04379749125939014,-0.008267328454465428,-0.0191207553736632,-0.039594986164786405,0.013594864416496932,-0.03699958572285311,-0.02721291680869342,-0.05037230559856454,-0.007723654271387659,-0.007448823530523896,-0.017978856785980213,0.011478565447866629,0.04564918715171018,-0.011518791601325518,-0.0026243658227471656,0.038774645453045764,0.026776097974803292,0.030817184191008096,0.03851608921078764,0.0733596612457248,0.03230043589676512,-0.02812943859031236,-0.009858855659871324,-0.028600071766028634,0.013754022449901981,-0.019796757965153233,0.017750575335618635,0.0039498815923337816,0.018100568071275802,-0.0007339952941833872,0.004020034822822538,0.014181589691318663,0.021273102308754233,0.040094377010163385,0.029238205388729455,0.009168961874557624,0.0038288237476180598,0.0031243378879253214,0.013797321821257924,-0.0410879675474618,-0.01908141772531735,-0.027705870324098214,-0.009077582955157482,-0.008208606934132945,-0.005465593587523188,-0.032794638836392664,-0.013314123951985835,-0.02842101069638403,-0.003386235946571503,-0.0846600283527863,-0.018299605780889294,0.010118884153172303,0.013769284427425532,-0.03408676383214271,-0.0012814201220905375,-0.003763660123766499,-0.02222989691376398,0.03256378014914674,-0.0270345124304896,0.004463803770470065,-0.006096836537103911,-0.03797663361986281,-0.019337310388308993,-0.04183445535978336,-0.03806272805744726,0.022198853657627637,-0.031977982551104844,-0.06641108791672679,-0.04937452980002632,-0.028595946435714836,-0.02077743219636119,-0.02568404826319437,-0.06400359809677525,-0.05220782214870212,-0.024742577380401087,-0.04341656332585586,-0.09475664483775859,-0.04863829923291263,-0.03082242056722606,-0.03972338653959184,-0.08477535490638388,-0.12208662522055391,-0.13502986479314671,-0.09287903021078137,-0.07173095786506423,-0.061058548158278825,-0.036846650521233926,-0.05321474997328579,-0.005699080434169446,-0.04501684138811868,-0.06071588486037882,-0.030659555095112978,-0.05291988537667436,-0.03462190361648254,-0.042479316531483846,-0.0061585570089732755,-0.0012808740910941196,-0.022843362902243314]},\"selected\":{\"id\":\"19e065c7-dedf-4ce3-9b61-52aee2d2bb04\",\"type\":\"Selection\"},\"selection_policy\":{\"id\":\"0d5d7cde-36ca-4dff-9712-c4f56bca1d73\",\"type\":\"UnionRenderers\"}},\"id\":\"703f7bbc-8fb1-4bd3-882e-36b2ce635a83\",\"type\":\"ColumnDataSource\"},{\"attributes\":{\"dimension\":1,\"plot\":{\"id\":\"d01fcc6f-ba67-4965-bf9f-2fc3d7becb0c\",\"subtype\":\"Figure\",\"type\":\"Plot\"},\"ticker\":{\"id\":\"4f82a41b-8345-4da5-82a1-def37698abac\",\"type\":\"BasicTicker\"}},\"id\":\"f0c00242-59fc-4bf1-ac30-4ccb44aad823\",\"type\":\"Grid\"},{\"attributes\":{\"line_alpha\":0.1,\"line_color\":\"#1f77b4\",\"x\":{\"field\":\"x\"},\"y\":{\"field\":\"y\"}},\"id\":\"0d90061e-b666-4b10-a00b-da5dc5ac7729\",\"type\":\"Line\"},{\"attributes\":{\"data_source\":{\"id\":\"703f7bbc-8fb1-4bd3-882e-36b2ce635a83\",\"type\":\"ColumnDataSource\"},\"glyph\":{\"id\":\"c765a6fb-c3fe-4713-bd28-f0191ab860f9\",\"type\":\"Line\"},\"hover_glyph\":null,\"muted_glyph\":{\"id\":\"e5aa933a-e5dd-498b-9e8f-7f47245c4fa1\",\"type\":\"Line\"},\"nonselection_glyph\":{\"id\":\"0d90061e-b666-4b10-a00b-da5dc5ac7729\",\"type\":\"Line\"},\"selection_glyph\":null,\"view\":{\"id\":\"84c6ccd2-36dd-4d5c-8e98-97a5fda4749a\",\"type\":\"CDSView\"}},\"id\":\"01a49b3e-0669-43bf-ac2f-bb277d30835f\",\"type\":\"GlyphRenderer\"},{\"attributes\":{\"bottom_units\":\"screen\",\"fill_alpha\":{\"value\":0.5},\"fill_color\":{\"value\":\"lightgrey\"},\"left_units\":\"screen\",\"level\":\"overlay\",\"line_alpha\":{\"value\":1.0},\"line_color\":{\"value\":\"black\"},\"line_dash\":[4,4],\"line_width\":{\"value\":2},\"plot\":null,\"render_mode\":\"css\",\"right_units\":\"screen\",\"top_units\":\"screen\"},\"id\":\"dd9c6344-a08b-4709-809e-7630e89783b9\",\"type\":\"BoxAnnotation\"},{\"attributes\":{\"label\":{\"value\":\"55\"},\"renderers\":[{\"id\":\"01a49b3e-0669-43bf-ac2f-bb277d30835f\",\"type\":\"GlyphRenderer\"}]},\"id\":\"a538c260-dd7e-402c-8f75-97cd13aee646\",\"type\":\"LegendItem\"},{\"attributes\":{},\"id\":\"b021c2a9-5c80-4399-a452-1b76cce29da3\",\"type\":\"PanTool\"},{\"attributes\":{\"line_alpha\":0.8,\"line_color\":\"#1f77b4\",\"x\":{\"field\":\"x\"},\"y\":{\"field\":\"y\"}},\"id\":\"33035392-2654-4663-8aca-fdc6760170b7\",\"type\":\"Line\"},{\"attributes\":{},\"id\":\"81a6d7a6-746e-456a-8d51-4be5aa3f7242\",\"type\":\"WheelZoomTool\"},{\"attributes\":{},\"id\":\"28f99e08-3fa0-4cd4-9c86-001b0c9935b0\",\"type\":\"Selection\"},{\"attributes\":{\"overlay\":{\"id\":\"dd9c6344-a08b-4709-809e-7630e89783b9\",\"type\":\"BoxAnnotation\"}},\"id\":\"ad5a24cd-dca4-4b6c-90fe-d85ce9e7fce1\",\"type\":\"BoxZoomTool\"},{\"attributes\":{},\"id\":\"d3ed0410-1095-469c-9d94-ce2511780591\",\"type\":\"ResetTool\"},{\"attributes\":{\"callback\":null,\"overlay\":{\"id\":\"ef5dd880-6ae4-4622-a8ef-047bb4b2d5ea\",\"type\":\"BoxAnnotation\"}},\"id\":\"afbf0ff5-b1c7-486a-a82f-533ea2526f2c\",\"type\":\"BoxSelectTool\"},{\"attributes\":{\"callback\":null,\"overlay\":{\"id\":\"f2c9ef79-e9d2-4cea-8bd8-7c22dbbc00a5\",\"type\":\"PolyAnnotation\"}},\"id\":\"e5d75cb8-6933-4172-91f1-319b95d28609\",\"type\":\"LassoSelectTool\"},{\"attributes\":{},\"id\":\"2b3588fc-7081-418e-9897-4265feb0c2fc\",\"type\":\"SaveTool\"},{\"attributes\":{\"line_alpha\":0.1,\"line_color\":\"#1f77b4\",\"x\":{\"field\":\"x\"},\"y\":{\"field\":\"y\"}},\"id\":\"438904ee-5890-46d2-bc9f-437469e28d18\",\"type\":\"Line\"},{\"attributes\":{\"fill_alpha\":{\"value\":0.5},\"fill_color\":{\"value\":\"lightgrey\"},\"level\":\"overlay\",\"line_alpha\":{\"value\":1.0},\"line_color\":{\"value\":\"black\"},\"line_dash\":[4,4],\"line_width\":{\"value\":2},\"plot\":null,\"xs_units\":\"screen\",\"ys_units\":\"screen\"},\"id\":\"f2c9ef79-e9d2-4cea-8bd8-7c22dbbc00a5\",\"type\":\"PolyAnnotation\"},{\"attributes\":{\"bottom_units\":\"screen\",\"fill_alpha\":{\"value\":0.5},\"fill_color\":{\"value\":\"lightgrey\"},\"left_units\":\"screen\",\"level\":\"overlay\",\"line_alpha\":{\"value\":1.0},\"line_color\":{\"value\":\"black\"},\"line_dash\":[4,4],\"line_width\":{\"value\":2},\"plot\":null,\"render_mode\":\"css\",\"right_units\":\"screen\",\"top_units\":\"screen\"},\"id\":\"ef5dd880-6ae4-4622-a8ef-047bb4b2d5ea\",\"type\":\"BoxAnnotation\"}],\"root_ids\":[\"d01fcc6f-ba67-4965-bf9f-2fc3d7becb0c\"]},\"title\":\"Bokeh Application\",\"version\":\"0.12.16\"}};\n",
       "  var render_items = [{\"docid\":\"9787f8b2-8385-42a2-90d6-306e6096d76e\",\"elementid\":\"186825e7-1d05-4680-9d81-192c542c9720\",\"modelid\":\"d01fcc6f-ba67-4965-bf9f-2fc3d7becb0c\"}];\n",
       "  root.Bokeh.embed.embed_items_notebook(docs_json, render_items);\n",
       "\n",
       "  }\n",
       "  if (root.Bokeh !== undefined) {\n",
       "    embed_document(root);\n",
       "  } else {\n",
       "    var attempts = 0;\n",
       "    var timer = setInterval(function(root) {\n",
       "      if (root.Bokeh !== undefined) {\n",
       "        embed_document(root);\n",
       "        clearInterval(timer);\n",
       "      }\n",
       "      attempts++;\n",
       "      if (attempts > 100) {\n",
       "        console.log(\"Bokeh: ERROR: Unable to run BokehJS code because BokehJS library is missing\")\n",
       "        clearInterval(timer);\n",
       "      }\n",
       "    }, 10, root)\n",
       "  }\n",
       "})(window);"
      ],
      "application/vnd.bokehjs_exec.v0+json": ""
     },
     "metadata": {
      "application/vnd.bokehjs_exec.v0+json": {
       "id": "d01fcc6f-ba67-4965-bf9f-2fc3d7becb0c"
      }
     },
     "output_type": "display_data"
    }
   ],
   "source": [
    "p = figure(width = 1000, plot_height = 400,  title=\"Неопределенное целое b1-\"+filename[5:7]+' для ГЛОНАСС', \n",
    "           x_axis_label='Эпоха', y_axis_label='М',\n",
    "           tools=TOOLS, toolbar_location=\"below\",)\n",
    "\n",
    "for usi, color in zip(sv_gln0, Category10[10]):\n",
    "    if usi == el: continue\n",
    "    p.line(Range, ddMsv[usi],\n",
    "           color = color, alpha = 0.8, muted_color=color, muted_alpha=0.2, legend=str(usi), line_width = 1)\n",
    "p.legend.click_policy=\"mute\"\n",
    "p.legend.orientation = \"horizontal\"\n",
    "#p.xaxis.bounds = (1300, 2100)\n",
    "show(p)"
   ]
  },
  {
   "cell_type": "code",
   "execution_count": 52,
   "metadata": {},
   "outputs": [
    {
     "ename": "NameError",
     "evalue": "name 'q' is not defined",
     "output_type": "error",
     "traceback": [
      "\u001b[1;31m---------------------------------------------------------------------------\u001b[0m",
      "\u001b[1;31mNameError\u001b[0m                                 Traceback (most recent call last)",
      "\u001b[1;32m<ipython-input-52-e222fcdf3350>\u001b[0m in \u001b[0;36m<module>\u001b[1;34m()\u001b[0m\n\u001b[1;32m----> 1\u001b[1;33m \u001b[0mq\u001b[0m\u001b[1;33m\u001b[0m\u001b[0m\n\u001b[0m",
      "\u001b[1;31mNameError\u001b[0m: name 'q' is not defined"
     ]
    }
   ],
   "source": [
    "q"
   ]
  },
  {
   "cell_type": "code",
   "execution_count": null,
   "metadata": {},
   "outputs": [],
   "source": [
    "# {epoch: {sv: for sv in sv_gps0} for epoch in Range}\n",
    "# np.matrix([ (  ) for sv in sv_gps0 if sv != el])"
   ]
  },
  {
   "cell_type": "code",
   "execution_count": 55,
   "metadata": {},
   "outputs": [],
   "source": [
    "Yp0 = {epoch: np.matrix([ ( dX[epoch][sv].d_R - dX[epoch][el].d_R - ddX[epoch][sv].dd_p ) for sv in sv_gln0 if sv != el]).T for epoch in Range}\n",
    "Yqfi0={epoch: np.matrix([ ( dX[epoch][sv].d_R - dX[ts][sv].d_R - (dX[epoch][el].d_R - dX[ts][el].d_R) - ddX[epoch][sv].dd_qfi )  for sv in sv_gln0 if sv != el]).T for epoch in Range}\n",
    "Yfi0 ={epoch: np.matrix([ (dX[epoch][sv].d_R / lam_gln[sv] - dX[epoch][el].d_R / lam_gln[el] - ddX[epoch][sv].dd_fi - (1 / (len(sv_gln0) * (C / (F_gln[sv] - F_gln[el])))) * np.sum([dX[epoch][svm].d_R - dX[epoch][svm].d_p for svm in sv_gln0]) ) for sv in sv_gln0 if sv != el]).T for epoch in Range}"
   ]
  },
  {
   "cell_type": "code",
   "execution_count": 56,
   "metadata": {},
   "outputs": [],
   "source": [
    "# 15.12 Постваивл вместо Rgps - Bgps\n",
    "dh = {epoch: {sv: h_x( (Bgln[epoch][sv].X - Bgln[epoch][sv].x) / Bgln[epoch][sv].R,\n",
    "                      (Bgln[epoch][sv].Y - Bgln[epoch][sv].y) / Bgln[epoch][sv].R,\n",
    "                      (Bgln[epoch][sv].Z - Bgln[epoch][sv].z) / Bgln[epoch][sv].R,) for sv in sv_gln0} for epoch in Range}"
   ]
  },
  {
   "cell_type": "code",
   "execution_count": 57,
   "metadata": {},
   "outputs": [],
   "source": [
    "HYp0 = {epoch: np.matrix([(dh[epoch][sv].hx - dh[epoch][el].hx,\n",
    "                           dh[epoch][sv].hy - dh[epoch][el].hy,\n",
    "                           dh[epoch][sv].hz - dh[epoch][el].hz) for sv in sv_gln0 if sv != el]) for epoch in Range}"
   ]
  },
  {
   "cell_type": "code",
   "execution_count": 58,
   "metadata": {},
   "outputs": [],
   "source": [
    "HYqfi0 = {epoch: np.matrix([*zip([dh[epoch][sv].hx - dh[ts][sv].hx - (dh[epoch][el].hx - dh[ts][el].hx) for sv in sv_gln0 if sv != el],\n",
    "                                 [dh[epoch][sv].hy - dh[ts][sv].hy - (dh[epoch][el].hy - dh[ts][el].hy) for sv in sv_gln0 if sv != el],\n",
    "                                 [dh[epoch][sv].hz - dh[ts][sv].hz - (dh[epoch][el].hz - dh[ts][el].hz) for sv in sv_gln0 if sv != el])]) for epoch in Range}"
   ]
  },
  {
   "cell_type": "code",
   "execution_count": 62,
   "metadata": {},
   "outputs": [],
   "source": [
    "Hfi0 = {epoch: HYp0[epoch] / lam    for epoch in Range}"
   ]
  },
  {
   "cell_type": "code",
   "execution_count": 63,
   "metadata": {},
   "outputs": [],
   "source": [
    "Y0 = {epoch: np.concatenate( (Yp0[epoch], Yqfi0[epoch]) , axis = 0) for epoch in Range}"
   ]
  },
  {
   "cell_type": "code",
   "execution_count": 64,
   "metadata": {},
   "outputs": [],
   "source": [
    "H0 = {epoch: np.concatenate( ( (HYp0[epoch], HYqfi0[epoch], Hfi_GP0[epoch]) ) , axis = 0) for epoch in Range}"
   ]
  },
  {
   "cell_type": "code",
   "execution_count": 66,
   "metadata": {},
   "outputs": [],
   "source": [
    "ddx, ddy, ddz = Rgln[te][sv_gln0[0]].x - Bgln[te][sv_gln0[0]].x, Rgln[te][sv_gln0[0]].y - Bgln[te][sv_gln0[0]].y, Rgln[te][sv_gln0[0]].z - Bgln[te][sv_gln0[0]].z\n",
    "\n",
    "dT = np.matrix([ddx, ddy, ddz]).T"
   ]
  },
  {
   "cell_type": "code",
   "execution_count": null,
   "metadata": {},
   "outputs": [],
   "source": [
    "us = 0\n",
    "d = figure(width = 1200, plot_height = 250)\n",
    "# d.line(Range, [np.array(np.abs( dY0[te].Yqfi - HYqfi0[te] * (dT) ))[0][0] for te in Range], color = 'red', legend = '6')\n",
    "# d.line(Range, [np.array(np.abs( dY0[te].Yqfi - HYqfi0[te] * (dT) ))[1][0] for te in Range], color = 'blue', legend = '24')\n",
    "# d.line(Range, [np.array(np.abs( dY0[te].Yqfi - HYqfi0[te] * (dT) ))[2][0] for te in Range], color = 'green', legend = '25')\n",
    "# d.line(Range, [np.array(np.abs( dY0[te].Yqfi - HYqfi0[te] * (dT) ))[3][0] for te in Range], color = 'orange', legend = '30')\n",
    "# d.line(Range, [np.array(dY0[te].fi )[us][0] - np.array(dY0[0].fi )[us][0] for te in Range], legend = 'fi_GP')\n",
    "# d.line(Range, [np.array( Hfi_GP0[te] * (dT) )[us][0] - np.array( Hfi_GP0[0] * (dT) )[us][0] for te in Range], color = 'red', legend = f'Hfi * dTetta   sv:{sv_gps0[us]}')\n",
    "d.line(Range, [np.array(np.abs( dY0[te].fi - Hfi_GP0[te] * (dT)))[us][0] -np.array(np.abs( dY0[0].fi - Hfi_GP0[0] * (dT)))[us][0] for te in Range], legend = f'разнциа sv:{sv_gps0[us]}')\n",
    "d.legend.orientation = \"horizontal\"\n",
    "d.legend.location = \"top_left\"\n",
    "show(d)"
   ]
  },
  {
   "cell_type": "code",
   "execution_count": 68,
   "metadata": {},
   "outputs": [
    {
     "name": "stdout",
     "output_type": "stream",
     "text": [
      "[[0.48457322]\n",
      " [0.34172093]\n",
      " [0.09221708]]\n",
      "[[268.9929702 ]\n",
      " [172.61529213]\n",
      " [ 71.49217635]]\n"
     ]
    }
   ],
   "source": [
    "print(np.abs(Y0[ts+60] - (H0[ts+60] * dT)[:2*(JGL-1)])[-(JGL-1):])\n",
    "\n",
    "print(np.abs( dY0[ts+60].fi - Hfi0[ts+60] * (dT) ))"
   ]
  },
  {
   "cell_type": "code",
   "execution_count": null,
   "metadata": {},
   "outputs": [],
   "source": [
    "q"
   ]
  },
  {
   "cell_type": "code",
   "execution_count": null,
   "metadata": {},
   "outputs": [],
   "source": [
    "Rp = np.matrix(np.eye((JGP))* (1.15**2))\n",
    "Rfi = np.matrix(np.eye((JGP))* (0.015**2))\n",
    "Rqfi = 2 * Rfi"
   ]
  },
  {
   "cell_type": "code",
   "execution_count": null,
   "metadata": {},
   "outputs": [],
   "source": [
    "R1p = 2 * Rp\n",
    "R1fi = 2 * Rfi\n",
    "R1qfi = 2 * Rqfi\n",
    "RW1qfi = R1qfi * lam**2"
   ]
  },
  {
   "cell_type": "code",
   "execution_count": null,
   "metadata": {},
   "outputs": [],
   "source": [
    "TR2 = np.eye((JGP-1))\n",
    "TR2 = np.concatenate((TR2, np.matrix(np.ones((JGP-1))*-1).T), axis = 1)\n",
    "#TR2[sv_gps0.index(el)][sv_gps0.index(el)] = 0\n",
    "#TR2 = np.mqatrix(TR2)\n",
    "#TR2 = np.delete(TR2, sv_gps0.index(el), 1)"
   ]
  },
  {
   "cell_type": "code",
   "execution_count": null,
   "metadata": {},
   "outputs": [],
   "source": [
    "R2p = TR2 * R1p * TR2.T\n",
    "R2fi = TR2 * R1fi * TR2.T\n",
    "R2qfi = TR2 * RW1qfi * TR2.T\n",
    "LAM = np.matrix(np.eye(JGP)*lam)\n",
    "CRqfifi = 2 * TR2 * LAM * Rfi * TR2.T"
   ]
  },
  {
   "cell_type": "code",
   "execution_count": null,
   "metadata": {},
   "outputs": [],
   "source": [
    "Null = np.matrix(np.zeros((JGP-1, JGP-1)))"
   ]
  },
  {
   "cell_type": "code",
   "execution_count": null,
   "metadata": {},
   "outputs": [],
   "source": [
    "R_GP = np.concatenate((np.concatenate((R2p, Null, Null), axis = 0),\n",
    "                np.concatenate((Null, R2qfi, CRqfifi.T), axis = 0),\n",
    "                np.concatenate((Null, CRqfifi, R2fi), axis = 0)), axis = 1)"
   ]
  },
  {
   "cell_type": "code",
   "execution_count": null,
   "metadata": {},
   "outputs": [],
   "source": [
    "B = R_GP.I"
   ]
  },
  {
   "cell_type": "code",
   "execution_count": null,
   "metadata": {},
   "outputs": [],
   "source": [
    "D = B - B * H_GP0[te] * (H_GP0[te].T * B * H_GP0[te]).I * H_GP0[te].T * B"
   ]
  },
  {
   "cell_type": "code",
   "execution_count": null,
   "metadata": {},
   "outputs": [],
   "source": [
    "#D = np.arange(12*12).reshape((12,12))"
   ]
  },
  {
   "cell_type": "code",
   "execution_count": null,
   "metadata": {},
   "outputs": [],
   "source": [
    "Dpp = D[:(JGP-1)*2,:(JGP-1)*2]\n",
    "\n",
    "Dqp = D[(JGP-1)*2:,:(JGP-1)*2]\n",
    "\n",
    "Dpq = D[:(JGP-1)*2,(JGP-1)*2:]\n",
    "\n",
    "Dqq = D[(JGP-1)*2:,(JGP-1)*2:]"
   ]
  },
  {
   "cell_type": "code",
   "execution_count": null,
   "metadata": {},
   "outputs": [],
   "source": [
    "kzv = (-1) * Dqq.I * Dqp * Y_GP0[te] - dY0[te].fi\n",
    "KVF =lambda k: (k - kzv).T * Dqq * (k - kzv)"
   ]
  },
  {
   "cell_type": "code",
   "execution_count": null,
   "metadata": {},
   "outputs": [],
   "source": [
    "io.savemat('PYtoMAT.mat', {'Dqq': Dqq, 'kzv': kzv})"
   ]
  },
  {
   "cell_type": "code",
   "execution_count": null,
   "metadata": {},
   "outputs": [],
   "source": [
    "K = np.matrix(io.loadmat('MATtoPY')['kmin'], dtype = 'int')"
   ]
  },
  {
   "cell_type": "code",
   "execution_count": null,
   "metadata": {},
   "outputs": [],
   "source": [
    "i = 1\n",
    "j = i+1\n",
    "kmin = K[:,j:j+1]\n",
    "ksled = K[:,i:i+1]"
   ]
  },
  {
   "cell_type": "code",
   "execution_count": null,
   "metadata": {},
   "outputs": [],
   "source": [
    "dT = (H_GP0[te].T * B * H_GP0[te]).I * H_GP0[te].T * B * np.concatenate((Y_GP0[te], dY0[te].fi + kmin), axis = 0)\n",
    "print(dT, '  ', popr(filename))"
   ]
  },
  {
   "cell_type": "code",
   "execution_count": null,
   "metadata": {},
   "outputs": [],
   "source": [
    "KNTR = (KVF(ksled) / KVF(kmin)).tolist()[0][0]\n",
    "KNTR"
   ]
  },
  {
   "cell_type": "code",
   "execution_count": null,
   "metadata": {},
   "outputs": [],
   "source": [
    "KVF(ksled)"
   ]
  },
  {
   "cell_type": "code",
   "execution_count": null,
   "metadata": {},
   "outputs": [],
   "source": [
    "KVF(kmin)"
   ]
  },
  {
   "cell_type": "code",
   "execution_count": null,
   "metadata": {},
   "outputs": [],
   "source": [
    "def Q(sv, ts, te):\n",
    "    ddqfi = {sv: lam*(dqfi(sv, te) - dqfi(el, te)) for sv in sv_gps0}\n",
    "    ddfi = {sv: dfi(sv, te) - dfi(el, te) for sv in sv_gps0}\n",
    "    ddp = {sv: dp(sv, te) - dp(el, te) for sv in sv_gps0}\n",
    "    \n",
    "    Yp_GP = np.matrix([dR(sv, te)  - ddp[sv] for sv in sv_gps0 if sv!= el]).T\n",
    "    HYp = np.matrix([(hx(te, sv) - hx(te, el),\n",
    "                   hy(te, sv) - hy(te, el),\n",
    "                   hz(te, sv) - hz(te, el)) for sv in sv_gps0 if sv != el])\n",
    "    Yqfi_GP = np.matrix([dqR(sv, te, ts) - dqR(el, te, ts) - ddqfi[sv] for sv in sv_gps0 if sv!= el]).T\n",
    "    HYqfix = [ hx(te, sv) - hx(ts, sv) - hx(te, el) + hx(ts, el)  for sv in sv_gps0 if sv != el]\n",
    "    HYqfiy = [ hy(te, sv) - hy(ts, sv) - hy(te, el) + hy(ts, el)  for sv in sv_gps0 if sv != el]\n",
    "    HYqfiz = [ hz(te, sv) - hz(ts, sv) - hz(te, el) + hz(ts, el)  for sv in sv_gps0 if sv != el]\n",
    "\n",
    "    HYqfi = np.matrix([*zip(HYqfix, HYqfiy, HYqfiz)])\n",
    "    fi_GP =  np.matrix([dR(sv, te) / lam - ddfi[sv] for sv in sv_gps0 if sv!= el]).T\n",
    "    Hfi_GP = HYp / lam\n",
    "    \n",
    "    Y_GP = np.zeros((2*len(Yp_GP),1))\n",
    "    Y_GP[:len(Yp_GP)] = Yp_GP\n",
    "    Y_GP[len(Yp_GP):2*len(Yp_GP)] = Yqfi_GP\n",
    "    Y_GP = np.matrix(Y_GP)\n",
    "    \n",
    "    H_GP = np.zeros((3*len(HYp),3))\n",
    "    H_GP[:len(HYp)] = HYp\n",
    "    H_GP[len(HYp):2*len(HYp)] = HYqfi\n",
    "    H_GP[2*len(HYp):3*len(HYp)] = Hfi_GP\n",
    "    H_GP = np.matrix(H_GP)\n",
    "    \n",
    "    ddx, ddy, ddz = Rgps[te][sv].x - Bgps[te][sv].x, Rgps[te][sv].y - Bgps[te][sv].y, Rgps[te][sv].z - Bgps[te][sv].z\n",
    "    dTetta = np.matrix([ddx, ddy, ddz]).T\n",
    "    \n",
    "    return np.abs(Y_GP - (H_GP * dTetta)[:2*len(Yp_GP)])#[-len(Yp_GP):]"
   ]
  },
  {
   "cell_type": "code",
   "execution_count": null,
   "metadata": {},
   "outputs": [],
   "source": [
    "#Dqq\n",
    "[1769.95389611312 -960.302974544202 68.842325950905;\n",
    "-960.302974544202 1944.51339220187 -178.926983405045;\n",
    "68.842325950905 -178.926983405045 16.7690061520173]"
   ]
  },
  {
   "cell_type": "code",
   "execution_count": null,
   "metadata": {},
   "outputs": [],
   "source": [
    "#kzv\n",
    "[0.623344115996358; 4.175518871976; 51.7000426397589;]"
   ]
  },
  {
   "cell_type": "code",
   "execution_count": null,
   "metadata": {},
   "outputs": [],
   "source": [
    "#lDlt\n",
    "[16.76900615201726 0.32989935223315 0.08472742086124;\n",
    "0.32989935223315 35.34447066872609 -0.38709318743381;\n",
    "0.08472742086124 -0.38709318743381 45.45709469463232;]"
   ]
  },
  {
   "cell_type": "code",
   "execution_count": null,
   "metadata": {},
   "outputs": [],
   "source": []
  },
  {
   "cell_type": "code",
   "execution_count": null,
   "metadata": {},
   "outputs": [],
   "source": [
    "# d = figure(width = 1000, plot_height = 350,)\n",
    "# d.line(Range, [Q(6, 0, step)[4][0] for step in Range], color = 'red', legend = str(6))\n",
    "# d.line(Range, [Q(6, 0, step)[5][0] for step in Range], color = 'green', legend = str(24))\n",
    "# d.line(Range, [Q(6, 0, step)[6][0] for step in Range], color = 'orange', legend = str(25))\n",
    "# d.line(Range, [Q(6, 0, step)[7][0] for step in Range], color = 'yellow', legend = str(30))\n",
    "# show(d)"
   ]
  },
  {
   "cell_type": "code",
   "execution_count": null,
   "metadata": {},
   "outputs": [],
   "source": [
    "# p = figure(width = 1000, plot_height = 400,  title=\"Неопределенное целое b1-\"+filename[5:7]+' для ГЛОНАСС', \n",
    "#            x_axis_label='Эпоха', y_axis_label='М',\n",
    "#            tools=TOOLS, toolbar_location=\"below\",)\n",
    "\n",
    "# for usi, color in zip(sv_gps0, Category10[10]):\n",
    "#     #if usi == el: continue\n",
    "#     p.line(Range, [Bgps[epoch][usi].el for epoch in Range],\n",
    "#            color = color, alpha = 0.8, muted_color=color, muted_alpha=0.2, legend=str(usi), line_width = 1)\n",
    "# show(p)"
   ]
  },
  {
   "cell_type": "code",
   "execution_count": null,
   "metadata": {},
   "outputs": [],
   "source": [
    "# fin = 0\n",
    "# xr = 0.#2846214.026350547\n",
    "# yr = 0.#2201612.497401512\n",
    "# zr = 0.#5248760.89142531\n",
    "# dRr = 0.\n",
    "\n",
    "# def R(xr,yr,zr):\n",
    "#     return np.sqrt((xr-X)**2+(yr-Y)**2+(zr-Z)**2)\n",
    "\n",
    "# def H(xr,yr,zr):\n",
    "#     Rr = R(xr,yr,zr)\n",
    "#     hx = (xr-X)/Rr\n",
    "#     hy = (yr-Y)/Rr\n",
    "#     hz = (zr-Z)/Rr\n",
    "#     return np.matrix([[hx[i], hy[i], hz[i], 1.] for i in range(len(hx))])\n",
    "\n",
    "# def Xi(dRr,Rr):\n",
    "#     xi = (PDj+dTj)*ct.c-dRr-Rr\n",
    "#     #return np.array(list(map(lambda val: val**2, xi)))\n",
    "#     return xi\n",
    "\n",
    "# def dTett0(H,Xi):\n",
    "#     xi = np.matrix(Xi).T\n",
    "#     A = H.T*H\n",
    "#     B = H.T\n",
    "#     #return np.linalg.lstsq(H,xi,rcond=None)[0]\n",
    "#     return np.linalg.lstsq(A,B*xi,rcond=None)[0]\n",
    "#     #return np.linalg.lstsq(H,xi)[0]\n",
    "\n",
    "# def step_ord(xr,yr,zr,dRr):\n",
    "#     Rr = R(xr,yr,zr)\n",
    "#     H0 = H(xr,yr,zr)\n",
    "#     xi = Xi(dRr,Rr)\n",
    "#     dT = dTett0(H0,xi)\n",
    "#     xr += dT[0,0]\n",
    "#     yr += dT[1,0]\n",
    "#     zr += dT[2,0]\n",
    "#     dRr += dT[3,0]\n",
    "#     return xr,yr,zr,dRr,dT\n",
    "\n",
    "# def coord_modif(xr,yr,zr):\n",
    "#     Rr = R(xr,yr,zr)\n",
    "#     tau8 = Rr/(ct.c)\n",
    "#     alpha = omega3*tau8\n",
    "#     xm = X + alpha*Y\n",
    "#     ym = Y - alpha*X\n",
    "#     zm = Z\n",
    "#     return xm,ym,zm\n",
    "\n",
    "# def PR(dTett0):\n",
    "#     dT0 = np.abs(dTett0)\n",
    "#     return dT0[0] < 1. and dT0[1] < 1. and dT0[2] < 1. and dT0[3] < 1.\n",
    "\n",
    "# fR = lambda xr,yr,zr: np.sqrt((xr)**2+(yr)**2+(zr)**2)\n",
    "\n",
    "# j = 0\n",
    "# while fin != 1 and j<2000:\n",
    "#     #print(R(xr,yr,zr))\n",
    "#     xr,yr,zr,dRr,dT = step_ord(xr,yr,zr,dRr)\n",
    "#     Rr = fR(*[xr,yr,zr])\n",
    "#     #print(\"step {}\".format(j+1))\n",
    "#     #print('xr: ',xr,'\\nyr: ',yr,'\\t\\tR: ',Rr,'\\nzr: ',zr,'\\ndRr: ',dRr,'\\n')\n",
    "#     j+=1\n",
    "#     if PR(dT):\n",
    "#         X,Y,Z = coord_modif(xr,yr,zr)\n",
    "#         xr,yr,zr,dRr,dT = step_ord(xr,yr,zr,dRr)\n",
    "#         print('uspeh')\n",
    "#         print('xr: ',xr,'\\nyr: ',yr,'\\t\\tR: ',Rr,'\\nzr: ',zr,'\\ndRr: ',dRr,'\\n')\n",
    "#         fin = 1"
   ]
  },
  {
   "cell_type": "code",
   "execution_count": null,
   "metadata": {},
   "outputs": [],
   "source": [
    "# %%time\n",
    "# Bgln = StatusGLN(B1, bgln)\n",
    "# Rgln = StatusGLN(R1, rgln, dx, dy, dz)\n",
    "\n",
    "# B = [*Bgln[0].keys()]\n",
    "# B = [55, 57]\n",
    "# B0 = [18, 3]\n",
    "# B = sv_arr0\n",
    "# B0 = [5, 21, 18, 3]\n",
    "\n",
    "# Range = range(len(Rgln))\n",
    "# #Range = range(1300,2100)\n",
    "# dX0 = {epoch: {sv: d_x0(Rgln[epoch][sv].cp - Bgln[epoch][sv].cp,\n",
    "#                         Rgln[epoch][sv].R  - Bgln[epoch][sv].R,\n",
    "#                         Rgln[epoch][sv].pr*C - Bgln[epoch][sv].pr*C) for sv in B} for epoch in Range}\n",
    "\n",
    "# el = 55\n",
    "# ddX0 = {epoch: {sv: dd_x0(dX0[epoch][sv].d_fi - dX0[epoch][el].d_fi,\n",
    "#                           dX0[epoch][sv].d_R / lam_gln[sv] - dX0[epoch][el].d_R / lam_gln[el],\n",
    "#                           (1 / (len(B) * (C / (F_gln[sv] - F_gln[el])))) * np.sum([dX0[epoch][svm].d_R - dX0[epoch][svm].d_p for svm in B])) for sv in B if sv != el} for epoch in  Range}\n",
    "\n",
    "# ddM0 = {epoch: {sv: ddX0[epoch][sv].dd_fi - ddX0[epoch][sv].dd_R + ddX0[epoch][sv].dd_p for sv in B if sv != el} for epoch in  Range}\n",
    "# ddMsv0 = {sv: [ddM0[epoch][sv]-ddM0[Range[0]][sv] for epoch in Range] for sv in B if sv != el}"
   ]
  },
  {
   "cell_type": "code",
   "execution_count": null,
   "metadata": {},
   "outputs": [],
   "source": []
  }
 ],
 "metadata": {
  "kernelspec": {
   "display_name": "Python 3",
   "language": "python",
   "name": "python3"
  },
  "language_info": {
   "codemirror_mode": {
    "name": "ipython",
    "version": 3
   },
   "file_extension": ".py",
   "mimetype": "text/x-python",
   "name": "python",
   "nbconvert_exporter": "python",
   "pygments_lexer": "ipython3",
   "version": "3.6.5"
  }
 },
 "nbformat": 4,
 "nbformat_minor": 2
}
